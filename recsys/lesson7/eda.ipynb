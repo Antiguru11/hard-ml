{
 "cells": [
  {
   "cell_type": "markdown",
   "metadata": {},
   "source": [
    "# Setup"
   ]
  },
  {
   "cell_type": "code",
   "execution_count": 1,
   "metadata": {},
   "outputs": [],
   "source": [
    "import boto3\n",
    "\n",
    "import columns\n",
    "import constants\n",
    "from utils.io.s3 import download_dataframe, list_objects"
   ]
  },
  {
   "cell_type": "code",
   "execution_count": 2,
   "metadata": {},
   "outputs": [],
   "source": [
    "s3_session = boto3.session.Session()\n",
    "s3_client = s3_session.client(service_name='s3', endpoint_url='https://storage.yandexcloud.net')"
   ]
  },
  {
   "cell_type": "code",
   "execution_count": 3,
   "metadata": {},
   "outputs": [],
   "source": [
    "dataset_df = download_dataframe(s3_client, constants.S3_BUCKET, constants.DATA_PATH / 'train.parquet')"
   ]
  },
  {
   "cell_type": "markdown",
   "metadata": {},
   "source": [
    "# Browse data"
   ]
  },
  {
   "cell_type": "code",
   "execution_count": 4,
   "metadata": {},
   "outputs": [
    {
     "data": {
      "text/html": [
       "<div>\n",
       "<style scoped>\n",
       "    .dataframe tbody tr th:only-of-type {\n",
       "        vertical-align: middle;\n",
       "    }\n",
       "\n",
       "    .dataframe tbody tr th {\n",
       "        vertical-align: top;\n",
       "    }\n",
       "\n",
       "    .dataframe thead th {\n",
       "        text-align: right;\n",
       "    }\n",
       "</style>\n",
       "<table border=\"1\" class=\"dataframe\">\n",
       "  <thead>\n",
       "    <tr style=\"text-align: right;\">\n",
       "      <th></th>\n",
       "      <th>uid</th>\n",
       "      <th>friend_uid</th>\n",
       "    </tr>\n",
       "  </thead>\n",
       "  <tbody>\n",
       "    <tr>\n",
       "      <th>0</th>\n",
       "      <td>93464</td>\n",
       "      <td>114312</td>\n",
       "    </tr>\n",
       "    <tr>\n",
       "      <th>1</th>\n",
       "      <td>93464</td>\n",
       "      <td>103690</td>\n",
       "    </tr>\n",
       "    <tr>\n",
       "      <th>2</th>\n",
       "      <td>93464</td>\n",
       "      <td>108045</td>\n",
       "    </tr>\n",
       "    <tr>\n",
       "      <th>3</th>\n",
       "      <td>93464</td>\n",
       "      <td>116128</td>\n",
       "    </tr>\n",
       "    <tr>\n",
       "      <th>4</th>\n",
       "      <td>93464</td>\n",
       "      <td>94113</td>\n",
       "    </tr>\n",
       "  </tbody>\n",
       "</table>\n",
       "</div>"
      ],
      "text/plain": [
       "     uid  friend_uid\n",
       "0  93464      114312\n",
       "1  93464      103690\n",
       "2  93464      108045\n",
       "3  93464      116128\n",
       "4  93464       94113"
      ]
     },
     "execution_count": 4,
     "metadata": {},
     "output_type": "execute_result"
    }
   ],
   "source": [
    "dataset_df.head()"
   ]
  },
  {
   "cell_type": "markdown",
   "metadata": {},
   "source": [
    "# Show recs"
   ]
  },
  {
   "cell_type": "code",
   "execution_count": 6,
   "metadata": {},
   "outputs": [],
   "source": [
    "pipeline_id = 'random'"
   ]
  },
  {
   "cell_type": "code",
   "execution_count": 7,
   "metadata": {},
   "outputs": [
    {
     "data": {
      "text/plain": [
       "['hardml/recsys/lesson7/submissions/random/20240323T084044.parquet',\n",
       " 'hardml/recsys/lesson7/submissions/random/20240323T084634.parquet']"
      ]
     },
     "execution_count": 7,
     "metadata": {},
     "output_type": "execute_result"
    }
   ],
   "source": [
    "list_objects(s3_client, constants.S3_BUCKET, constants.SUBMISSION_PATH / pipeline_id)"
   ]
  },
  {
   "cell_type": "code",
   "execution_count": 8,
   "metadata": {},
   "outputs": [
    {
     "data": {
      "text/html": [
       "<div>\n",
       "<style scoped>\n",
       "    .dataframe tbody tr th:only-of-type {\n",
       "        vertical-align: middle;\n",
       "    }\n",
       "\n",
       "    .dataframe tbody tr th {\n",
       "        vertical-align: top;\n",
       "    }\n",
       "\n",
       "    .dataframe thead th {\n",
       "        text-align: right;\n",
       "    }\n",
       "</style>\n",
       "<table border=\"1\" class=\"dataframe\">\n",
       "  <thead>\n",
       "    <tr style=\"text-align: right;\">\n",
       "      <th></th>\n",
       "      <th>user_id</th>\n",
       "      <th>y_recs</th>\n",
       "    </tr>\n",
       "  </thead>\n",
       "  <tbody>\n",
       "    <tr>\n",
       "      <th>0</th>\n",
       "      <td>93464</td>\n",
       "      <td>[970, 37113, 3824, 81265, 57483, 90485, 115430...</td>\n",
       "    </tr>\n",
       "    <tr>\n",
       "      <th>1</th>\n",
       "      <td>47920</td>\n",
       "      <td>[85285, 18046, 65153, 59009, 6078, 105923, 462...</td>\n",
       "    </tr>\n",
       "    <tr>\n",
       "      <th>2</th>\n",
       "      <td>65296</td>\n",
       "      <td>[37196, 87766, 6087, 63380, 60169, 49929, 4912...</td>\n",
       "    </tr>\n",
       "    <tr>\n",
       "      <th>3</th>\n",
       "      <td>55120</td>\n",
       "      <td>[108104, 28934, 56648, 115118, 53844, 105602, ...</td>\n",
       "    </tr>\n",
       "    <tr>\n",
       "      <th>4</th>\n",
       "      <td>20360</td>\n",
       "      <td>[22694, 72573, 85885, 110471, 97370, 93543, 70...</td>\n",
       "    </tr>\n",
       "    <tr>\n",
       "      <th>5</th>\n",
       "      <td>48992</td>\n",
       "      <td>[39157, 114685, 48896, 19601, 22013, 44768, 80...</td>\n",
       "    </tr>\n",
       "    <tr>\n",
       "      <th>6</th>\n",
       "      <td>12552</td>\n",
       "      <td>[20267, 99861, 62400, 21906, 45115, 84767, 619...</td>\n",
       "    </tr>\n",
       "    <tr>\n",
       "      <th>7</th>\n",
       "      <td>5896</td>\n",
       "      <td>[58692, 15469, 103352, 49907, 51742, 10415, 90...</td>\n",
       "    </tr>\n",
       "    <tr>\n",
       "      <th>8</th>\n",
       "      <td>70824</td>\n",
       "      <td>[9897, 116547, 84520, 62548, 100729, 27590, 32...</td>\n",
       "    </tr>\n",
       "    <tr>\n",
       "      <th>9</th>\n",
       "      <td>79128</td>\n",
       "      <td>[114030, 39478, 74681, 104066, 42845, 117671, ...</td>\n",
       "    </tr>\n",
       "    <tr>\n",
       "      <th>10</th>\n",
       "      <td>2752</td>\n",
       "      <td>[97239, 1679, 9199, 24666, 80330, 85607, 405, ...</td>\n",
       "    </tr>\n",
       "    <tr>\n",
       "      <th>11</th>\n",
       "      <td>50008</td>\n",
       "      <td>[32094, 71244, 116037, 31517, 60729, 36341, 76...</td>\n",
       "    </tr>\n",
       "    <tr>\n",
       "      <th>12</th>\n",
       "      <td>59592</td>\n",
       "      <td>[4229, 71676, 42839, 11250, 29186, 73732, 7990...</td>\n",
       "    </tr>\n",
       "    <tr>\n",
       "      <th>13</th>\n",
       "      <td>101480</td>\n",
       "      <td>[109156, 42311, 3138, 48657, 48989, 42173, 641...</td>\n",
       "    </tr>\n",
       "    <tr>\n",
       "      <th>14</th>\n",
       "      <td>106800</td>\n",
       "      <td>[19328, 86579, 5862, 4725, 13058, 67136, 92639...</td>\n",
       "    </tr>\n",
       "    <tr>\n",
       "      <th>15</th>\n",
       "      <td>55800</td>\n",
       "      <td>[46730, 107100, 97966, 72329, 107858, 50181, 9...</td>\n",
       "    </tr>\n",
       "    <tr>\n",
       "      <th>16</th>\n",
       "      <td>22712</td>\n",
       "      <td>[71053, 97632, 11181, 77566, 78031, 36767, 251...</td>\n",
       "    </tr>\n",
       "    <tr>\n",
       "      <th>17</th>\n",
       "      <td>42816</td>\n",
       "      <td>[64903, 10854, 13196, 52893, 52532, 85404, 428...</td>\n",
       "    </tr>\n",
       "    <tr>\n",
       "      <th>18</th>\n",
       "      <td>78840</td>\n",
       "      <td>[20268, 24834, 73966, 794, 8797, 10588, 39469,...</td>\n",
       "    </tr>\n",
       "    <tr>\n",
       "      <th>19</th>\n",
       "      <td>33456</td>\n",
       "      <td>[22117, 50420, 99877, 30857, 105765, 94271, 33...</td>\n",
       "    </tr>\n",
       "  </tbody>\n",
       "</table>\n",
       "</div>"
      ],
      "text/plain": [
       "    user_id                                             y_recs\n",
       "0     93464  [970, 37113, 3824, 81265, 57483, 90485, 115430...\n",
       "1     47920  [85285, 18046, 65153, 59009, 6078, 105923, 462...\n",
       "2     65296  [37196, 87766, 6087, 63380, 60169, 49929, 4912...\n",
       "3     55120  [108104, 28934, 56648, 115118, 53844, 105602, ...\n",
       "4     20360  [22694, 72573, 85885, 110471, 97370, 93543, 70...\n",
       "5     48992  [39157, 114685, 48896, 19601, 22013, 44768, 80...\n",
       "6     12552  [20267, 99861, 62400, 21906, 45115, 84767, 619...\n",
       "7      5896  [58692, 15469, 103352, 49907, 51742, 10415, 90...\n",
       "8     70824  [9897, 116547, 84520, 62548, 100729, 27590, 32...\n",
       "9     79128  [114030, 39478, 74681, 104066, 42845, 117671, ...\n",
       "10     2752  [97239, 1679, 9199, 24666, 80330, 85607, 405, ...\n",
       "11    50008  [32094, 71244, 116037, 31517, 60729, 36341, 76...\n",
       "12    59592  [4229, 71676, 42839, 11250, 29186, 73732, 7990...\n",
       "13   101480  [109156, 42311, 3138, 48657, 48989, 42173, 641...\n",
       "14   106800  [19328, 86579, 5862, 4725, 13058, 67136, 92639...\n",
       "15    55800  [46730, 107100, 97966, 72329, 107858, 50181, 9...\n",
       "16    22712  [71053, 97632, 11181, 77566, 78031, 36767, 251...\n",
       "17    42816  [64903, 10854, 13196, 52893, 52532, 85404, 428...\n",
       "18    78840  [20268, 24834, 73966, 794, 8797, 10588, 39469,...\n",
       "19    33456  [22117, 50420, 99877, 30857, 105765, 94271, 33..."
      ]
     },
     "execution_count": 8,
     "metadata": {},
     "output_type": "execute_result"
    }
   ],
   "source": [
    "submission_df = download_dataframe(\n",
    "    s3_client,\n",
    "    constants.S3_BUCKET,\n",
    "    constants.SUBMISSION_PATH / pipeline_id / '20240323T084634.parquet'\n",
    ")\n",
    "submission_df.head(20)"
   ]
  }
 ],
 "metadata": {
  "kernelspec": {
   "display_name": "recsys",
   "language": "python",
   "name": "python3"
  },
  "language_info": {
   "codemirror_mode": {
    "name": "ipython",
    "version": 3
   },
   "file_extension": ".py",
   "mimetype": "text/x-python",
   "name": "python",
   "nbconvert_exporter": "python",
   "pygments_lexer": "ipython3",
   "version": "3.8.10"
  }
 },
 "nbformat": 4,
 "nbformat_minor": 2
}
