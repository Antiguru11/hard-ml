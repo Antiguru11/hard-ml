{
 "cells": [
  {
   "cell_type": "markdown",
   "metadata": {},
   "source": [
    "# Setup"
   ]
  },
  {
   "cell_type": "code",
   "execution_count": 4,
   "metadata": {},
   "outputs": [],
   "source": [
    "import boto3\n",
    "\n",
    "import columns\n",
    "import constants\n",
    "from utils.io.s3 import download_dataframe, list_objects"
   ]
  },
  {
   "cell_type": "code",
   "execution_count": 5,
   "metadata": {},
   "outputs": [],
   "source": [
    "s3_session = boto3.session.Session()\n",
    "s3_client = s3_session.client(service_name='s3', endpoint_url='https://storage.yandexcloud.net')"
   ]
  },
  {
   "cell_type": "code",
   "execution_count": 6,
   "metadata": {},
   "outputs": [],
   "source": [
    "dataset_df = download_dataframe(s3_client, constants.S3_BUCKET, constants.DATA_PATH / 'dataset.parquet')"
   ]
  },
  {
   "cell_type": "markdown",
   "metadata": {},
   "source": [
    "# Browse data"
   ]
  },
  {
   "cell_type": "code",
   "execution_count": 5,
   "metadata": {},
   "outputs": [
    {
     "data": {
      "text/html": [
       "<div>\n",
       "<style scoped>\n",
       "    .dataframe tbody tr th:only-of-type {\n",
       "        vertical-align: middle;\n",
       "    }\n",
       "\n",
       "    .dataframe tbody tr th {\n",
       "        vertical-align: top;\n",
       "    }\n",
       "\n",
       "    .dataframe thead th {\n",
       "        text-align: right;\n",
       "    }\n",
       "</style>\n",
       "<table border=\"1\" class=\"dataframe\">\n",
       "  <thead>\n",
       "    <tr style=\"text-align: right;\">\n",
       "      <th></th>\n",
       "      <th>user_id</th>\n",
       "      <th>artist_id</th>\n",
       "    </tr>\n",
       "  </thead>\n",
       "  <tbody>\n",
       "    <tr>\n",
       "      <th>0</th>\n",
       "      <td>d705b538-1bd8-48a3-9dad-8941dee23ff7</td>\n",
       "      <td>69c71d72-7ed8-42c4-b9ec-c33976a310b9</td>\n",
       "    </tr>\n",
       "    <tr>\n",
       "      <th>1</th>\n",
       "      <td>d705b538-1bd8-48a3-9dad-8941dee23ff7</td>\n",
       "      <td>30bf469f-9abd-4011-a210-ff19fee29d49</td>\n",
       "    </tr>\n",
       "    <tr>\n",
       "      <th>2</th>\n",
       "      <td>d705b538-1bd8-48a3-9dad-8941dee23ff7</td>\n",
       "      <td>a26c9335-2459-4c89-a00c-fdecbeb2c8c4</td>\n",
       "    </tr>\n",
       "    <tr>\n",
       "      <th>3</th>\n",
       "      <td>d705b538-1bd8-48a3-9dad-8941dee23ff7</td>\n",
       "      <td>69c903b5-dff0-4ded-86e4-ea97ac4e1265</td>\n",
       "    </tr>\n",
       "    <tr>\n",
       "      <th>4</th>\n",
       "      <td>d705b538-1bd8-48a3-9dad-8941dee23ff7</td>\n",
       "      <td>af8eef9d-13aa-4ffa-b77a-777645ce76cd</td>\n",
       "    </tr>\n",
       "  </tbody>\n",
       "</table>\n",
       "</div>"
      ],
      "text/plain": [
       "                                user_id                             artist_id\n",
       "0  d705b538-1bd8-48a3-9dad-8941dee23ff7  69c71d72-7ed8-42c4-b9ec-c33976a310b9\n",
       "1  d705b538-1bd8-48a3-9dad-8941dee23ff7  30bf469f-9abd-4011-a210-ff19fee29d49\n",
       "2  d705b538-1bd8-48a3-9dad-8941dee23ff7  a26c9335-2459-4c89-a00c-fdecbeb2c8c4\n",
       "3  d705b538-1bd8-48a3-9dad-8941dee23ff7  69c903b5-dff0-4ded-86e4-ea97ac4e1265\n",
       "4  d705b538-1bd8-48a3-9dad-8941dee23ff7  af8eef9d-13aa-4ffa-b77a-777645ce76cd"
      ]
     },
     "execution_count": 5,
     "metadata": {},
     "output_type": "execute_result"
    }
   ],
   "source": [
    "dataset_df.head()"
   ]
  },
  {
   "cell_type": "code",
   "execution_count": 6,
   "metadata": {},
   "outputs": [
    {
     "data": {
      "text/html": [
       "<div>\n",
       "<style scoped>\n",
       "    .dataframe tbody tr th:only-of-type {\n",
       "        vertical-align: middle;\n",
       "    }\n",
       "\n",
       "    .dataframe tbody tr th {\n",
       "        vertical-align: top;\n",
       "    }\n",
       "\n",
       "    .dataframe thead th {\n",
       "        text-align: right;\n",
       "    }\n",
       "</style>\n",
       "<table border=\"1\" class=\"dataframe\">\n",
       "  <thead>\n",
       "    <tr style=\"text-align: right;\">\n",
       "      <th></th>\n",
       "      <th>user_id</th>\n",
       "      <th>artist_id</th>\n",
       "    </tr>\n",
       "  </thead>\n",
       "  <tbody>\n",
       "    <tr>\n",
       "      <th>count</th>\n",
       "      <td>2275900</td>\n",
       "      <td>2275900</td>\n",
       "    </tr>\n",
       "    <tr>\n",
       "      <th>unique</th>\n",
       "      <td>50000</td>\n",
       "      <td>90076</td>\n",
       "    </tr>\n",
       "    <tr>\n",
       "      <th>top</th>\n",
       "      <td>d4ac1f72-0347-4719-bebe-8c12ec738f57</td>\n",
       "      <td>5cd0ffb5-0cf2-4ecd-8c5b-ca2102e33198</td>\n",
       "    </tr>\n",
       "    <tr>\n",
       "      <th>freq</th>\n",
       "      <td>119</td>\n",
       "      <td>10471</td>\n",
       "    </tr>\n",
       "  </tbody>\n",
       "</table>\n",
       "</div>"
      ],
      "text/plain": [
       "                                     user_id  \\\n",
       "count                                2275900   \n",
       "unique                                 50000   \n",
       "top     d4ac1f72-0347-4719-bebe-8c12ec738f57   \n",
       "freq                                     119   \n",
       "\n",
       "                                   artist_id  \n",
       "count                                2275900  \n",
       "unique                                 90076  \n",
       "top     5cd0ffb5-0cf2-4ecd-8c5b-ca2102e33198  \n",
       "freq                                   10471  "
      ]
     },
     "execution_count": 6,
     "metadata": {},
     "output_type": "execute_result"
    }
   ],
   "source": [
    "dataset_df.describe(include='all')"
   ]
  },
  {
   "cell_type": "code",
   "execution_count": 10,
   "metadata": {},
   "outputs": [
    {
     "data": {
      "text/plain": [
       "count    50000.000000\n",
       "mean        45.518000\n",
       "std          8.025457\n",
       "min         16.000000\n",
       "25%         42.000000\n",
       "50%         45.000000\n",
       "75%         48.000000\n",
       "max        119.000000\n",
       "Name: artist_id, dtype: float64"
      ]
     },
     "execution_count": 10,
     "metadata": {},
     "output_type": "execute_result"
    }
   ],
   "source": [
    "dataset_df.groupby(columns.USER_ID_COLUMN)[columns.ARTIST_ID_COLUMN].agg(lambda items: len(items)).describe()"
   ]
  },
  {
   "cell_type": "code",
   "execution_count": 11,
   "metadata": {},
   "outputs": [
    {
     "data": {
      "text/plain": [
       "count    90076.000000\n",
       "mean        25.266442\n",
       "std        159.648585\n",
       "min          1.000000\n",
       "25%          1.000000\n",
       "50%          3.000000\n",
       "75%          8.000000\n",
       "max      10471.000000\n",
       "Name: user_id, dtype: float64"
      ]
     },
     "execution_count": 11,
     "metadata": {},
     "output_type": "execute_result"
    }
   ],
   "source": [
    "dataset_df.groupby(columns.ARTIST_ID_COLUMN)[columns.USER_ID_COLUMN].agg(lambda items: len(items)).describe()"
   ]
  },
  {
   "cell_type": "code",
   "execution_count": 13,
   "metadata": {},
   "outputs": [
    {
     "data": {
      "text/plain": [
       "False"
      ]
     },
     "execution_count": 13,
     "metadata": {},
     "output_type": "execute_result"
    }
   ],
   "source": [
    "(dataset_df.groupby([columns.USER_ID_COLUMN, columns.ARTIST_ID_COLUMN]).size() == 1).all()"
   ]
  },
  {
   "cell_type": "code",
   "execution_count": 15,
   "metadata": {},
   "outputs": [
    {
     "data": {
      "text/plain": [
       "54"
      ]
     },
     "execution_count": 15,
     "metadata": {},
     "output_type": "execute_result"
    }
   ],
   "source": [
    "dataset_df.groupby(columns.USER_ID_COLUMN)[columns.ARTIST_ID_COLUMN].agg(lambda items: items.nunique() != items.shape[0]).sum()"
   ]
  },
  {
   "cell_type": "markdown",
   "metadata": {},
   "source": [
    "# Show recs"
   ]
  },
  {
   "cell_type": "code",
   "execution_count": 11,
   "metadata": {},
   "outputs": [],
   "source": [
    "pipeline_id = 'w2v'"
   ]
  },
  {
   "cell_type": "code",
   "execution_count": 12,
   "metadata": {},
   "outputs": [
    {
     "data": {
      "text/plain": [
       "['hardml/recsys/lesson5/submissions/w2v/20240309T103120.parquet',\n",
       " 'hardml/recsys/lesson5/submissions/w2v/20240309T104819.parquet',\n",
       " 'hardml/recsys/lesson5/submissions/w2v/20240309T120211.parquet',\n",
       " 'hardml/recsys/lesson5/submissions/w2v/20240309T121129.parquet',\n",
       " 'hardml/recsys/lesson5/submissions/w2v/20240309T121502.parquet',\n",
       " 'hardml/recsys/lesson5/submissions/w2v/20240310T090904.parquet']"
      ]
     },
     "execution_count": 12,
     "metadata": {},
     "output_type": "execute_result"
    }
   ],
   "source": [
    "list_objects(s3_client, constants.S3_BUCKET, constants.SUBMISSION_PATH / pipeline_id)"
   ]
  },
  {
   "cell_type": "code",
   "execution_count": 13,
   "metadata": {},
   "outputs": [
    {
     "data": {
      "text/html": [
       "<div>\n",
       "<style scoped>\n",
       "    .dataframe tbody tr th:only-of-type {\n",
       "        vertical-align: middle;\n",
       "    }\n",
       "\n",
       "    .dataframe tbody tr th {\n",
       "        vertical-align: top;\n",
       "    }\n",
       "\n",
       "    .dataframe thead th {\n",
       "        text-align: right;\n",
       "    }\n",
       "</style>\n",
       "<table border=\"1\" class=\"dataframe\">\n",
       "  <thead>\n",
       "    <tr style=\"text-align: right;\">\n",
       "      <th></th>\n",
       "      <th>user_id</th>\n",
       "      <th>y_rec</th>\n",
       "    </tr>\n",
       "  </thead>\n",
       "  <tbody>\n",
       "    <tr>\n",
       "      <th>0</th>\n",
       "      <td>0000037c-9533-48b4-8d12-7b808fd4dabb</td>\n",
       "      <td>[40d5f4f7-3560-4638-a562-055013eee0d4, d1947eb...</td>\n",
       "    </tr>\n",
       "    <tr>\n",
       "      <th>1</th>\n",
       "      <td>00009c72-2a2b-4cbe-999c-aa7579c72ef4</td>\n",
       "      <td>[5689dc20-471e-44d7-a428-1d3bcae7c7e3, 50bf3bf...</td>\n",
       "    </tr>\n",
       "    <tr>\n",
       "      <th>2</th>\n",
       "      <td>0001c857-a396-43c5-b8bc-e32c41636a88</td>\n",
       "      <td>[5cd0ffb5-0cf2-4ecd-8c5b-ca2102e33198, cc4f544...</td>\n",
       "    </tr>\n",
       "    <tr>\n",
       "      <th>3</th>\n",
       "      <td>0003534e-6452-43b4-9afd-7d8f01e05ded</td>\n",
       "      <td>[50bf3bfe-4b58-4a6e-a193-ccc406a6f6d7, b632249...</td>\n",
       "    </tr>\n",
       "    <tr>\n",
       "      <th>4</th>\n",
       "      <td>0005762b-85e7-4283-98ed-cbb402bdda8c</td>\n",
       "      <td>[310cdc9f-5ea4-4244-b4e8-f2943109c44f, 7de993c...</td>\n",
       "    </tr>\n",
       "    <tr>\n",
       "      <th>5</th>\n",
       "      <td>00066930-0e79-43de-8b0b-489ae642b951</td>\n",
       "      <td>[93bf07d3-5233-4270-a3c4-9815e9d786da, 60b3db7...</td>\n",
       "    </tr>\n",
       "    <tr>\n",
       "      <th>6</th>\n",
       "      <td>00094b33-eae0-4d36-a599-dc911d63e7ea</td>\n",
       "      <td>[c70a9c8c-a44c-4db1-a3ac-268a5326521a, d1947eb...</td>\n",
       "    </tr>\n",
       "    <tr>\n",
       "      <th>7</th>\n",
       "      <td>000d2745-9420-40ee-a62a-667f68c7512a</td>\n",
       "      <td>[3edd02d9-f2ff-4591-bf9b-106e890c08ef, b5baedd...</td>\n",
       "    </tr>\n",
       "    <tr>\n",
       "      <th>8</th>\n",
       "      <td>000f6aa7-094e-4685-9ccf-a8a703387463</td>\n",
       "      <td>[e0d0391a-7454-4d3e-a690-950204ef59bf, 1b73674...</td>\n",
       "    </tr>\n",
       "    <tr>\n",
       "      <th>9</th>\n",
       "      <td>000f8349-8692-4d79-bc5b-5b9abee3b7d5</td>\n",
       "      <td>[5cd0ffb5-0cf2-4ecd-8c5b-ca2102e33198, 40d5f4f...</td>\n",
       "    </tr>\n",
       "    <tr>\n",
       "      <th>10</th>\n",
       "      <td>000fef63-2df9-4a7a-904b-8ade329b2c79</td>\n",
       "      <td>[4b23366c-7fe0-4529-8034-90c8866c3e4e, 3bcf5b3...</td>\n",
       "    </tr>\n",
       "    <tr>\n",
       "      <th>11</th>\n",
       "      <td>00109ee1-cecb-4cea-8ddd-0fdddbe4494c</td>\n",
       "      <td>[4e1063ab-2b1d-471d-aaa6-cbca88b3cf76, e938f98...</td>\n",
       "    </tr>\n",
       "    <tr>\n",
       "      <th>12</th>\n",
       "      <td>001189e3-257d-40f7-bbc7-fc4e889e1eec</td>\n",
       "      <td>[3351dd3b-aad6-4b29-ac41-45494d25e3b7, 6ef0a53...</td>\n",
       "    </tr>\n",
       "    <tr>\n",
       "      <th>13</th>\n",
       "      <td>00120571-36f2-4335-9892-c62e3209099e</td>\n",
       "      <td>[fd93a96e-ed5a-4bd8-8c15-2d03e45970fe, 6fef55d...</td>\n",
       "    </tr>\n",
       "    <tr>\n",
       "      <th>14</th>\n",
       "      <td>001288b2-c3f9-44f2-94c3-675d18c346c9</td>\n",
       "      <td>[c70a9c8c-a44c-4db1-a3ac-268a5326521a, 392d579...</td>\n",
       "    </tr>\n",
       "    <tr>\n",
       "      <th>15</th>\n",
       "      <td>00135e5a-335f-4e69-9cfe-68f7e39a0dbf</td>\n",
       "      <td>[7611fde9-6085-4130-89b5-ee3f3e7ea9f9, 69c71d7...</td>\n",
       "    </tr>\n",
       "    <tr>\n",
       "      <th>16</th>\n",
       "      <td>00167744-e57f-49cc-8ff3-b8f401e06b7d</td>\n",
       "      <td>[c70a9c8c-a44c-4db1-a3ac-268a5326521a, 7611fde...</td>\n",
       "    </tr>\n",
       "    <tr>\n",
       "      <th>17</th>\n",
       "      <td>0016d91c-538c-4842-93f2-fdb6d0667697</td>\n",
       "      <td>[f85f3df4-e97a-4287-9a0d-172a78ac6780, 5cd0ffb...</td>\n",
       "    </tr>\n",
       "    <tr>\n",
       "      <th>18</th>\n",
       "      <td>00180b55-0e8a-4c20-826d-4196abf5c914</td>\n",
       "      <td>[a26c9335-2459-4c89-a00c-fdecbeb2c8c4, 8724a8a...</td>\n",
       "    </tr>\n",
       "    <tr>\n",
       "      <th>19</th>\n",
       "      <td>00191f5b-9cb7-46d6-bb19-5b7ade2231ba</td>\n",
       "      <td>[fc95f767-7a0c-4288-9203-91f75c824a7a, 7aa39eb...</td>\n",
       "    </tr>\n",
       "  </tbody>\n",
       "</table>\n",
       "</div>"
      ],
      "text/plain": [
       "                                 user_id  \\\n",
       "0   0000037c-9533-48b4-8d12-7b808fd4dabb   \n",
       "1   00009c72-2a2b-4cbe-999c-aa7579c72ef4   \n",
       "2   0001c857-a396-43c5-b8bc-e32c41636a88   \n",
       "3   0003534e-6452-43b4-9afd-7d8f01e05ded   \n",
       "4   0005762b-85e7-4283-98ed-cbb402bdda8c   \n",
       "5   00066930-0e79-43de-8b0b-489ae642b951   \n",
       "6   00094b33-eae0-4d36-a599-dc911d63e7ea   \n",
       "7   000d2745-9420-40ee-a62a-667f68c7512a   \n",
       "8   000f6aa7-094e-4685-9ccf-a8a703387463   \n",
       "9   000f8349-8692-4d79-bc5b-5b9abee3b7d5   \n",
       "10  000fef63-2df9-4a7a-904b-8ade329b2c79   \n",
       "11  00109ee1-cecb-4cea-8ddd-0fdddbe4494c   \n",
       "12  001189e3-257d-40f7-bbc7-fc4e889e1eec   \n",
       "13  00120571-36f2-4335-9892-c62e3209099e   \n",
       "14  001288b2-c3f9-44f2-94c3-675d18c346c9   \n",
       "15  00135e5a-335f-4e69-9cfe-68f7e39a0dbf   \n",
       "16  00167744-e57f-49cc-8ff3-b8f401e06b7d   \n",
       "17  0016d91c-538c-4842-93f2-fdb6d0667697   \n",
       "18  00180b55-0e8a-4c20-826d-4196abf5c914   \n",
       "19  00191f5b-9cb7-46d6-bb19-5b7ade2231ba   \n",
       "\n",
       "                                                y_rec  \n",
       "0   [40d5f4f7-3560-4638-a562-055013eee0d4, d1947eb...  \n",
       "1   [5689dc20-471e-44d7-a428-1d3bcae7c7e3, 50bf3bf...  \n",
       "2   [5cd0ffb5-0cf2-4ecd-8c5b-ca2102e33198, cc4f544...  \n",
       "3   [50bf3bfe-4b58-4a6e-a193-ccc406a6f6d7, b632249...  \n",
       "4   [310cdc9f-5ea4-4244-b4e8-f2943109c44f, 7de993c...  \n",
       "5   [93bf07d3-5233-4270-a3c4-9815e9d786da, 60b3db7...  \n",
       "6   [c70a9c8c-a44c-4db1-a3ac-268a5326521a, d1947eb...  \n",
       "7   [3edd02d9-f2ff-4591-bf9b-106e890c08ef, b5baedd...  \n",
       "8   [e0d0391a-7454-4d3e-a690-950204ef59bf, 1b73674...  \n",
       "9   [5cd0ffb5-0cf2-4ecd-8c5b-ca2102e33198, 40d5f4f...  \n",
       "10  [4b23366c-7fe0-4529-8034-90c8866c3e4e, 3bcf5b3...  \n",
       "11  [4e1063ab-2b1d-471d-aaa6-cbca88b3cf76, e938f98...  \n",
       "12  [3351dd3b-aad6-4b29-ac41-45494d25e3b7, 6ef0a53...  \n",
       "13  [fd93a96e-ed5a-4bd8-8c15-2d03e45970fe, 6fef55d...  \n",
       "14  [c70a9c8c-a44c-4db1-a3ac-268a5326521a, 392d579...  \n",
       "15  [7611fde9-6085-4130-89b5-ee3f3e7ea9f9, 69c71d7...  \n",
       "16  [c70a9c8c-a44c-4db1-a3ac-268a5326521a, 7611fde...  \n",
       "17  [f85f3df4-e97a-4287-9a0d-172a78ac6780, 5cd0ffb...  \n",
       "18  [a26c9335-2459-4c89-a00c-fdecbeb2c8c4, 8724a8a...  \n",
       "19  [fc95f767-7a0c-4288-9203-91f75c824a7a, 7aa39eb...  "
      ]
     },
     "execution_count": 13,
     "metadata": {},
     "output_type": "execute_result"
    }
   ],
   "source": [
    "submission_df = download_dataframe(\n",
    "    s3_client,\n",
    "    constants.S3_BUCKET,\n",
    "    constants.SUBMISSION_PATH / pipeline_id / '20240310T090904.parquet'\n",
    ")\n",
    "submission_df.head(20)"
   ]
  },
  {
   "cell_type": "code",
   "execution_count": 26,
   "metadata": {},
   "outputs": [
    {
     "data": {
      "text/plain": [
       "array(['35a3b882-19ee-421c-8135-3bd7f7773b4c',\n",
       "       'ea63c8fd-4e9d-4735-8f87-15c27cd98540',\n",
       "       'c6bc589a-9bd8-4903-b0c9-4eac9e2e2ee6',\n",
       "       'c1ed6dd4-6e22-42c5-983b-8a219955b420',\n",
       "       '42b2f695-ea98-4f1c-8ece-0f61167fdbc9',\n",
       "       'c5920dc9-bde8-4a16-8c64-98c51458497e',\n",
       "       '3809986d-afcc-4329-98c5-f1272de708b4',\n",
       "       '4b23366c-7fe0-4529-8034-90c8866c3e4e',\n",
       "       'a040d9c1-5e56-462b-bc5b-6ab6cc5b2844',\n",
       "       '79e81ed7-39fd-4046-a942-e3a0ded32039'], dtype=object)"
      ]
     },
     "execution_count": 26,
     "metadata": {},
     "output_type": "execute_result"
    }
   ],
   "source": [
    "mask = submission_df['user_id'].str.startswith('1d664c61-55cb')\n",
    "submission_df.loc[mask, 'y_rec'].values[0]"
   ]
  }
 ],
 "metadata": {
  "kernelspec": {
   "display_name": "recsys",
   "language": "python",
   "name": "python3"
  },
  "language_info": {
   "codemirror_mode": {
    "name": "ipython",
    "version": 3
   },
   "file_extension": ".py",
   "mimetype": "text/x-python",
   "name": "python",
   "nbconvert_exporter": "python",
   "pygments_lexer": "ipython3",
   "version": "3.8.10"
  }
 },
 "nbformat": 4,
 "nbformat_minor": 2
}
