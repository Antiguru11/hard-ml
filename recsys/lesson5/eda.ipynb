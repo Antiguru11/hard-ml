{
 "cells": [
  {
   "cell_type": "markdown",
   "metadata": {},
   "source": [
    "# Setup"
   ]
  },
  {
   "cell_type": "code",
   "execution_count": 1,
   "metadata": {},
   "outputs": [],
   "source": [
    "import boto3\n",
    "\n",
    "import columns\n",
    "import constants\n",
    "from utils.io.s3 import download_dataframe, list_objects"
   ]
  },
  {
   "cell_type": "code",
   "execution_count": 2,
   "metadata": {},
   "outputs": [],
   "source": [
    "s3_session = boto3.session.Session()\n",
    "s3_client = s3_session.client(service_name='s3', endpoint_url='https://storage.yandexcloud.net')"
   ]
  },
  {
   "cell_type": "code",
   "execution_count": 3,
   "metadata": {},
   "outputs": [],
   "source": [
    "dataset_df = download_dataframe(s3_client, constants.S3_BUCKET, constants.DATA_PATH / 'dataset.parquet')"
   ]
  },
  {
   "cell_type": "markdown",
   "metadata": {},
   "source": [
    "# Browse data"
   ]
  },
  {
   "cell_type": "code",
   "execution_count": 5,
   "metadata": {},
   "outputs": [
    {
     "data": {
      "text/html": [
       "<div>\n",
       "<style scoped>\n",
       "    .dataframe tbody tr th:only-of-type {\n",
       "        vertical-align: middle;\n",
       "    }\n",
       "\n",
       "    .dataframe tbody tr th {\n",
       "        vertical-align: top;\n",
       "    }\n",
       "\n",
       "    .dataframe thead th {\n",
       "        text-align: right;\n",
       "    }\n",
       "</style>\n",
       "<table border=\"1\" class=\"dataframe\">\n",
       "  <thead>\n",
       "    <tr style=\"text-align: right;\">\n",
       "      <th></th>\n",
       "      <th>user_id</th>\n",
       "      <th>artist_id</th>\n",
       "    </tr>\n",
       "  </thead>\n",
       "  <tbody>\n",
       "    <tr>\n",
       "      <th>0</th>\n",
       "      <td>d705b538-1bd8-48a3-9dad-8941dee23ff7</td>\n",
       "      <td>69c71d72-7ed8-42c4-b9ec-c33976a310b9</td>\n",
       "    </tr>\n",
       "    <tr>\n",
       "      <th>1</th>\n",
       "      <td>d705b538-1bd8-48a3-9dad-8941dee23ff7</td>\n",
       "      <td>30bf469f-9abd-4011-a210-ff19fee29d49</td>\n",
       "    </tr>\n",
       "    <tr>\n",
       "      <th>2</th>\n",
       "      <td>d705b538-1bd8-48a3-9dad-8941dee23ff7</td>\n",
       "      <td>a26c9335-2459-4c89-a00c-fdecbeb2c8c4</td>\n",
       "    </tr>\n",
       "    <tr>\n",
       "      <th>3</th>\n",
       "      <td>d705b538-1bd8-48a3-9dad-8941dee23ff7</td>\n",
       "      <td>69c903b5-dff0-4ded-86e4-ea97ac4e1265</td>\n",
       "    </tr>\n",
       "    <tr>\n",
       "      <th>4</th>\n",
       "      <td>d705b538-1bd8-48a3-9dad-8941dee23ff7</td>\n",
       "      <td>af8eef9d-13aa-4ffa-b77a-777645ce76cd</td>\n",
       "    </tr>\n",
       "  </tbody>\n",
       "</table>\n",
       "</div>"
      ],
      "text/plain": [
       "                                user_id                             artist_id\n",
       "0  d705b538-1bd8-48a3-9dad-8941dee23ff7  69c71d72-7ed8-42c4-b9ec-c33976a310b9\n",
       "1  d705b538-1bd8-48a3-9dad-8941dee23ff7  30bf469f-9abd-4011-a210-ff19fee29d49\n",
       "2  d705b538-1bd8-48a3-9dad-8941dee23ff7  a26c9335-2459-4c89-a00c-fdecbeb2c8c4\n",
       "3  d705b538-1bd8-48a3-9dad-8941dee23ff7  69c903b5-dff0-4ded-86e4-ea97ac4e1265\n",
       "4  d705b538-1bd8-48a3-9dad-8941dee23ff7  af8eef9d-13aa-4ffa-b77a-777645ce76cd"
      ]
     },
     "execution_count": 5,
     "metadata": {},
     "output_type": "execute_result"
    }
   ],
   "source": [
    "dataset_df.head()"
   ]
  },
  {
   "cell_type": "code",
   "execution_count": 6,
   "metadata": {},
   "outputs": [
    {
     "data": {
      "text/html": [
       "<div>\n",
       "<style scoped>\n",
       "    .dataframe tbody tr th:only-of-type {\n",
       "        vertical-align: middle;\n",
       "    }\n",
       "\n",
       "    .dataframe tbody tr th {\n",
       "        vertical-align: top;\n",
       "    }\n",
       "\n",
       "    .dataframe thead th {\n",
       "        text-align: right;\n",
       "    }\n",
       "</style>\n",
       "<table border=\"1\" class=\"dataframe\">\n",
       "  <thead>\n",
       "    <tr style=\"text-align: right;\">\n",
       "      <th></th>\n",
       "      <th>user_id</th>\n",
       "      <th>artist_id</th>\n",
       "    </tr>\n",
       "  </thead>\n",
       "  <tbody>\n",
       "    <tr>\n",
       "      <th>count</th>\n",
       "      <td>2275900</td>\n",
       "      <td>2275900</td>\n",
       "    </tr>\n",
       "    <tr>\n",
       "      <th>unique</th>\n",
       "      <td>50000</td>\n",
       "      <td>90076</td>\n",
       "    </tr>\n",
       "    <tr>\n",
       "      <th>top</th>\n",
       "      <td>d4ac1f72-0347-4719-bebe-8c12ec738f57</td>\n",
       "      <td>5cd0ffb5-0cf2-4ecd-8c5b-ca2102e33198</td>\n",
       "    </tr>\n",
       "    <tr>\n",
       "      <th>freq</th>\n",
       "      <td>119</td>\n",
       "      <td>10471</td>\n",
       "    </tr>\n",
       "  </tbody>\n",
       "</table>\n",
       "</div>"
      ],
      "text/plain": [
       "                                     user_id  \\\n",
       "count                                2275900   \n",
       "unique                                 50000   \n",
       "top     d4ac1f72-0347-4719-bebe-8c12ec738f57   \n",
       "freq                                     119   \n",
       "\n",
       "                                   artist_id  \n",
       "count                                2275900  \n",
       "unique                                 90076  \n",
       "top     5cd0ffb5-0cf2-4ecd-8c5b-ca2102e33198  \n",
       "freq                                   10471  "
      ]
     },
     "execution_count": 6,
     "metadata": {},
     "output_type": "execute_result"
    }
   ],
   "source": [
    "dataset_df.describe(include='all')"
   ]
  },
  {
   "cell_type": "code",
   "execution_count": 10,
   "metadata": {},
   "outputs": [
    {
     "data": {
      "text/plain": [
       "count    50000.000000\n",
       "mean        45.518000\n",
       "std          8.025457\n",
       "min         16.000000\n",
       "25%         42.000000\n",
       "50%         45.000000\n",
       "75%         48.000000\n",
       "max        119.000000\n",
       "Name: artist_id, dtype: float64"
      ]
     },
     "execution_count": 10,
     "metadata": {},
     "output_type": "execute_result"
    }
   ],
   "source": [
    "dataset_df.groupby(columns.USER_ID_COLUMN)[columns.ARTIST_ID_COLUMN].agg(lambda items: len(items)).describe()"
   ]
  },
  {
   "cell_type": "code",
   "execution_count": 11,
   "metadata": {},
   "outputs": [
    {
     "data": {
      "text/plain": [
       "count    90076.000000\n",
       "mean        25.266442\n",
       "std        159.648585\n",
       "min          1.000000\n",
       "25%          1.000000\n",
       "50%          3.000000\n",
       "75%          8.000000\n",
       "max      10471.000000\n",
       "Name: user_id, dtype: float64"
      ]
     },
     "execution_count": 11,
     "metadata": {},
     "output_type": "execute_result"
    }
   ],
   "source": [
    "dataset_df.groupby(columns.ARTIST_ID_COLUMN)[columns.USER_ID_COLUMN].agg(lambda items: len(items)).describe()"
   ]
  },
  {
   "cell_type": "code",
   "execution_count": 13,
   "metadata": {},
   "outputs": [
    {
     "data": {
      "text/plain": [
       "False"
      ]
     },
     "execution_count": 13,
     "metadata": {},
     "output_type": "execute_result"
    }
   ],
   "source": [
    "(dataset_df.groupby([columns.USER_ID_COLUMN, columns.ARTIST_ID_COLUMN]).size() == 1).all()"
   ]
  },
  {
   "cell_type": "code",
   "execution_count": 15,
   "metadata": {},
   "outputs": [
    {
     "data": {
      "text/plain": [
       "54"
      ]
     },
     "execution_count": 15,
     "metadata": {},
     "output_type": "execute_result"
    }
   ],
   "source": [
    "dataset_df.groupby(columns.USER_ID_COLUMN)[columns.ARTIST_ID_COLUMN].agg(lambda items: items.nunique() != items.shape[0]).sum()"
   ]
  },
  {
   "cell_type": "markdown",
   "metadata": {},
   "source": [
    "# Show recs"
   ]
  },
  {
   "cell_type": "code",
   "execution_count": 5,
   "metadata": {},
   "outputs": [],
   "source": [
    "pipeline_id = 'baseline'"
   ]
  },
  {
   "cell_type": "code",
   "execution_count": 6,
   "metadata": {},
   "outputs": [
    {
     "data": {
      "text/plain": [
       "['hardml/recsys/lesson5/submissions/baseline/20240227T182341.parquet',\n",
       " 'hardml/recsys/lesson5/submissions/baseline/20240227T182609.parquet',\n",
       " 'hardml/recsys/lesson5/submissions/baseline/20240227T182800.parquet',\n",
       " 'hardml/recsys/lesson5/submissions/baseline/20240227T182855.parquet',\n",
       " 'hardml/recsys/lesson5/submissions/baseline/20240227T183229.parquet',\n",
       " 'hardml/recsys/lesson5/submissions/baseline/20240227T183406.parquet']"
      ]
     },
     "execution_count": 6,
     "metadata": {},
     "output_type": "execute_result"
    }
   ],
   "source": [
    "list_objects(s3_client, constants.S3_BUCKET, constants.SUBMISSION_PATH / pipeline_id)"
   ]
  },
  {
   "cell_type": "code",
   "execution_count": 7,
   "metadata": {},
   "outputs": [
    {
     "data": {
      "text/html": [
       "<div>\n",
       "<style scoped>\n",
       "    .dataframe tbody tr th:only-of-type {\n",
       "        vertical-align: middle;\n",
       "    }\n",
       "\n",
       "    .dataframe tbody tr th {\n",
       "        vertical-align: top;\n",
       "    }\n",
       "\n",
       "    .dataframe thead th {\n",
       "        text-align: right;\n",
       "    }\n",
       "</style>\n",
       "<table border=\"1\" class=\"dataframe\">\n",
       "  <thead>\n",
       "    <tr style=\"text-align: right;\">\n",
       "      <th></th>\n",
       "      <th>user_id</th>\n",
       "      <th>y_rec</th>\n",
       "    </tr>\n",
       "  </thead>\n",
       "  <tbody>\n",
       "    <tr>\n",
       "      <th>0</th>\n",
       "      <td>0000037c-9533-48b4-8d12-7b808fd4dabb</td>\n",
       "      <td>[5cd0ffb5-0cf2-4ecd-8c5b-ca2102e33198, 1228929...</td>\n",
       "    </tr>\n",
       "    <tr>\n",
       "      <th>1</th>\n",
       "      <td>00009c72-2a2b-4cbe-999c-aa7579c72ef4</td>\n",
       "      <td>[a26c9335-2459-4c89-a00c-fdecbeb2c8c4, ee0f3f0...</td>\n",
       "    </tr>\n",
       "    <tr>\n",
       "      <th>2</th>\n",
       "      <td>0001c857-a396-43c5-b8bc-e32c41636a88</td>\n",
       "      <td>[5cd0ffb5-0cf2-4ecd-8c5b-ca2102e33198, 1228929...</td>\n",
       "    </tr>\n",
       "    <tr>\n",
       "      <th>3</th>\n",
       "      <td>0003534e-6452-43b4-9afd-7d8f01e05ded</td>\n",
       "      <td>[12289298-d9dc-4b1d-bc27-16480829de75, a26c933...</td>\n",
       "    </tr>\n",
       "    <tr>\n",
       "      <th>4</th>\n",
       "      <td>0005762b-85e7-4283-98ed-cbb402bdda8c</td>\n",
       "      <td>[5cd0ffb5-0cf2-4ecd-8c5b-ca2102e33198, 1228929...</td>\n",
       "    </tr>\n",
       "  </tbody>\n",
       "</table>\n",
       "</div>"
      ],
      "text/plain": [
       "                                user_id  \\\n",
       "0  0000037c-9533-48b4-8d12-7b808fd4dabb   \n",
       "1  00009c72-2a2b-4cbe-999c-aa7579c72ef4   \n",
       "2  0001c857-a396-43c5-b8bc-e32c41636a88   \n",
       "3  0003534e-6452-43b4-9afd-7d8f01e05ded   \n",
       "4  0005762b-85e7-4283-98ed-cbb402bdda8c   \n",
       "\n",
       "                                               y_rec  \n",
       "0  [5cd0ffb5-0cf2-4ecd-8c5b-ca2102e33198, 1228929...  \n",
       "1  [a26c9335-2459-4c89-a00c-fdecbeb2c8c4, ee0f3f0...  \n",
       "2  [5cd0ffb5-0cf2-4ecd-8c5b-ca2102e33198, 1228929...  \n",
       "3  [12289298-d9dc-4b1d-bc27-16480829de75, a26c933...  \n",
       "4  [5cd0ffb5-0cf2-4ecd-8c5b-ca2102e33198, 1228929...  "
      ]
     },
     "execution_count": 7,
     "metadata": {},
     "output_type": "execute_result"
    }
   ],
   "source": [
    "submission_df = download_dataframe(\n",
    "    s3_client,\n",
    "    constants.S3_BUCKET,\n",
    "    constants.SUBMISSION_PATH / pipeline_id / '20240227T183406.parquet'\n",
    ")\n",
    "submission_df.head()"
   ]
  },
  {
   "cell_type": "code",
   "execution_count": null,
   "metadata": {},
   "outputs": [],
   "source": []
  }
 ],
 "metadata": {
  "kernelspec": {
   "display_name": "recsys",
   "language": "python",
   "name": "python3"
  },
  "language_info": {
   "codemirror_mode": {
    "name": "ipython",
    "version": 3
   },
   "file_extension": ".py",
   "mimetype": "text/x-python",
   "name": "python",
   "nbconvert_exporter": "python",
   "pygments_lexer": "ipython3",
   "version": "3.8.10"
  }
 },
 "nbformat": 4,
 "nbformat_minor": 2
}
