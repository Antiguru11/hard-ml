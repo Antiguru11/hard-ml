{
 "cells": [
  {
   "cell_type": "code",
   "execution_count": 1,
   "id": "a054832f",
   "metadata": {},
   "outputs": [],
   "source": [
    "import pandas as pd\n",
    "import polars as pl\n",
    "import numpy as np\n",
    "import scipy.sparse as sp\n",
    "\n",
    "from tqdm import tqdm\n",
    "from typing import List, Any"
   ]
  },
  {
   "cell_type": "markdown",
   "id": "0f86f3a9",
   "metadata": {},
   "source": [
    "## Читаем датасет"
   ]
  },
  {
   "cell_type": "code",
   "execution_count": 2,
   "id": "b3b0fc0f",
   "metadata": {
    "scrolled": true
   },
   "outputs": [
    {
     "data": {
      "text/html": [
       "<div><style>\n",
       ".dataframe > thead > tr > th,\n",
       ".dataframe > tbody > tr > td {\n",
       "  text-align: right;\n",
       "}\n",
       "</style>\n",
       "<small>shape: (2_275_900, 2)</small><table border=\"1\" class=\"dataframe\"><thead><tr><th>user_id</th><th>artist_id</th></tr><tr><td>str</td><td>str</td></tr></thead><tbody><tr><td>&quot;d705b538-1bd8-…</td><td>&quot;69c71d72-7ed8-…</td></tr><tr><td>&quot;d705b538-1bd8-…</td><td>&quot;30bf469f-9abd-…</td></tr><tr><td>&quot;d705b538-1bd8-…</td><td>&quot;a26c9335-2459-…</td></tr><tr><td>&quot;d705b538-1bd8-…</td><td>&quot;69c903b5-dff0-…</td></tr><tr><td>&quot;d705b538-1bd8-…</td><td>&quot;af8eef9d-13aa-…</td></tr><tr><td>&quot;d705b538-1bd8-…</td><td>&quot;293a86ee-6ce7-…</td></tr><tr><td>&quot;d705b538-1bd8-…</td><td>&quot;348f4909-1c48-…</td></tr><tr><td>&quot;d705b538-1bd8-…</td><td>&quot;ad2bf122-726e-…</td></tr><tr><td>&quot;d705b538-1bd8-…</td><td>&quot;cc97fc57-30b5-…</td></tr><tr><td>&quot;d705b538-1bd8-…</td><td>&quot;3000b3a4-7435-…</td></tr><tr><td>&quot;d705b538-1bd8-…</td><td>&quot;3d3535e5-f2cf-…</td></tr><tr><td>&quot;d705b538-1bd8-…</td><td>&quot;b4d4af2b-f7a9-…</td></tr><tr><td>&hellip;</td><td>&hellip;</td></tr><tr><td>&quot;fde30130-2882-…</td><td>&quot;b21ad2da-5a3b-…</td></tr><tr><td>&quot;fde30130-2882-…</td><td>&quot;69c71d72-7ed8-…</td></tr><tr><td>&quot;fde30130-2882-…</td><td>&quot;a26c9335-2459-…</td></tr><tr><td>&quot;fde30130-2882-…</td><td>&quot;bf1f82b0-709a-…</td></tr><tr><td>&quot;fde30130-2882-…</td><td>&quot;1279ad53-a053-…</td></tr><tr><td>&quot;fde30130-2882-…</td><td>&quot;ee0f3f04-8fa0-…</td></tr><tr><td>&quot;fde30130-2882-…</td><td>&quot;7de0cc8f-f42d-…</td></tr><tr><td>&quot;fde30130-2882-…</td><td>&quot;79973184-b4f0-…</td></tr><tr><td>&quot;fde30130-2882-…</td><td>&quot;ed437fe5-c894-…</td></tr><tr><td>&quot;fde30130-2882-…</td><td>&quot;6ea31f9c-d4fa-…</td></tr><tr><td>&quot;fde30130-2882-…</td><td>&quot;ce4b8396-8061-…</td></tr><tr><td>&quot;fde30130-2882-…</td><td>&quot;224f17fd-74e2-…</td></tr></tbody></table></div>"
      ],
      "text/plain": [
       "shape: (2_275_900, 2)\n",
       "┌───────────────────────────────────┬───────────────────────────────────┐\n",
       "│ user_id                           ┆ artist_id                         │\n",
       "│ ---                               ┆ ---                               │\n",
       "│ str                               ┆ str                               │\n",
       "╞═══════════════════════════════════╪═══════════════════════════════════╡\n",
       "│ d705b538-1bd8-48a3-9dad-8941dee2… ┆ 69c71d72-7ed8-42c4-b9ec-c33976a3… │\n",
       "│ d705b538-1bd8-48a3-9dad-8941dee2… ┆ 30bf469f-9abd-4011-a210-ff19fee2… │\n",
       "│ d705b538-1bd8-48a3-9dad-8941dee2… ┆ a26c9335-2459-4c89-a00c-fdecbeb2… │\n",
       "│ d705b538-1bd8-48a3-9dad-8941dee2… ┆ 69c903b5-dff0-4ded-86e4-ea97ac4e… │\n",
       "│ …                                 ┆ …                                 │\n",
       "│ fde30130-2882-4950-8fd4-5483b4a6… ┆ ed437fe5-c894-4ddf-b2ce-d1f91988… │\n",
       "│ fde30130-2882-4950-8fd4-5483b4a6… ┆ 6ea31f9c-d4fa-42a7-a77a-de92a793… │\n",
       "│ fde30130-2882-4950-8fd4-5483b4a6… ┆ ce4b8396-8061-4225-a1ed-0528f1ca… │\n",
       "│ fde30130-2882-4950-8fd4-5483b4a6… ┆ 224f17fd-74e2-4d0b-93a7-63bd7af9… │\n",
       "└───────────────────────────────────┴───────────────────────────────────┘"
      ]
     },
     "execution_count": 2,
     "metadata": {},
     "output_type": "execute_result"
    }
   ],
   "source": [
    "data = pl.read_parquet('train.parquet')\n",
    "data"
   ]
  },
  {
   "cell_type": "markdown",
   "id": "c0187017",
   "metadata": {},
   "source": [
    "## Метрики\n",
    "\n",
    "В этом задании нашей задачей будем оптимизация метрик ndcg@20. Тем не менее, такая метрику сложно интерпретировать и поэтому вам также будет доступно значение метрики hitrate@20, с которой вы уже познакомились в прошлой домашке"
   ]
  },
  {
   "cell_type": "code",
   "execution_count": 3,
   "id": "efb0aaed",
   "metadata": {},
   "outputs": [],
   "source": [
    "TOP_K = 20\n",
    "\n",
    "\n",
    "def user_hitrate(y_relevant: List[str], y_recs: List[str], k: int = TOP_K) -> int:\n",
    "    return int(len(set(y_relevant).intersection(y_recs[:k])) > 0)\n",
    "\n",
    "def user_ndcg(y_rel: List[Any], y_rec: List[Any], k: int = 10) -> float:\n",
    "    \"\"\"\n",
    "    :param y_rel: relevant items\n",
    "    :param y_rec: recommended items\n",
    "    :param k: number of top recommended items\n",
    "    :return: ndcg metric for user recommendations\n",
    "    \"\"\"\n",
    "    dcg = sum([1. / np.log2(idx + 2) for idx, item in enumerate(y_rec[:k]) if item in y_rel])\n",
    "    idcg = sum([1. / np.log2(idx + 2) for idx, _ in enumerate(zip(y_rel, np.arange(k)))])\n",
    "    return dcg / idcg"
   ]
  },
  {
   "cell_type": "markdown",
   "id": "43bf0329",
   "metadata": {},
   "source": [
    "В этом датасете идентификаторы представлены в виде строк, но для работы с ними может быть проще сделать преобразование в числа (например, для алгоритмов матричной факторизации)"
   ]
  },
  {
   "cell_type": "code",
   "execution_count": 4,
   "id": "07829521",
   "metadata": {},
   "outputs": [],
   "source": [
    "user_mapping = {k: v for v, k in enumerate(data['user_id'].unique())}\n",
    "user_mapping_inverse = {k: v for v, k in user_mapping.items()}\n",
    "\n",
    "artist_mapping = {k: v for v, k in enumerate(data['artist_id'].unique())}\n",
    "artist_mapping_inverse = {k: v for v, k in artist_mapping.items()}"
   ]
  },
  {
   "cell_type": "code",
   "execution_count": 7,
   "id": "156ede3e",
   "metadata": {
    "scrolled": true
   },
   "outputs": [
    {
     "data": {
      "text/html": [
       "<div><style>\n",
       ".dataframe > thead > tr > th,\n",
       ".dataframe > tbody > tr > td {\n",
       "  text-align: right;\n",
       "}\n",
       "</style>\n",
       "<small>shape: (50_000, 3)</small><table border=\"1\" class=\"dataframe\"><thead><tr><th>user_id</th><th>train_item_ids</th><th>test_item_ids</th></tr><tr><td>i64</td><td>list[i64]</td><td>list[i64]</td></tr></thead><tbody><tr><td>24672</td><td>[31304, 60192, … 68156]</td><td>[25665, 14965, 87036]</td></tr><tr><td>9288</td><td>[20954, 87865, … 79468]</td><td>[6693, 83925, 85054]</td></tr><tr><td>40352</td><td>[28366, 38213, … 15083]</td><td>[64696, 56969, 22674]</td></tr><tr><td>14288</td><td>[44285, 60064, … 87421]</td><td>[40090, 63345, 73898]</td></tr><tr><td>18624</td><td>[43769, 65473, … 33404]</td><td>[81116, 7452, 21269]</td></tr><tr><td>45792</td><td>[17436, 39069, … 45418]</td><td>[51666, 79758, 542]</td></tr><tr><td>35152</td><td>[13508, 46647, … 7307]</td><td>[70023, 23129, 52791]</td></tr><tr><td>23184</td><td>[72892, 43728, … 48568]</td><td>[77528, 11400, 538]</td></tr><tr><td>40816</td><td>[65434, 7995, … 76385]</td><td>[50366, 10960, 61743]</td></tr><tr><td>9080</td><td>[38960, 345, … 76346]</td><td>[50404, 17895, 73910]</td></tr><tr><td>35992</td><td>[53825, 68622, … 70528]</td><td>[87847, 68219, 46665]</td></tr><tr><td>15744</td><td>[74512, 47147, … 57428]</td><td>[33947, 24641, 36097]</td></tr><tr><td>&hellip;</td><td>&hellip;</td><td>&hellip;</td></tr><tr><td>18375</td><td>[22473, 14646, … 33414]</td><td>[50829, 49601, 79282]</td></tr><tr><td>35559</td><td>[67461, 66856, … 86558]</td><td>[55678, 42072, 73963]</td></tr><tr><td>22711</td><td>[38525, 23553, … 8884]</td><td>[35948, 78895, 62192]</td></tr><tr><td>35199</td><td>[25243, 30808, … 84490]</td><td>[45535, 87048, 43872]</td></tr><tr><td>45703</td><td>[6907, 55975, … 76754]</td><td>[60249, 47421, 9026]</td></tr><tr><td>42327</td><td>[13938, 53557, … 40181]</td><td>[1805, 68416, 81984]</td></tr><tr><td>33175</td><td>[1411, 39466, … 27194]</td><td>[7626, 15961, 59297]</td></tr><tr><td>4487</td><td>[18263, 12494, … 48584]</td><td>[80578, 56889, 84269]</td></tr><tr><td>40175</td><td>[81116, 12488, … 29386]</td><td>[19340, 45039, 47512]</td></tr><tr><td>5663</td><td>[81984, 29788, … 19975]</td><td>[61978, 50798, 3388]</td></tr><tr><td>45239</td><td>[4503, 13832, … 34541]</td><td>[24456, 7307, 27104]</td></tr><tr><td>1559</td><td>[66856, 81667, … 12488]</td><td>[20630, 76346, 15503]</td></tr></tbody></table></div>"
      ],
      "text/plain": [
       "shape: (50_000, 3)\n",
       "┌─────────┬─────────────────────────┬───────────────────────┐\n",
       "│ user_id ┆ train_item_ids          ┆ test_item_ids         │\n",
       "│ ---     ┆ ---                     ┆ ---                   │\n",
       "│ i64     ┆ list[i64]               ┆ list[i64]             │\n",
       "╞═════════╪═════════════════════════╪═══════════════════════╡\n",
       "│ 24672   ┆ [31304, 60192, … 68156] ┆ [25665, 14965, 87036] │\n",
       "│ 9288    ┆ [20954, 87865, … 79468] ┆ [6693, 83925, 85054]  │\n",
       "│ 40352   ┆ [28366, 38213, … 15083] ┆ [64696, 56969, 22674] │\n",
       "│ 14288   ┆ [44285, 60064, … 87421] ┆ [40090, 63345, 73898] │\n",
       "│ …       ┆ …                       ┆ …                     │\n",
       "│ 40175   ┆ [81116, 12488, … 29386] ┆ [19340, 45039, 47512] │\n",
       "│ 5663    ┆ [81984, 29788, … 19975] ┆ [61978, 50798, 3388]  │\n",
       "│ 45239   ┆ [4503, 13832, … 34541]  ┆ [24456, 7307, 27104]  │\n",
       "│ 1559    ┆ [66856, 81667, … 12488] ┆ [20630, 76346, 15503] │\n",
       "└─────────┴─────────────────────────┴───────────────────────┘"
      ]
     },
     "execution_count": 7,
     "metadata": {},
     "output_type": "execute_result"
    }
   ],
   "source": [
    "grouped_df_with_inds = (\n",
    "    data\n",
    "    .with_columns([\n",
    "        pl.col('user_id').apply(user_mapping.get),\n",
    "        pl.col('artist_id').apply(artist_mapping.get),\n",
    "    ])\n",
    "    # для каждого пользователя оставим последние 3 объекта в качестве тестовой выборки,\n",
    "    # а остальное будем использовать для тренировки\n",
    "    .groupby('user_id')\n",
    "    .agg([\n",
    "        pl.col('artist_id').apply(lambda x: x[:-3]).alias('train_item_ids'),\n",
    "        pl.col('artist_id').apply(lambda x: x[-3:]).alias('test_item_ids'),\n",
    "    ])\n",
    ")\n",
    "\n",
    "grouped_df_with_inds"
   ]
  },
  {
   "cell_type": "code",
   "execution_count": 8,
   "id": "36dea774",
   "metadata": {},
   "outputs": [
    {
     "name": "stdout",
     "output_type": "stream",
     "text": [
      "средняя длина сессии 42\n"
     ]
    }
   ],
   "source": [
    "median_seq_len = int(grouped_df_with_inds['train_item_ids'].apply(len).median())\n",
    "print(f\"средняя длина сессии {median_seq_len}\")"
   ]
  },
  {
   "cell_type": "code",
   "execution_count": 9,
   "id": "7cd5a463",
   "metadata": {},
   "outputs": [],
   "source": [
    "# соберем строчки для разреженной матрицы\n",
    "rows = []\n",
    "cols = []\n",
    "values = []\n",
    "for user_id, train_ids, _ in grouped_df_with_inds.rows():\n",
    "    rows.extend([user_id] * len(train_ids))\n",
    "    values.extend([1] * len(train_ids))\n",
    "    cols.extend(train_ids)\n",
    "\n",
    "user_item_data = sp.csr_matrix((values, (rows, cols)))"
   ]
  },
  {
   "cell_type": "markdown",
   "id": "e064a3aa",
   "metadata": {},
   "source": [
    "## Бейзлайны\n",
    "\n",
    "В качестве простого бейзлайна будем рекомендовать самый популярных артистов\n",
    "\n",
    "Мы хотим сначала провалидировать такое решение, а значит в качестве популярных артистов мы возьмем только тех, кто чаще встречается в `train_item_ids`"
   ]
  },
  {
   "cell_type": "code",
   "execution_count": 29,
   "id": "fa65a122",
   "metadata": {
    "scrolled": true
   },
   "outputs": [],
   "source": [
    "top_artists = (\n",
    "    grouped_df_with_inds\n",
    "    .select(pl.col('train_item_ids').alias('artist_id'))\n",
    "    .explode('artist_id')\n",
    "    .groupby('artist_id')\n",
    "    .count()\n",
    "    .sort('count', descending=True)\n",
    "    .head(TOP_K + median_seq_len)\n",
    ")['artist_id'].to_list()"
   ]
  },
  {
   "cell_type": "code",
   "execution_count": 31,
   "id": "2b39b15d",
   "metadata": {},
   "outputs": [
    {
     "name": "stdout",
     "output_type": "stream",
     "text": [
      "NDCG@20 = 0.01401, Hitrate@20 = 0.10248\n"
     ]
    }
   ],
   "source": [
    "ndcg_list = []\n",
    "hitrate_list = []\n",
    "\n",
    "for user_id, user_history, y_rel in grouped_df_with_inds.rows():\n",
    "    y_rec = top_artists.copy()\n",
    "    \n",
    "    ndcg_list.append(user_ndcg(y_rel, y_rec))\n",
    "    hitrate_list.append(user_hitrate(y_rel, y_rec))\n",
    "    \n",
    "print(f'NDCG@{TOP_K} = {np.mean(ndcg_list):.5f}, Hitrate@{TOP_K} = {np.mean(hitrate_list):.5f}')"
   ]
  },
  {
   "cell_type": "markdown",
   "id": "f30d3687",
   "metadata": {},
   "source": [
    "Не забываем про фильтрацию просмотренного (для разных доменов и подходов это не всегда улучши рекомендации, но в данном случае дало прирост)"
   ]
  },
  {
   "cell_type": "code",
   "execution_count": 30,
   "id": "900f8bcc",
   "metadata": {},
   "outputs": [
    {
     "name": "stdout",
     "output_type": "stream",
     "text": [
      "NDCG@20 = 0.01740, Hitrate@20 = 0.11684\n"
     ]
    }
   ],
   "source": [
    "ndcg_list = []\n",
    "hitrate_list = []\n",
    "\n",
    "for user_id, user_history, y_rel in grouped_df_with_inds.rows():\n",
    "    y_rec = [artist_id for artist_id in top_artists if artist_id not in user_history]\n",
    "    \n",
    "    ndcg_list.append(user_ndcg(y_rel, y_rec))\n",
    "    hitrate_list.append(user_hitrate(y_rel, y_rec))\n",
    "    \n",
    "print(f'NDCG@{TOP_K} = {np.mean(ndcg_list):.5f}, Hitrate@{TOP_K} = {np.mean(hitrate_list):.5f}')"
   ]
  },
  {
   "cell_type": "markdown",
   "id": "b7373ba7",
   "metadata": {},
   "source": [
    "## Построим файл с рекомендациями\n",
    "\n",
    "Для построения рекомендаций теперь можем учесть все возможные данные"
   ]
  },
  {
   "cell_type": "code",
   "execution_count": 32,
   "id": "32275e4a",
   "metadata": {},
   "outputs": [],
   "source": [
    "top_artists = (\n",
    "    data\n",
    "    .groupby('artist_id')\n",
    "    .count()\n",
    "    .sort('count', descending=True)\n",
    "    .head(TOP_K + median_seq_len)\n",
    ")['artist_id'].to_list()"
   ]
  },
  {
   "cell_type": "code",
   "execution_count": 38,
   "id": "8a3cb241",
   "metadata": {
    "scrolled": true
   },
   "outputs": [
    {
     "data": {
      "text/html": [
       "<div><style>\n",
       ".dataframe > thead > tr > th,\n",
       ".dataframe > tbody > tr > td {\n",
       "  text-align: right;\n",
       "}\n",
       "</style>\n",
       "<small>shape: (50_000, 2)</small><table border=\"1\" class=\"dataframe\"><thead><tr><th>user_id</th><th>y_rec</th></tr><tr><td>str</td><td>list[str]</td></tr></thead><tbody><tr><td>&quot;30d49a86-6e30-…</td><td>[&quot;5cd0ffb5-0cf2-4ecd-8c5b-ca2102e33198&quot;, &quot;12289298-d9dc-4b1d-bc27-16480829de75&quot;, … &quot;98e69a29-ee83-41f1-924e-08a50a32efdc&quot;]</td></tr><tr><td>&quot;ca624347-c611-…</td><td>[&quot;5cd0ffb5-0cf2-4ecd-8c5b-ca2102e33198&quot;, &quot;12289298-d9dc-4b1d-bc27-16480829de75&quot;, … &quot;98e69a29-ee83-41f1-924e-08a50a32efdc&quot;]</td></tr><tr><td>&quot;58dcd8a1-9c0b-…</td><td>[&quot;5cd0ffb5-0cf2-4ecd-8c5b-ca2102e33198&quot;, &quot;12289298-d9dc-4b1d-bc27-16480829de75&quot;, … &quot;98e69a29-ee83-41f1-924e-08a50a32efdc&quot;]</td></tr><tr><td>&quot;dcc19eaf-38b0-…</td><td>[&quot;5cd0ffb5-0cf2-4ecd-8c5b-ca2102e33198&quot;, &quot;12289298-d9dc-4b1d-bc27-16480829de75&quot;, … &quot;98e69a29-ee83-41f1-924e-08a50a32efdc&quot;]</td></tr><tr><td>&quot;14f169f8-ff3a-…</td><td>[&quot;5cd0ffb5-0cf2-4ecd-8c5b-ca2102e33198&quot;, &quot;12289298-d9dc-4b1d-bc27-16480829de75&quot;, … &quot;98e69a29-ee83-41f1-924e-08a50a32efdc&quot;]</td></tr><tr><td>&quot;1502da3b-4c78-…</td><td>[&quot;5cd0ffb5-0cf2-4ecd-8c5b-ca2102e33198&quot;, &quot;12289298-d9dc-4b1d-bc27-16480829de75&quot;, … &quot;98e69a29-ee83-41f1-924e-08a50a32efdc&quot;]</td></tr><tr><td>&quot;e6776ed0-5ab3-…</td><td>[&quot;5cd0ffb5-0cf2-4ecd-8c5b-ca2102e33198&quot;, &quot;12289298-d9dc-4b1d-bc27-16480829de75&quot;, … &quot;98e69a29-ee83-41f1-924e-08a50a32efdc&quot;]</td></tr><tr><td>&quot;37d7999c-301d-…</td><td>[&quot;5cd0ffb5-0cf2-4ecd-8c5b-ca2102e33198&quot;, &quot;12289298-d9dc-4b1d-bc27-16480829de75&quot;, … &quot;98e69a29-ee83-41f1-924e-08a50a32efdc&quot;]</td></tr><tr><td>&quot;fe182f57-8eed-…</td><td>[&quot;5cd0ffb5-0cf2-4ecd-8c5b-ca2102e33198&quot;, &quot;12289298-d9dc-4b1d-bc27-16480829de75&quot;, … &quot;98e69a29-ee83-41f1-924e-08a50a32efdc&quot;]</td></tr><tr><td>&quot;c7f6b731-4fa9-…</td><td>[&quot;5cd0ffb5-0cf2-4ecd-8c5b-ca2102e33198&quot;, &quot;12289298-d9dc-4b1d-bc27-16480829de75&quot;, … &quot;98e69a29-ee83-41f1-924e-08a50a32efdc&quot;]</td></tr><tr><td>&quot;3d8a8a80-3483-…</td><td>[&quot;5cd0ffb5-0cf2-4ecd-8c5b-ca2102e33198&quot;, &quot;12289298-d9dc-4b1d-bc27-16480829de75&quot;, … &quot;98e69a29-ee83-41f1-924e-08a50a32efdc&quot;]</td></tr><tr><td>&quot;b066ea17-9851-…</td><td>[&quot;5cd0ffb5-0cf2-4ecd-8c5b-ca2102e33198&quot;, &quot;12289298-d9dc-4b1d-bc27-16480829de75&quot;, … &quot;98e69a29-ee83-41f1-924e-08a50a32efdc&quot;]</td></tr><tr><td>&hellip;</td><td>&hellip;</td></tr><tr><td>&quot;b9b03a77-849e-…</td><td>[&quot;5cd0ffb5-0cf2-4ecd-8c5b-ca2102e33198&quot;, &quot;12289298-d9dc-4b1d-bc27-16480829de75&quot;, … &quot;98e69a29-ee83-41f1-924e-08a50a32efdc&quot;]</td></tr><tr><td>&quot;175e7166-571c-…</td><td>[&quot;5cd0ffb5-0cf2-4ecd-8c5b-ca2102e33198&quot;, &quot;12289298-d9dc-4b1d-bc27-16480829de75&quot;, … &quot;98e69a29-ee83-41f1-924e-08a50a32efdc&quot;]</td></tr><tr><td>&quot;0e708121-2243-…</td><td>[&quot;5cd0ffb5-0cf2-4ecd-8c5b-ca2102e33198&quot;, &quot;12289298-d9dc-4b1d-bc27-16480829de75&quot;, … &quot;98e69a29-ee83-41f1-924e-08a50a32efdc&quot;]</td></tr><tr><td>&quot;a9f61c30-fae6-…</td><td>[&quot;5cd0ffb5-0cf2-4ecd-8c5b-ca2102e33198&quot;, &quot;12289298-d9dc-4b1d-bc27-16480829de75&quot;, … &quot;98e69a29-ee83-41f1-924e-08a50a32efdc&quot;]</td></tr><tr><td>&quot;d4118f49-b9f5-…</td><td>[&quot;5cd0ffb5-0cf2-4ecd-8c5b-ca2102e33198&quot;, &quot;12289298-d9dc-4b1d-bc27-16480829de75&quot;, … &quot;98e69a29-ee83-41f1-924e-08a50a32efdc&quot;]</td></tr><tr><td>&quot;860ea833-36da-…</td><td>[&quot;5cd0ffb5-0cf2-4ecd-8c5b-ca2102e33198&quot;, &quot;12289298-d9dc-4b1d-bc27-16480829de75&quot;, … &quot;98e69a29-ee83-41f1-924e-08a50a32efdc&quot;]</td></tr><tr><td>&quot;3453f160-e8ee-…</td><td>[&quot;5cd0ffb5-0cf2-4ecd-8c5b-ca2102e33198&quot;, &quot;12289298-d9dc-4b1d-bc27-16480829de75&quot;, … &quot;98e69a29-ee83-41f1-924e-08a50a32efdc&quot;]</td></tr><tr><td>&quot;b3120abb-8b18-…</td><td>[&quot;5cd0ffb5-0cf2-4ecd-8c5b-ca2102e33198&quot;, &quot;12289298-d9dc-4b1d-bc27-16480829de75&quot;, … &quot;98e69a29-ee83-41f1-924e-08a50a32efdc&quot;]</td></tr><tr><td>&quot;be36045c-3766-…</td><td>[&quot;5cd0ffb5-0cf2-4ecd-8c5b-ca2102e33198&quot;, &quot;12289298-d9dc-4b1d-bc27-16480829de75&quot;, … &quot;98e69a29-ee83-41f1-924e-08a50a32efdc&quot;]</td></tr><tr><td>&quot;68c0b6f5-b744-…</td><td>[&quot;5cd0ffb5-0cf2-4ecd-8c5b-ca2102e33198&quot;, &quot;12289298-d9dc-4b1d-bc27-16480829de75&quot;, … &quot;98e69a29-ee83-41f1-924e-08a50a32efdc&quot;]</td></tr><tr><td>&quot;a12f2713-8a61-…</td><td>[&quot;5cd0ffb5-0cf2-4ecd-8c5b-ca2102e33198&quot;, &quot;12289298-d9dc-4b1d-bc27-16480829de75&quot;, … &quot;98e69a29-ee83-41f1-924e-08a50a32efdc&quot;]</td></tr><tr><td>&quot;4cae4c2c-9252-…</td><td>[&quot;5cd0ffb5-0cf2-4ecd-8c5b-ca2102e33198&quot;, &quot;12289298-d9dc-4b1d-bc27-16480829de75&quot;, … &quot;98e69a29-ee83-41f1-924e-08a50a32efdc&quot;]</td></tr></tbody></table></div>"
      ],
      "text/plain": [
       "shape: (50_000, 2)\n",
       "┌───────────────────────────────────┬───────────────────────────────────┐\n",
       "│ user_id                           ┆ y_rec                             │\n",
       "│ ---                               ┆ ---                               │\n",
       "│ str                               ┆ list[str]                         │\n",
       "╞═══════════════════════════════════╪═══════════════════════════════════╡\n",
       "│ 30d49a86-6e30-455e-a137-eed899c9… ┆ [\"5cd0ffb5-0cf2-4ecd-8c5b-ca2102… │\n",
       "│ ca624347-c611-4785-b264-a16b4fb8… ┆ [\"5cd0ffb5-0cf2-4ecd-8c5b-ca2102… │\n",
       "│ 58dcd8a1-9c0b-4abc-b013-51d07087… ┆ [\"5cd0ffb5-0cf2-4ecd-8c5b-ca2102… │\n",
       "│ dcc19eaf-38b0-4f47-b710-c35a4040… ┆ [\"5cd0ffb5-0cf2-4ecd-8c5b-ca2102… │\n",
       "│ …                                 ┆ …                                 │\n",
       "│ be36045c-3766-46dc-84b5-b272eeaf… ┆ [\"5cd0ffb5-0cf2-4ecd-8c5b-ca2102… │\n",
       "│ 68c0b6f5-b744-4394-a42d-e99c93ec… ┆ [\"5cd0ffb5-0cf2-4ecd-8c5b-ca2102… │\n",
       "│ a12f2713-8a61-495f-8ad0-214ebcdd… ┆ [\"5cd0ffb5-0cf2-4ecd-8c5b-ca2102… │\n",
       "│ 4cae4c2c-9252-4efc-8130-303878d0… ┆ [\"5cd0ffb5-0cf2-4ecd-8c5b-ca2102… │\n",
       "└───────────────────────────────────┴───────────────────────────────────┘"
      ]
     },
     "execution_count": 38,
     "metadata": {},
     "output_type": "execute_result"
    }
   ],
   "source": [
    "submission = []\n",
    "\n",
    "for user_id, user_history in data.groupby('user_id').agg(pl.col('artist_id')).rows():\n",
    "    y_rec = top_artists.copy()\n",
    "    \n",
    "    submission.append((user_id, y_rec))\n",
    "    \n",
    "submission = pl.DataFrame(submission, schema=('user_id', 'y_rec'))\n",
    "submission.write_parquet('sample_submission.parquet')\n",
    "submission"
   ]
  },
  {
   "cell_type": "markdown",
   "id": "824f7ac3",
   "metadata": {},
   "source": [
    "Не забывайте, что в файле с рекомендациями должны быть **исходные идентификаторы (строки)**, а не преобразованные в числа!"
   ]
  }
 ],
 "metadata": {
  "kernelspec": {
   "display_name": "Python 3 (ipykernel)",
   "language": "python",
   "name": "python3"
  },
  "language_info": {
   "codemirror_mode": {
    "name": "ipython",
    "version": 3
   },
   "file_extension": ".py",
   "mimetype": "text/x-python",
   "name": "python",
   "nbconvert_exporter": "python",
   "pygments_lexer": "ipython3",
   "version": "3.10.10"
  }
 },
 "nbformat": 4,
 "nbformat_minor": 5
}
