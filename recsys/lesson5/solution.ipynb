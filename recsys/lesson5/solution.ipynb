{
 "cells": [
  {
   "cell_type": "code",
   "execution_count": 4,
   "id": "a054832f",
   "metadata": {},
   "outputs": [
    {
     "name": "stderr",
     "output_type": "stream",
     "text": [
      "/opt/conda/envs/recsys/lib/python3.8/site-packages/tqdm/auto.py:21: TqdmWarning: IProgress not found. Please update jupyter and ipywidgets. See https://ipywidgets.readthedocs.io/en/stable/user_install.html\n",
      "  from .autonotebook import tqdm as notebook_tqdm\n"
     ]
    }
   ],
   "source": [
    "import random\n",
    "\n",
    "import boto3\n",
    "import pandas as pd\n",
    "import polars as pl\n",
    "import numpy as np\n",
    "import scipy.sparse as sp\n",
    "\n",
    "from tqdm import tqdm\n",
    "from typing import List, Any\n",
    "from collections import defaultdict\n",
    "\n",
    "import faiss\n",
    "import optuna\n",
    "import implicit\n",
    "from gensim.models import Word2Vec\n",
    "\n",
    "import constants\n",
    "from utils.io.s3 import DataFrameType, download_dataframe"
   ]
  },
  {
   "cell_type": "markdown",
   "id": "0f86f3a9",
   "metadata": {},
   "source": [
    "## Читаем датасет"
   ]
  },
  {
   "cell_type": "code",
   "execution_count": 5,
   "id": "d02c7c5f",
   "metadata": {},
   "outputs": [],
   "source": [
    "s3_session = boto3.session.Session()\n",
    "s3_client = s3_session.client(service_name='s3', endpoint_url='https://storage.yandexcloud.net')"
   ]
  },
  {
   "cell_type": "code",
   "execution_count": 6,
   "id": "b3b0fc0f",
   "metadata": {
    "scrolled": true
   },
   "outputs": [
    {
     "data": {
      "text/html": [
       "<div><style>\n",
       ".dataframe > thead > tr > th,\n",
       ".dataframe > tbody > tr > td {\n",
       "  text-align: right;\n",
       "}\n",
       "</style>\n",
       "<small>shape: (2_275_900, 2)</small><table border=\"1\" class=\"dataframe\"><thead><tr><th>user_id</th><th>artist_id</th></tr><tr><td>str</td><td>str</td></tr></thead><tbody><tr><td>&quot;d705b538-1bd8-…</td><td>&quot;69c71d72-7ed8-…</td></tr><tr><td>&quot;d705b538-1bd8-…</td><td>&quot;30bf469f-9abd-…</td></tr><tr><td>&quot;d705b538-1bd8-…</td><td>&quot;a26c9335-2459-…</td></tr><tr><td>&quot;d705b538-1bd8-…</td><td>&quot;69c903b5-dff0-…</td></tr><tr><td>&quot;d705b538-1bd8-…</td><td>&quot;af8eef9d-13aa-…</td></tr><tr><td>&quot;d705b538-1bd8-…</td><td>&quot;293a86ee-6ce7-…</td></tr><tr><td>&quot;d705b538-1bd8-…</td><td>&quot;348f4909-1c48-…</td></tr><tr><td>&quot;d705b538-1bd8-…</td><td>&quot;ad2bf122-726e-…</td></tr><tr><td>&quot;d705b538-1bd8-…</td><td>&quot;cc97fc57-30b5-…</td></tr><tr><td>&quot;d705b538-1bd8-…</td><td>&quot;3000b3a4-7435-…</td></tr><tr><td>&quot;d705b538-1bd8-…</td><td>&quot;3d3535e5-f2cf-…</td></tr><tr><td>&quot;d705b538-1bd8-…</td><td>&quot;b4d4af2b-f7a9-…</td></tr><tr><td>&hellip;</td><td>&hellip;</td></tr><tr><td>&quot;fde30130-2882-…</td><td>&quot;b21ad2da-5a3b-…</td></tr><tr><td>&quot;fde30130-2882-…</td><td>&quot;69c71d72-7ed8-…</td></tr><tr><td>&quot;fde30130-2882-…</td><td>&quot;a26c9335-2459-…</td></tr><tr><td>&quot;fde30130-2882-…</td><td>&quot;bf1f82b0-709a-…</td></tr><tr><td>&quot;fde30130-2882-…</td><td>&quot;1279ad53-a053-…</td></tr><tr><td>&quot;fde30130-2882-…</td><td>&quot;ee0f3f04-8fa0-…</td></tr><tr><td>&quot;fde30130-2882-…</td><td>&quot;7de0cc8f-f42d-…</td></tr><tr><td>&quot;fde30130-2882-…</td><td>&quot;79973184-b4f0-…</td></tr><tr><td>&quot;fde30130-2882-…</td><td>&quot;ed437fe5-c894-…</td></tr><tr><td>&quot;fde30130-2882-…</td><td>&quot;6ea31f9c-d4fa-…</td></tr><tr><td>&quot;fde30130-2882-…</td><td>&quot;ce4b8396-8061-…</td></tr><tr><td>&quot;fde30130-2882-…</td><td>&quot;224f17fd-74e2-…</td></tr></tbody></table></div>"
      ],
      "text/plain": [
       "shape: (2_275_900, 2)\n",
       "┌───────────────────────────────────┬───────────────────────────────────┐\n",
       "│ user_id                           ┆ artist_id                         │\n",
       "│ ---                               ┆ ---                               │\n",
       "│ str                               ┆ str                               │\n",
       "╞═══════════════════════════════════╪═══════════════════════════════════╡\n",
       "│ d705b538-1bd8-48a3-9dad-8941dee2… ┆ 69c71d72-7ed8-42c4-b9ec-c33976a3… │\n",
       "│ d705b538-1bd8-48a3-9dad-8941dee2… ┆ 30bf469f-9abd-4011-a210-ff19fee2… │\n",
       "│ d705b538-1bd8-48a3-9dad-8941dee2… ┆ a26c9335-2459-4c89-a00c-fdecbeb2… │\n",
       "│ d705b538-1bd8-48a3-9dad-8941dee2… ┆ 69c903b5-dff0-4ded-86e4-ea97ac4e… │\n",
       "│ …                                 ┆ …                                 │\n",
       "│ fde30130-2882-4950-8fd4-5483b4a6… ┆ ed437fe5-c894-4ddf-b2ce-d1f91988… │\n",
       "│ fde30130-2882-4950-8fd4-5483b4a6… ┆ 6ea31f9c-d4fa-42a7-a77a-de92a793… │\n",
       "│ fde30130-2882-4950-8fd4-5483b4a6… ┆ ce4b8396-8061-4225-a1ed-0528f1ca… │\n",
       "│ fde30130-2882-4950-8fd4-5483b4a6… ┆ 224f17fd-74e2-4d0b-93a7-63bd7af9… │\n",
       "└───────────────────────────────────┴───────────────────────────────────┘"
      ]
     },
     "execution_count": 6,
     "metadata": {},
     "output_type": "execute_result"
    }
   ],
   "source": [
    "data = download_dataframe(s3_client,\n",
    "                          constants.S3_BUCKET,\n",
    "                          constants.DATA_PATH / 'dataset.parquet',\n",
    "                          DataFrameType.POLARS)\n",
    "# data = pl.read_parquet('train.parquet')\n",
    "data"
   ]
  },
  {
   "cell_type": "markdown",
   "id": "c0187017",
   "metadata": {},
   "source": [
    "## Метрики\n",
    "\n",
    "В этом задании нашей задачей будем оптимизация метрик ndcg@20. Тем не менее, такая метрику сложно интерпретировать и поэтому вам также будет доступно значение метрики hitrate@20, с которой вы уже познакомились в прошлой домашке"
   ]
  },
  {
   "cell_type": "code",
   "execution_count": 7,
   "id": "efb0aaed",
   "metadata": {},
   "outputs": [],
   "source": [
    "TOP_K = 20\n",
    "\n",
    "\n",
    "def user_hitrate(y_relevant: List[str], y_recs: List[str], k: int = TOP_K) -> int:\n",
    "    return int(len(set(y_relevant).intersection(y_recs[:k])) > 0)\n",
    "\n",
    "def user_ndcg(y_rel: List[Any], y_rec: List[Any], k: int = 10) -> float:\n",
    "    \"\"\"\n",
    "    :param y_rel: relevant items\n",
    "    :param y_rec: recommended items\n",
    "    :param k: number of top recommended items\n",
    "    :return: ndcg metric for user recommendations\n",
    "    \"\"\"\n",
    "    dcg = sum([1. / np.log2(idx + 2) for idx, item in enumerate(y_rec[:k]) if item in y_rel])\n",
    "    idcg = sum([1. / np.log2(idx + 2) for idx, _ in enumerate(zip(y_rel, np.arange(k)))])\n",
    "    return dcg / idcg"
   ]
  },
  {
   "cell_type": "markdown",
   "id": "43bf0329",
   "metadata": {},
   "source": [
    "В этом датасете идентификаторы представлены в виде строк, но для работы с ними может быть проще сделать преобразование в числа (например, для алгоритмов матричной факторизации)"
   ]
  },
  {
   "cell_type": "code",
   "execution_count": 8,
   "id": "07829521",
   "metadata": {},
   "outputs": [],
   "source": [
    "user_mapping = {k: v for v, k in enumerate(data['user_id'].unique())}\n",
    "user_mapping_inverse = {k: v for v, k in user_mapping.items()}\n",
    "\n",
    "artist_mapping = {k: v for v, k in enumerate(data['artist_id'].unique())}\n",
    "artist_mapping_inverse = {k: v for v, k in artist_mapping.items()}"
   ]
  },
  {
   "cell_type": "code",
   "execution_count": 9,
   "id": "156ede3e",
   "metadata": {
    "scrolled": true
   },
   "outputs": [
    {
     "data": {
      "text/html": [
       "<div><style>\n",
       ".dataframe > thead > tr > th,\n",
       ".dataframe > tbody > tr > td {\n",
       "  text-align: right;\n",
       "}\n",
       "</style>\n",
       "<small>shape: (50_000, 3)</small><table border=\"1\" class=\"dataframe\"><thead><tr><th>user_id</th><th>train_item_ids</th><th>test_item_ids</th></tr><tr><td>i64</td><td>list[i64]</td><td>list[i64]</td></tr></thead><tbody><tr><td>7968</td><td>[35676, 42835, … 38681]</td><td>[83125, 40959, 30194]</td></tr><tr><td>40192</td><td>[44706, 66455, … 5799]</td><td>[34568, 26, 9761]</td></tr><tr><td>49536</td><td>[84680, 56057, … 68680]</td><td>[70157, 65724, 35864]</td></tr><tr><td>27488</td><td>[82918, 41266, … 53024]</td><td>[52762, 77785, 60505]</td></tr><tr><td>41088</td><td>[48242, 65461, … 51517]</td><td>[62374, 6418, 72919]</td></tr><tr><td>19488</td><td>[84363, 81536, … 5517]</td><td>[84023, 52613, 48767]</td></tr><tr><td>18528</td><td>[42783, 6124, … 79587]</td><td>[25464, 23277, 76781]</td></tr><tr><td>12832</td><td>[23291, 57858, … 66094]</td><td>[72975, 53184, 1155]</td></tr><tr><td>32160</td><td>[84881, 39028, … 70461]</td><td>[46136, 15265, 51151]</td></tr><tr><td>9536</td><td>[52467, 85862, … 70461]</td><td>[51396, 35583, 70571]</td></tr><tr><td>38208</td><td>[45570, 53579, … 46363]</td><td>[11309, 13708, 38908]</td></tr><tr><td>5248</td><td>[82627, 44400, … 52683]</td><td>[47752, 73874, 36939]</td></tr><tr><td>&hellip;</td><td>&hellip;</td><td>&hellip;</td></tr><tr><td>3551</td><td>[83652, 42857, … 10956]</td><td>[83433, 1293, 47993]</td></tr><tr><td>28767</td><td>[77595, 54312, … 40091]</td><td>[81805, 13801, 26746]</td></tr><tr><td>6175</td><td>[54203, 53330, … 6507]</td><td>[59370, 87736, 26048]</td></tr><tr><td>31007</td><td>[31458, 64426, … 86391]</td><td>[56169, 49187, 41134]</td></tr><tr><td>46271</td><td>[77631, 16241, … 59871]</td><td>[25550, 59911, 13720]</td></tr><tr><td>14047</td><td>[47406, 82980, … 72220]</td><td>[65844, 81439, 29579]</td></tr><tr><td>45343</td><td>[74833, 87869, … 64824]</td><td>[32438, 57751, 27437]</td></tr><tr><td>2495</td><td>[59099, 70660, … 25435]</td><td>[65733, 37947, 43176]</td></tr><tr><td>42367</td><td>[86644, 58879, … 36939]</td><td>[66901, 47335, 59437]</td></tr><tr><td>479</td><td>[10007, 6481, … 7214]</td><td>[23794, 83528, 27427]</td></tr><tr><td>20351</td><td>[32388, 28659, … 18948]</td><td>[38229, 13802, 81439]</td></tr><tr><td>49311</td><td>[25992, 53330, … 5023]</td><td>[20954, 9708, 41657]</td></tr></tbody></table></div>"
      ],
      "text/plain": [
       "shape: (50_000, 3)\n",
       "┌─────────┬─────────────────────────┬───────────────────────┐\n",
       "│ user_id ┆ train_item_ids          ┆ test_item_ids         │\n",
       "│ ---     ┆ ---                     ┆ ---                   │\n",
       "│ i64     ┆ list[i64]               ┆ list[i64]             │\n",
       "╞═════════╪═════════════════════════╪═══════════════════════╡\n",
       "│ 7968    ┆ [35676, 42835, … 38681] ┆ [83125, 40959, 30194] │\n",
       "│ 40192   ┆ [44706, 66455, … 5799]  ┆ [34568, 26, 9761]     │\n",
       "│ 49536   ┆ [84680, 56057, … 68680] ┆ [70157, 65724, 35864] │\n",
       "│ 27488   ┆ [82918, 41266, … 53024] ┆ [52762, 77785, 60505] │\n",
       "│ …       ┆ …                       ┆ …                     │\n",
       "│ 42367   ┆ [86644, 58879, … 36939] ┆ [66901, 47335, 59437] │\n",
       "│ 479     ┆ [10007, 6481, … 7214]   ┆ [23794, 83528, 27427] │\n",
       "│ 20351   ┆ [32388, 28659, … 18948] ┆ [38229, 13802, 81439] │\n",
       "│ 49311   ┆ [25992, 53330, … 5023]  ┆ [20954, 9708, 41657]  │\n",
       "└─────────┴─────────────────────────┴───────────────────────┘"
      ]
     },
     "execution_count": 9,
     "metadata": {},
     "output_type": "execute_result"
    }
   ],
   "source": [
    "grouped_df_with_inds = (\n",
    "    data\n",
    "    .with_columns([\n",
    "        pl.col('user_id').apply(user_mapping.get),\n",
    "        pl.col('artist_id').apply(artist_mapping.get),\n",
    "    ])\n",
    "    # для каждого пользователя оставим последние 3 объекта в качестве тестовой выборки,\n",
    "    # а остальное будем использовать для тренировки\n",
    "    .groupby('user_id')\n",
    "    .agg([\n",
    "        pl.col('artist_id').apply(lambda x: x[:-3]).alias('train_item_ids'),\n",
    "        pl.col('artist_id').apply(lambda x: x[-3:]).alias('test_item_ids'),\n",
    "    ])\n",
    ")\n",
    "\n",
    "grouped_df_with_inds"
   ]
  },
  {
   "cell_type": "code",
   "execution_count": 10,
   "id": "7cd5a463",
   "metadata": {},
   "outputs": [],
   "source": [
    "# соберем строчки для разреженной матрицы для тренировки\n",
    "rows = []\n",
    "cols = []\n",
    "values = []\n",
    "for user_id, train_ids, _ in grouped_df_with_inds.rows():\n",
    "    rows.extend([user_id] * len(train_ids))\n",
    "    values.extend([1] * len(train_ids))\n",
    "    cols.extend(train_ids)\n",
    "\n",
    "train_user_item_data = sp.csr_matrix((values, (rows, cols)))"
   ]
  },
  {
   "cell_type": "code",
   "execution_count": 11,
   "id": "5e58ab01",
   "metadata": {},
   "outputs": [],
   "source": [
    "# соберем строчки для разреженной матрицы со всеми рейтингами\n",
    "rows = []\n",
    "cols = []\n",
    "values = []\n",
    "for user_id, train_ids, test_ids in grouped_df_with_inds.rows():\n",
    "    # используем все данные для финальных предсказаний\n",
    "    train_ids = (train_ids + test_ids)\n",
    "    rows.extend([user_id] * len(train_ids))\n",
    "    values.extend([1] * len(train_ids))\n",
    "    cols.extend(train_ids)\n",
    "\n",
    "user_item_data = sp.csr_matrix((values, (rows, cols)), dtype=float)"
   ]
  },
  {
   "cell_type": "code",
   "execution_count": 12,
   "id": "36dea774",
   "metadata": {},
   "outputs": [
    {
     "name": "stdout",
     "output_type": "stream",
     "text": [
      "средняя длина сессии 42\n"
     ]
    }
   ],
   "source": [
    "median_seq_len = int(grouped_df_with_inds['train_item_ids'].apply(len).median())\n",
    "print(f\"средняя длина сессии {median_seq_len}\")"
   ]
  },
  {
   "cell_type": "code",
   "execution_count": 13,
   "id": "ab50cfa2",
   "metadata": {},
   "outputs": [],
   "source": [
    "RANDOM_STATE = 42\n",
    "\n",
    "def set_seed():\n",
    "    random.seed(RANDOM_STATE)\n",
    "    np.random.seed(RANDOM_STATE)\n",
    "    \n",
    "    \n",
    "def get_recommendations(user_embs: np.array, item_embs: np.array, k: int = TOP_K):\n",
    "    # строим индекс объектов\n",
    "    index = faiss.IndexFlatIP(item_embs.shape[1])\n",
    "    index.add(item_embs)\n",
    "\n",
    "    # строим рекомендации с помощью dot-product расстояния\n",
    "    # с запасом, чтобы после фильтрации просмотренных осталось хотя бы TOP_K\n",
    "    return index.search(user_embs, k)"
   ]
  },
  {
   "cell_type": "markdown",
   "id": "e064a3aa",
   "metadata": {},
   "source": [
    "## Бейзлайны\n",
    "\n",
    "В качестве простого бейзлайна будем рекомендовать самый популярных артистов\n",
    "\n",
    "Мы хотим сначала провалидировать такое решение, а значит в качестве популярных артистов мы возьмем только тех, кто чаще встречается в `train_item_ids`"
   ]
  },
  {
   "cell_type": "code",
   "execution_count": 13,
   "id": "fa65a122",
   "metadata": {
    "scrolled": true
   },
   "outputs": [],
   "source": [
    "top_artists = (\n",
    "    grouped_df_with_inds\n",
    "    .select(pl.col('train_item_ids').alias('artist_id'))\n",
    "    .explode('artist_id')\n",
    "    .groupby('artist_id')\n",
    "    .count()\n",
    "    .sort('count', descending=True)\n",
    "    .head(1_000)\n",
    ")['artist_id'].to_list()"
   ]
  },
  {
   "cell_type": "code",
   "execution_count": 14,
   "id": "2b39b15d",
   "metadata": {},
   "outputs": [
    {
     "name": "stdout",
     "output_type": "stream",
     "text": [
      "NDCG@20 = 0.01401, Hitrate@20 = 0.10248\n"
     ]
    }
   ],
   "source": [
    "ndcg_list = []\n",
    "hitrate_list = []\n",
    "\n",
    "for user_id, user_history, y_rel in grouped_df_with_inds.rows():\n",
    "    y_rec = top_artists.copy()[:TOP_K]\n",
    "    \n",
    "    ndcg_list.append(user_ndcg(y_rel, y_rec))\n",
    "    hitrate_list.append(user_hitrate(y_rel, y_rec))\n",
    "    \n",
    "print(f'NDCG@{TOP_K} = {np.mean(ndcg_list):.5f}, Hitrate@{TOP_K} = {np.mean(hitrate_list):.5f}')"
   ]
  },
  {
   "cell_type": "markdown",
   "id": "f30d3687",
   "metadata": {},
   "source": [
    "Не забываем про фильтрацию просмотренного (для разных доменов и подходов это не всегда улучши рекомендации, но в данном случае дало прирост)"
   ]
  },
  {
   "cell_type": "code",
   "execution_count": 15,
   "id": "900f8bcc",
   "metadata": {},
   "outputs": [
    {
     "name": "stdout",
     "output_type": "stream",
     "text": [
      "NDCG@20 = 0.01740, Hitrate@20 = 0.11684\n"
     ]
    }
   ],
   "source": [
    "ndcg_list = []\n",
    "hitrate_list = []\n",
    "\n",
    "for user_id, user_history, y_rel in grouped_df_with_inds.rows():\n",
    "    y_rec = [artist_id for artist_id in top_artists if artist_id not in user_history]\n",
    "    \n",
    "    ndcg_list.append(user_ndcg(y_rel, y_rec))\n",
    "    hitrate_list.append(user_hitrate(y_rel, y_rec))\n",
    "    \n",
    "print(f'NDCG@{TOP_K} = {np.mean(ndcg_list):.5f}, Hitrate@{TOP_K} = {np.mean(hitrate_list):.5f}')"
   ]
  },
  {
   "cell_type": "markdown",
   "id": "b7373ba7",
   "metadata": {},
   "source": [
    "## Построим файл с рекомендациями\n",
    "\n",
    "Для построения рекомендаций теперь можем учесть все возможные данные"
   ]
  },
  {
   "cell_type": "code",
   "execution_count": 16,
   "id": "32275e4a",
   "metadata": {},
   "outputs": [],
   "source": [
    "top_artists = (\n",
    "    data\n",
    "    .groupby('artist_id')\n",
    "    .count()\n",
    "    .sort('count', descending=True)\n",
    "    .head(1_000)\n",
    ")['artist_id'].to_list()"
   ]
  },
  {
   "cell_type": "code",
   "execution_count": 22,
   "id": "8a3cb241",
   "metadata": {
    "scrolled": true
   },
   "outputs": [
    {
     "data": {
      "text/html": [
       "<div><style>\n",
       ".dataframe > thead > tr > th,\n",
       ".dataframe > tbody > tr > td {\n",
       "  text-align: right;\n",
       "}\n",
       "</style>\n",
       "<small>shape: (50_000, 2)</small><table border=\"1\" class=\"dataframe\"><thead><tr><th>user_id</th><th>y_rec</th></tr><tr><td>str</td><td>list[str]</td></tr></thead><tbody><tr><td>&quot;680f12f8-b830-…</td><td>[&quot;5cd0ffb5-0cf2-4ecd-8c5b-ca2102e33198&quot;, &quot;12289298-d9dc-4b1d-bc27-16480829de75&quot;, … &quot;f468c554-1cf2-4bd6-9281-4ed93216427c&quot;]</td></tr><tr><td>&quot;271ca035-3a9b-…</td><td>[&quot;5cd0ffb5-0cf2-4ecd-8c5b-ca2102e33198&quot;, &quot;12289298-d9dc-4b1d-bc27-16480829de75&quot;, … &quot;f468c554-1cf2-4bd6-9281-4ed93216427c&quot;]</td></tr><tr><td>&quot;2a68fcf1-a5ba-…</td><td>[&quot;5cd0ffb5-0cf2-4ecd-8c5b-ca2102e33198&quot;, &quot;12289298-d9dc-4b1d-bc27-16480829de75&quot;, … &quot;f468c554-1cf2-4bd6-9281-4ed93216427c&quot;]</td></tr><tr><td>&quot;9d209d9a-1d8c-…</td><td>[&quot;12289298-d9dc-4b1d-bc27-16480829de75&quot;, &quot;3a6df691-648d-467d-995e-eb06c53ea725&quot;, … &quot;40d5f4f7-3560-4638-a562-055013eee0d4&quot;]</td></tr><tr><td>&quot;8718fe5c-48f2-…</td><td>[&quot;5cd0ffb5-0cf2-4ecd-8c5b-ca2102e33198&quot;, &quot;12289298-d9dc-4b1d-bc27-16480829de75&quot;, … &quot;f468c554-1cf2-4bd6-9281-4ed93216427c&quot;]</td></tr><tr><td>&quot;9d7b0cf8-23df-…</td><td>[&quot;5cd0ffb5-0cf2-4ecd-8c5b-ca2102e33198&quot;, &quot;3a6df691-648d-467d-995e-eb06c53ea725&quot;, … &quot;f0c7d12c-a479-4d43-b786-51e6e28bad59&quot;]</td></tr><tr><td>&quot;cc92d25d-5cf0-…</td><td>[&quot;5cd0ffb5-0cf2-4ecd-8c5b-ca2102e33198&quot;, &quot;3a6df691-648d-467d-995e-eb06c53ea725&quot;, … &quot;42cee962-0f50-4728-b887-01cb7a207075&quot;]</td></tr><tr><td>&quot;42196377-02d8-…</td><td>[&quot;5cd0ffb5-0cf2-4ecd-8c5b-ca2102e33198&quot;, &quot;12289298-d9dc-4b1d-bc27-16480829de75&quot;, … &quot;40d5f4f7-3560-4638-a562-055013eee0d4&quot;]</td></tr><tr><td>&quot;e7474f77-1995-…</td><td>[&quot;5cd0ffb5-0cf2-4ecd-8c5b-ca2102e33198&quot;, &quot;ee0f3f04-8fa0-46ad-b821-2a5ebf5ca6e9&quot;, … &quot;87a7508f-415e-4080-8bff-8ff94cfec4a6&quot;]</td></tr><tr><td>&quot;c0fa624a-db53-…</td><td>[&quot;3a6df691-648d-467d-995e-eb06c53ea725&quot;, &quot;a26c9335-2459-4c89-a00c-fdecbeb2c8c4&quot;, … &quot;87a7508f-415e-4080-8bff-8ff94cfec4a6&quot;]</td></tr><tr><td>&quot;71743019-177a-…</td><td>[&quot;5cd0ffb5-0cf2-4ecd-8c5b-ca2102e33198&quot;, &quot;12289298-d9dc-4b1d-bc27-16480829de75&quot;, … &quot;40d5f4f7-3560-4638-a562-055013eee0d4&quot;]</td></tr><tr><td>&quot;6738d296-d812-…</td><td>[&quot;5cd0ffb5-0cf2-4ecd-8c5b-ca2102e33198&quot;, &quot;12289298-d9dc-4b1d-bc27-16480829de75&quot;, … &quot;b6908c95-ed36-4bc1-bd0a-0ad196a2e387&quot;]</td></tr><tr><td>&hellip;</td><td>&hellip;</td></tr><tr><td>&quot;904567df-9ac1-…</td><td>[&quot;5cd0ffb5-0cf2-4ecd-8c5b-ca2102e33198&quot;, &quot;12289298-d9dc-4b1d-bc27-16480829de75&quot;, … &quot;40d5f4f7-3560-4638-a562-055013eee0d4&quot;]</td></tr><tr><td>&quot;2b2c109f-e81f-…</td><td>[&quot;5cd0ffb5-0cf2-4ecd-8c5b-ca2102e33198&quot;, &quot;12289298-d9dc-4b1d-bc27-16480829de75&quot;, … &quot;f468c554-1cf2-4bd6-9281-4ed93216427c&quot;]</td></tr><tr><td>&quot;839c4571-5bc2-…</td><td>[&quot;5cd0ffb5-0cf2-4ecd-8c5b-ca2102e33198&quot;, &quot;12289298-d9dc-4b1d-bc27-16480829de75&quot;, … &quot;5013361c-4240-442e-855e-19f0185aa442&quot;]</td></tr><tr><td>&quot;82077e54-b8e8-…</td><td>[&quot;5cd0ffb5-0cf2-4ecd-8c5b-ca2102e33198&quot;, &quot;12289298-d9dc-4b1d-bc27-16480829de75&quot;, … &quot;87a7508f-415e-4080-8bff-8ff94cfec4a6&quot;]</td></tr><tr><td>&quot;19fa7c07-ff5a-…</td><td>[&quot;5cd0ffb5-0cf2-4ecd-8c5b-ca2102e33198&quot;, &quot;3a6df691-648d-467d-995e-eb06c53ea725&quot;, … &quot;40d5f4f7-3560-4638-a562-055013eee0d4&quot;]</td></tr><tr><td>&quot;d0ad747d-e97a-…</td><td>[&quot;5cd0ffb5-0cf2-4ecd-8c5b-ca2102e33198&quot;, &quot;12289298-d9dc-4b1d-bc27-16480829de75&quot;, … &quot;b6908c95-ed36-4bc1-bd0a-0ad196a2e387&quot;]</td></tr><tr><td>&quot;fe57dc4e-2f95-…</td><td>[&quot;12289298-d9dc-4b1d-bc27-16480829de75&quot;, &quot;3a6df691-648d-467d-995e-eb06c53ea725&quot;, … &quot;40d5f4f7-3560-4638-a562-055013eee0d4&quot;]</td></tr><tr><td>&quot;f430b453-5eb8-…</td><td>[&quot;5cd0ffb5-0cf2-4ecd-8c5b-ca2102e33198&quot;, &quot;12289298-d9dc-4b1d-bc27-16480829de75&quot;, … &quot;40d5f4f7-3560-4638-a562-055013eee0d4&quot;]</td></tr><tr><td>&quot;9767212e-a5d9-…</td><td>[&quot;5cd0ffb5-0cf2-4ecd-8c5b-ca2102e33198&quot;, &quot;3a6df691-648d-467d-995e-eb06c53ea725&quot;, … &quot;40d5f4f7-3560-4638-a562-055013eee0d4&quot;]</td></tr><tr><td>&quot;0a01d309-8719-…</td><td>[&quot;3a6df691-648d-467d-995e-eb06c53ea725&quot;, &quot;a26c9335-2459-4c89-a00c-fdecbeb2c8c4&quot;, … &quot;b6908c95-ed36-4bc1-bd0a-0ad196a2e387&quot;]</td></tr><tr><td>&quot;43c93129-a685-…</td><td>[&quot;5cd0ffb5-0cf2-4ecd-8c5b-ca2102e33198&quot;, &quot;12289298-d9dc-4b1d-bc27-16480829de75&quot;, … &quot;b6908c95-ed36-4bc1-bd0a-0ad196a2e387&quot;]</td></tr><tr><td>&quot;5c6d7d65-4aa1-…</td><td>[&quot;5cd0ffb5-0cf2-4ecd-8c5b-ca2102e33198&quot;, &quot;12289298-d9dc-4b1d-bc27-16480829de75&quot;, … &quot;f468c554-1cf2-4bd6-9281-4ed93216427c&quot;]</td></tr></tbody></table></div>"
      ],
      "text/plain": [
       "shape: (50_000, 2)\n",
       "┌───────────────────────────────────┬───────────────────────────────────┐\n",
       "│ user_id                           ┆ y_rec                             │\n",
       "│ ---                               ┆ ---                               │\n",
       "│ str                               ┆ list[str]                         │\n",
       "╞═══════════════════════════════════╪═══════════════════════════════════╡\n",
       "│ 680f12f8-b830-455c-9f4c-f5274466… ┆ [\"5cd0ffb5-0cf2-4ecd-8c5b-ca2102… │\n",
       "│ 271ca035-3a9b-4747-aef6-b3c11e7c… ┆ [\"5cd0ffb5-0cf2-4ecd-8c5b-ca2102… │\n",
       "│ 2a68fcf1-a5ba-4576-ad54-08cce734… ┆ [\"5cd0ffb5-0cf2-4ecd-8c5b-ca2102… │\n",
       "│ 9d209d9a-1d8c-4863-be34-52bd29c3… ┆ [\"12289298-d9dc-4b1d-bc27-164808… │\n",
       "│ …                                 ┆ …                                 │\n",
       "│ 9767212e-a5d9-4f01-b79c-fe9863e9… ┆ [\"5cd0ffb5-0cf2-4ecd-8c5b-ca2102… │\n",
       "│ 0a01d309-8719-49d6-b5af-7f33d501… ┆ [\"3a6df691-648d-467d-995e-eb06c5… │\n",
       "│ 43c93129-a685-4fdf-b2c4-c95096fb… ┆ [\"5cd0ffb5-0cf2-4ecd-8c5b-ca2102… │\n",
       "│ 5c6d7d65-4aa1-4406-a459-09486fd7… ┆ [\"5cd0ffb5-0cf2-4ecd-8c5b-ca2102… │\n",
       "└───────────────────────────────────┴───────────────────────────────────┘"
      ]
     },
     "execution_count": 22,
     "metadata": {},
     "output_type": "execute_result"
    }
   ],
   "source": [
    "submission = []\n",
    "\n",
    "for user_id, user_history in data.groupby('user_id').agg(pl.col('artist_id')).rows():\n",
    "    y_rec = [\n",
    "        artist_id\n",
    "        for artist_id in top_artists\n",
    "        if artist_id not in user_history\n",
    "    ][:TOP_K]\n",
    "    \n",
    "    submission.append((user_id, y_rec))\n",
    "    \n",
    "submission = pl.DataFrame(submission, schema=('user_id', 'y_rec'))\n",
    "submission.write_parquet('sample_submission.parquet')\n",
    "submission"
   ]
  },
  {
   "cell_type": "markdown",
   "id": "824f7ac3",
   "metadata": {},
   "source": [
    "Не забывайте, что в файле с рекомендациями должны быть **исходные идентификаторы (строки)**, а не преобразованные в числа!"
   ]
  },
  {
   "cell_type": "markdown",
   "id": "83063dfb",
   "metadata": {},
   "source": [
    "## ALS\n",
    "\n",
    "Модель показала лучшие результаты с подобранными с помощью `optuna` гиперпараметрами"
   ]
  },
  {
   "cell_type": "code",
   "execution_count": 46,
   "id": "a09e0944",
   "metadata": {},
   "outputs": [],
   "source": [
    "top_artists_mapped = [artist_mapping[artist_id] for artist_id in top_artists]\n",
    "\n",
    "def evaluate_model(model):\n",
    "    # строим рекомендации в виде KNN алгоритма поверх эмбеддингов пользователей и артистов\n",
    "    _, recs = get_recommendations(\n",
    "        model.user_factors,\n",
    "        model.item_factors,\n",
    "        TOP_K + median_seq_len\n",
    "    )\n",
    "    \n",
    "    # будем отслеживать как ndcg, так и hitrate метрики\n",
    "    ndcg_list = []\n",
    "    hitrate_list = []\n",
    "    \n",
    "    for user_id, user_history, y_rel in grouped_df_with_inds.select(\n",
    "        'user_id', 'train_item_ids', 'test_item_ids'\n",
    "    ).rows():\n",
    "        user_history = set(user_history)\n",
    "        if user_id < len(recs):\n",
    "            y_rec = [\n",
    "                item_id\n",
    "                # чтобы точно хватило рекомендаций, добавим еще топовых артистов в конец списка\n",
    "                for item_id in list(recs[user_id]) + top_artists_mapped\n",
    "                if item_id not in user_history\n",
    "            ]\n",
    "        else:\n",
    "            y_rec = []\n",
    "        hitrate_list.append(user_hitrate(y_rel, y_rec))\n",
    "        ndcg_list.append(user_ndcg(y_rel, y_rec))\n",
    "        \n",
    "    mean_ndcg = np.mean(ndcg_list)\n",
    "    mean_hitrate = np.mean(hitrate_list)\n",
    "    return mean_ndcg, mean_hitrate"
   ]
  },
  {
   "cell_type": "code",
   "execution_count": 33,
   "id": "679c043c",
   "metadata": {
    "scrolled": true
   },
   "outputs": [
    {
     "name": "stderr",
     "output_type": "stream",
     "text": [
      "[I 2023-10-16 17:18:32,470] A new study created in memory with name: no-name-e2981e4b-f26f-4135-a08b-08a010f20ee3\n"
     ]
    },
    {
     "name": "stdout",
     "output_type": "stream",
     "text": [
      "{'factors': 36, 'iterations': 9, 'alpha': 2.3789267986759275, 'regularization': 0.07534946665601996}\n"
     ]
    },
    {
     "data": {
      "application/vnd.jupyter.widget-view+json": {
       "model_id": "2eb7e783a99b4c398c4aa1de4df45b6e",
       "version_major": 2,
       "version_minor": 0
      },
      "text/plain": [
       "  0%|          | 0/9 [00:00<?, ?it/s]"
      ]
     },
     "metadata": {},
     "output_type": "display_data"
    },
    {
     "name": "stderr",
     "output_type": "stream",
     "text": [
      "[I 2023-10-16 17:18:58,217] Trial 0 finished with value: 0.05601240968411231 and parameters: {'factors': 36, 'iterations': 9, 'alpha': 2.3789267986759275, 'regularization': 0.07534946665601996}. Best is trial 0 with value: 0.05601240968411231.\n"
     ]
    },
    {
     "name": "stdout",
     "output_type": "stream",
     "text": [
      "NDCG@20 = 0.05601240968411231, Hitrate@20 = 0.32418\n",
      "{'factors': 29, 'iterations': 20, 'alpha': 3.387909934029769, 'regularization': 0.018921582625997854}\n"
     ]
    },
    {
     "data": {
      "application/vnd.jupyter.widget-view+json": {
       "model_id": "88ad843f60e642a98f405cf1e14013df",
       "version_major": 2,
       "version_minor": 0
      },
      "text/plain": [
       "  0%|          | 0/20 [00:00<?, ?it/s]"
      ]
     },
     "metadata": {},
     "output_type": "display_data"
    },
    {
     "name": "stderr",
     "output_type": "stream",
     "text": [
      "[I 2023-10-16 17:19:32,975] Trial 1 finished with value: 0.05594894800188442 and parameters: {'factors': 29, 'iterations': 20, 'alpha': 3.387909934029769, 'regularization': 0.018921582625997854}. Best is trial 0 with value: 0.05601240968411231.\n"
     ]
    },
    {
     "name": "stdout",
     "output_type": "stream",
     "text": [
      "NDCG@20 = 0.05594894800188442, Hitrate@20 = 0.32446\n",
      "{'factors': 30, 'iterations': 30, 'alpha': 1.0593207656275891, 'regularization': 0.06309481161297134}\n"
     ]
    },
    {
     "data": {
      "application/vnd.jupyter.widget-view+json": {
       "model_id": "62fc4fa5ac2a4a3cbeb9808bc886a051",
       "version_major": 2,
       "version_minor": 0
      },
      "text/plain": [
       "  0%|          | 0/30 [00:00<?, ?it/s]"
      ]
     },
     "metadata": {},
     "output_type": "display_data"
    },
    {
     "name": "stderr",
     "output_type": "stream",
     "text": [
      "[I 2023-10-16 17:20:20,524] Trial 2 finished with value: 0.04936166801843503 and parameters: {'factors': 30, 'iterations': 30, 'alpha': 1.0593207656275891, 'regularization': 0.06309481161297134}. Best is trial 0 with value: 0.05601240968411231.\n"
     ]
    },
    {
     "name": "stdout",
     "output_type": "stream",
     "text": [
      "NDCG@20 = 0.04936166801843503, Hitrate@20 = 0.2905\n",
      "{'factors': 20, 'iterations': 8, 'alpha': 1.4196914970095822, 'regularization': 0.07681728367721125}\n"
     ]
    },
    {
     "data": {
      "application/vnd.jupyter.widget-view+json": {
       "model_id": "118bc98b26884459bdb6d869bdc2ed91",
       "version_major": 2,
       "version_minor": 0
      },
      "text/plain": [
       "  0%|          | 0/8 [00:00<?, ?it/s]"
      ]
     },
     "metadata": {},
     "output_type": "display_data"
    },
    {
     "name": "stderr",
     "output_type": "stream",
     "text": [
      "[I 2023-10-16 17:20:30,711] Trial 3 finished with value: 0.04873747434148573 and parameters: {'factors': 20, 'iterations': 8, 'alpha': 1.4196914970095822, 'regularization': 0.07681728367721125}. Best is trial 0 with value: 0.05601240968411231.\n"
     ]
    },
    {
     "name": "stdout",
     "output_type": "stream",
     "text": [
      "NDCG@20 = 0.04873747434148573, Hitrate@20 = 0.28692\n",
      "{'factors': 12, 'iterations': 13, 'alpha': 1.260570402495505, 'regularization': 0.09605942395989482}\n"
     ]
    },
    {
     "data": {
      "application/vnd.jupyter.widget-view+json": {
       "model_id": "484e79e5d3994db0ad86a03bacf64614",
       "version_major": 2,
       "version_minor": 0
      },
      "text/plain": [
       "  0%|          | 0/13 [00:00<?, ?it/s]"
      ]
     },
     "metadata": {},
     "output_type": "display_data"
    },
    {
     "name": "stderr",
     "output_type": "stream",
     "text": [
      "[I 2023-10-16 17:20:43,015] Trial 4 finished with value: 0.043673272588193195 and parameters: {'factors': 12, 'iterations': 13, 'alpha': 1.260570402495505, 'regularization': 0.09605942395989482}. Best is trial 0 with value: 0.05601240968411231.\n"
     ]
    },
    {
     "name": "stdout",
     "output_type": "stream",
     "text": [
      "NDCG@20 = 0.043673272588193195, Hitrate@20 = 0.26282\n"
     ]
    },
    {
     "data": {
      "text/plain": [
       "{'factors': 36,\n",
       " 'iterations': 9,\n",
       " 'alpha': 2.3789267986759275,\n",
       " 'regularization': 0.07534946665601996}"
      ]
     },
     "execution_count": 33,
     "metadata": {},
     "output_type": "execute_result"
    }
   ],
   "source": [
    "def objective(trial):\n",
    "    factors = trial.suggest_int('factors', 8, 64)\n",
    "    iterations = trial.suggest_int('iterations', 5, 30)\n",
    "    alpha = trial.suggest_float('alpha', 0.1, 5.0)\n",
    "    regularization = trial.suggest_float('regularization', 1e-3, 1e-1)\n",
    "        \n",
    "    print({\n",
    "        'factors': factors,\n",
    "        'iterations': iterations,\n",
    "        'alpha': alpha,\n",
    "        'regularization': regularization,\n",
    "    })\n",
    "    \n",
    "    set_seed()\n",
    "    als_model = implicit.als.AlternatingLeastSquares(\n",
    "        factors=factors,\n",
    "        iterations=iterations,\n",
    "        random_state=RANDOM_STATE,\n",
    "        alpha=alpha,\n",
    "        regularization=regularization\n",
    "    )\n",
    "    als_model.fit(train_user_item_data)\n",
    "    \n",
    "    mean_ndcg, mean_hitrate = evaluate_model(als_model)\n",
    "    print(f'NDCG@{TOP_K} = {mean_ndcg}, Hitrate@{TOP_K} = {mean_hitrate}')\n",
    "    return mean_ndcg\n",
    "    \n",
    "    \n",
    "study = optuna.create_study(directions=('maximize',))\n",
    "# тут запускается всего 5 итераций, что может быть очень мало для хороших результатов\n",
    "study.optimize(objective, n_trials=5)\n",
    "\n",
    "study.best_params"
   ]
  },
  {
   "cell_type": "code",
   "execution_count": 34,
   "id": "40284d55",
   "metadata": {},
   "outputs": [
    {
     "data": {
      "application/vnd.jupyter.widget-view+json": {
       "model_id": "a662455df5e342fb973c3866694fc1df",
       "version_major": 2,
       "version_minor": 0
      },
      "text/plain": [
       "  0%|          | 0/40 [00:00<?, ?it/s]"
      ]
     },
     "metadata": {},
     "output_type": "display_data"
    },
    {
     "name": "stdout",
     "output_type": "stream",
     "text": [
      "NDCG@20 = 0.06642426190347041, Hitrate@20 = 0.36858\n"
     ]
    }
   ],
   "source": [
    "# одни из оптимальных параметров (у вас может получиться еще лучше)\n",
    "params = {\n",
    "    'factors': 128,\n",
    "    'iterations': 40,\n",
    "    'alpha': 5,\n",
    "    'regularization': 0.02,\n",
    "    'random_state': RANDOM_STATE\n",
    "}\n",
    "\n",
    "als_model = implicit.als.AlternatingLeastSquares(\n",
    "    **params\n",
    ")\n",
    "als_model.fit(train_user_item_data)\n",
    "\n",
    "mean_ndcg, mean_hitrate = evaluate_model(als_model)\n",
    "print(f'NDCG@{TOP_K} = {mean_ndcg}, Hitrate@{TOP_K} = {mean_hitrate}')"
   ]
  },
  {
   "cell_type": "markdown",
   "id": "b39486ac",
   "metadata": {},
   "source": [
    "Для финальных рекомендаций хорошо бы использовать все данные, поэтому обучим алгоритм на полных данных с теми же гиперпараметрами"
   ]
  },
  {
   "cell_type": "code",
   "execution_count": 14,
   "id": "2f378f1a",
   "metadata": {},
   "outputs": [],
   "source": [
    "sample_submission = (\n",
    "    pl.read_parquet('sample_submission.parquet')\n",
    "    .with_columns([pl.col('user_id').apply(user_mapping.get)])\n",
    ")\n",
    "\n",
    "# используем все имеющиеся данные для обучения модели\n",
    "train_data = (\n",
    "    data\n",
    "    .with_columns([\n",
    "        pl.col('user_id').apply(user_mapping.get),\n",
    "        pl.col('artist_id').apply(artist_mapping.get),\n",
    "    ])\n",
    "    .groupby('user_id').agg(pl.col('artist_id').alias('user_history'))\n",
    "    .join(sample_submission, 'user_id', 'inner')\n",
    "    .select('user_id', 'user_history')\n",
    ")"
   ]
  },
  {
   "cell_type": "code",
   "execution_count": 47,
   "id": "8f9c8bc6",
   "metadata": {
    "scrolled": true
   },
   "outputs": [
    {
     "name": "stderr",
     "output_type": "stream",
     "text": [
      "100%|█████████████████████████████████████████████████████████████████████████████████████████████████████| 50000/50000 [00:02<00:00, 18007.58it/s]\n"
     ]
    },
    {
     "data": {
      "text/html": [
       "<div><style>\n",
       ".dataframe > thead > tr > th,\n",
       ".dataframe > tbody > tr > td {\n",
       "  text-align: right;\n",
       "}\n",
       "</style>\n",
       "<small>shape: (50_000, 2)</small><table border=\"1\" class=\"dataframe\"><thead><tr><th>user_id</th><th>y_rec</th></tr><tr><td>str</td><td>list[str]</td></tr></thead><tbody><tr><td>&quot;1d664c61-55cb-…</td><td>[&quot;db2802ef-5aac-4a78-a688-f022944f186b&quot;, &quot;62c59774-4d7d-4ad5-b46b-e5de9e0730da&quot;, … &quot;af48c579-07bf-4bab-9755-31d8aaba3511&quot;]</td></tr><tr><td>&quot;f680183f-5c16-…</td><td>[&quot;b306c596-f83f-4007-a4c9-d72ef951e8e8&quot;, &quot;92f2e07f-24b5-41bd-9d87-15c355cbba08&quot;, … &quot;2e5f8198-d76c-40de-8c1a-4fda388086c3&quot;]</td></tr><tr><td>&quot;ad3dbca0-9eb0-…</td><td>[&quot;5bc90a5d-1356-4958-821c-64328ac567ea&quot;, &quot;7a6eba6b-e565-4e9c-a383-00eec0c73f5a&quot;, … &quot;d5d62e25-f4a8-4b4f-bc98-3fe25346d38d&quot;]</td></tr><tr><td>&quot;218523a8-2e9d-…</td><td>[&quot;24962209-ca4e-4a1e-9e85-fd7d1e86a07f&quot;, &quot;78ca3640-59ca-4e18-b218-f8605c2c7344&quot;, … &quot;1cf28489-fb9a-4732-91c1-609b6faeca1d&quot;]</td></tr><tr><td>&quot;84f5c9be-99a5-…</td><td>[&quot;68acfdf7-29cc-4fb0-bfaf-a1a7eecb8502&quot;, &quot;f4ff906c-7acd-4235-b62d-d8ffc5fbebc7&quot;, … &quot;1ca54366-2198-4079-a6c5-f030712fe9f3&quot;]</td></tr><tr><td>&quot;53d0e85b-588a-…</td><td>[&quot;e4feec41-ac39-4358-bee5-7608abb8946e&quot;, &quot;5fa9bef8-ed42-421a-ab82-5e3ad35c0cbb&quot;, … &quot;e0e8fa50-748b-4e83-baaf-d5daf051e76d&quot;]</td></tr><tr><td>&quot;b9a43f13-213a-…</td><td>[&quot;c8822a9f-f6f2-4025-ae84-8b7cd45c916f&quot;, &quot;42cee962-0f50-4728-b887-01cb7a207075&quot;, … &quot;98e69a29-ee83-41f1-924e-08a50a32efdc&quot;]</td></tr><tr><td>&quot;e62c7b73-54f1-…</td><td>[&quot;02e9fac4-b25a-4779-b51b-cefd2189bd59&quot;, &quot;1657c161-1e2d-4823-b9bc-39db72c4b4d6&quot;, … &quot;8caad1cc-e3a0-48f5-af61-89b6025d38e0&quot;]</td></tr><tr><td>&quot;d7f1921d-a86b-…</td><td>[&quot;f3dce478-ec1a-45a8-923d-59ecdbc6c59d&quot;, &quot;58389edf-72df-468f-8e79-7fb8ce6a6124&quot;, … &quot;2099bb7f-bcb2-40b6-a58c-77f57d375b7d&quot;]</td></tr><tr><td>&quot;4bdc12f6-14f5-…</td><td>[&quot;90ddb877-05d9-4b70-884b-8d90082d2868&quot;, &quot;736a0780-57b9-4c54-9fd2-b0a4c36af4c7&quot;, … &quot;b4e4b725-d47f-4f79-b044-a14cdd47e980&quot;]</td></tr><tr><td>&quot;e587b66d-2308-…</td><td>[&quot;71dc0933-bb6f-4142-9713-8a8ce2f6423a&quot;, &quot;5fd3c94c-5005-4261-a962-c3c39c28cdd4&quot;, … &quot;78ca3640-59ca-4e18-b218-f8605c2c7344&quot;]</td></tr><tr><td>&quot;0ff476a8-b6bb-…</td><td>[&quot;70c48577-a1cf-408a-9a27-2238541a24cb&quot;, &quot;bb3e76ec-0288-4c92-bd2a-536217825cf2&quot;, … &quot;224f17fd-74e2-4d0b-93a7-63bd7af9c01d&quot;]</td></tr><tr><td>&hellip;</td><td>&hellip;</td></tr><tr><td>&quot;324ce44e-3218-…</td><td>[&quot;a26c9335-2459-4c89-a00c-fdecbeb2c8c4&quot;, &quot;1e9955cc-5e66-41c0-a360-427e93ccbfe2&quot;, … &quot;52e591b1-653c-41ad-ba51-9154c0518586&quot;]</td></tr><tr><td>&quot;33bf8fd6-03fd-…</td><td>[&quot;bc6f0982-2adc-41ce-a02e-e82b4fad02a3&quot;, &quot;cc4d682c-339a-41ac-923f-0de13c5270d5&quot;, … &quot;f4768b9b-554b-48fb-9b27-b442da74befc&quot;]</td></tr><tr><td>&quot;f6dbc1af-bd17-…</td><td>[&quot;a502e177-fd67-4915-8722-6510c7a8325b&quot;, &quot;453b497b-1763-4e49-a7c0-dc9dfbdbbd65&quot;, … &quot;ef2c57a7-d053-496d-928c-160833e0bb13&quot;]</td></tr><tr><td>&quot;3f38686b-1ecc-…</td><td>[&quot;72d1a307-a48c-4ae1-bcb6-e80baff4c508&quot;, &quot;a662889e-d41f-4acd-9712-a983e3c3d91d&quot;, … &quot;59961c01-7437-46f4-b495-c3905a03aff4&quot;]</td></tr><tr><td>&quot;4b981f28-c868-…</td><td>[&quot;1254fab8-02e2-44d2-b9dc-99427c4142eb&quot;, &quot;39a327dd-fc85-46c0-9f6c-2ab8bac7b2a6&quot;, … &quot;ca4b9970-9db4-4ad7-93ee-36548ddc0ca6&quot;]</td></tr><tr><td>&quot;d43b57b1-23c1-…</td><td>[&quot;ff2be04e-208a-4afb-a73c-23f79eba6f5f&quot;, &quot;2a451020-9aad-4a5a-a2eb-3be7480b9c88&quot;, … &quot;ed437fe5-c894-4ddf-b2ce-d1f91988e32d&quot;]</td></tr><tr><td>&quot;0176c7c5-3e24-…</td><td>[&quot;f3e598cb-4a59-4648-b954-2b462334c131&quot;, &quot;ad605f29-a38c-4bdb-9537-ff67c9a3b910&quot;, … &quot;7e1fff3c-b399-49ea-be28-23b50c539e73&quot;]</td></tr><tr><td>&quot;ad601f4c-4e23-…</td><td>[&quot;ec3abff3-8d40-4712-a714-3518b9f25f6f&quot;, &quot;b66f620c-144b-4758-bc14-983faeb1b336&quot;, … &quot;69c71d72-7ed8-42c4-b9ec-c33976a310b9&quot;]</td></tr><tr><td>&quot;fd4089ae-4145-…</td><td>[&quot;f24dea76-e631-47d5-9b43-d17223debcc1&quot;, &quot;277c978f-65fd-4d35-9784-feed640f11b6&quot;, … &quot;1c15b984-289d-4773-8ef0-fe11b5a7b6d5&quot;]</td></tr><tr><td>&quot;b851bb44-0ffa-…</td><td>[&quot;98baf118-4500-4048-9c04-d5eb2927dd52&quot;, &quot;5b24a1d0-20c9-4e45-a877-f55af5b1e551&quot;, … &quot;3152e2a0-f370-487a-b060-b3dae7bda7d7&quot;]</td></tr><tr><td>&quot;e3646306-24d5-…</td><td>[&quot;eceeb524-01b4-4fc6-8a44-24882da06a94&quot;, &quot;c60fe0f5-2e52-45b6-bdb9-13b44f382ca5&quot;, … &quot;50bf3bfe-4b58-4a6e-a193-ccc406a6f6d7&quot;]</td></tr><tr><td>&quot;d458c3d4-90fd-…</td><td>[&quot;4b83d4b0-9559-4346-ae3a-8eb54632c6f9&quot;, &quot;39b221cb-3e89-4c28-98af-962140d97819&quot;, … &quot;1273f5ce-0c87-48ba-ac03-52b3976fd31f&quot;]</td></tr></tbody></table></div>"
      ],
      "text/plain": [
       "shape: (50_000, 2)\n",
       "┌───────────────────────────────────┬───────────────────────────────────┐\n",
       "│ user_id                           ┆ y_rec                             │\n",
       "│ ---                               ┆ ---                               │\n",
       "│ str                               ┆ list[str]                         │\n",
       "╞═══════════════════════════════════╪═══════════════════════════════════╡\n",
       "│ 1d664c61-55cb-4c17-b75b-503e16a2… ┆ [\"db2802ef-5aac-4a78-a688-f02294… │\n",
       "│ f680183f-5c16-43c0-ad91-6c11d5ea… ┆ [\"b306c596-f83f-4007-a4c9-d72ef9… │\n",
       "│ ad3dbca0-9eb0-49c9-8b7b-01d8fa26… ┆ [\"5bc90a5d-1356-4958-821c-64328a… │\n",
       "│ 218523a8-2e9d-4494-9072-b8078bbd… ┆ [\"24962209-ca4e-4a1e-9e85-fd7d1e… │\n",
       "│ …                                 ┆ …                                 │\n",
       "│ fd4089ae-4145-4934-9929-9e4fc90b… ┆ [\"f24dea76-e631-47d5-9b43-d17223… │\n",
       "│ b851bb44-0ffa-40b5-80fa-a7b2f3e9… ┆ [\"98baf118-4500-4048-9c04-d5eb29… │\n",
       "│ e3646306-24d5-4541-9eee-5fbe5da5… ┆ [\"eceeb524-01b4-4fc6-8a44-24882d… │\n",
       "│ d458c3d4-90fd-446e-bbc9-d3c3e7f3… ┆ [\"4b83d4b0-9559-4346-ae3a-8eb546… │\n",
       "└───────────────────────────────────┴───────────────────────────────────┘"
      ]
     },
     "execution_count": 47,
     "metadata": {},
     "output_type": "execute_result"
    }
   ],
   "source": [
    "als_model = implicit.als.AlternatingLeastSquares(\n",
    "    **params\n",
    ")\n",
    "als_model.fit(user_item_data)\n",
    "\n",
    "_, recs = get_recommendations(\n",
    "    als_model.user_factors,\n",
    "    als_model.item_factors,\n",
    "    TOP_K + median_seq_len\n",
    ")\n",
    "\n",
    "submission = []\n",
    "for user_id, user_history in tqdm(train_data.rows()):\n",
    "    user_history = set(user_history)\n",
    "    y_rec = [\n",
    "        artist_mapping_inverse[item_id]\n",
    "        for item_id in list(recs[user_id]) + top_artists_mapped\n",
    "        if item_id not in user_history\n",
    "    ][:TOP_K]\n",
    "        \n",
    "    submission.append((user_mapping_inverse[user_id], y_rec))\n",
    "    \n",
    "submission = pl.DataFrame(submission, schema=('user_id', 'y_rec'))\n",
    "submission.write_parquet('als_submission.parquet')\n",
    "submission"
   ]
  },
  {
   "cell_type": "markdown",
   "id": "3e43255d",
   "metadata": {},
   "source": [
    "Такая модель уже выбиывает NDCG@20 = 0.8, но мы пойдем дальше"
   ]
  },
  {
   "cell_type": "markdown",
   "id": "5d210a8d",
   "metadata": {},
   "source": [
    "## W2V"
   ]
  },
  {
   "cell_type": "code",
   "execution_count": 21,
   "id": "41566f38",
   "metadata": {},
   "outputs": [],
   "source": [
    "def evaluate_model(model, filter_watched: bool = True):\n",
    "    ndcg_list = []\n",
    "    hitrate_list = []\n",
    "\n",
    "    set_seed()\n",
    "    for user_history, y_rel in tqdm(grouped_df_with_inds.sample(n=10_000).select(\n",
    "        'train_item_ids', 'test_item_ids'\n",
    "    ).rows()):\n",
    "        model_preds = model.predict_output_word(\n",
    "            user_history[-model.window:],\n",
    "            topn=(TOP_K + len(user_history))\n",
    "        )\n",
    "        if model_preds is None:\n",
    "            y_rec = []\n",
    "        else:\n",
    "            y_rec = [\n",
    "                pred[0]\n",
    "                for pred in model_preds\n",
    "                if not filter_watched or pred[0] not in user_history\n",
    "            ]\n",
    "\n",
    "        ndcg_list.append(user_ndcg(y_rel, y_rec))\n",
    "        hitrate_list.append(user_hitrate(y_rel, y_rec))\n",
    "    return np.mean(hitrate_list), np.mean(ndcg_list)"
   ]
  },
  {
   "cell_type": "code",
   "execution_count": null,
   "id": "88c40568",
   "metadata": {
    "scrolled": true
   },
   "outputs": [],
   "source": [
    "def objective(trial):\n",
    "    sg = trial.suggest_categorical('sg', [0, 1])\n",
    "    window = trial.suggest_int('window', 1, 10)\n",
    "    ns_exponent = trial.suggest_float('ns_exponent', -3, 3)\n",
    "    negative = trial.suggest_int('negative', 3, 20)\n",
    "    min_count = trial.suggest_int('min_count', 0, 20)\n",
    "    vector_size = trial.suggest_categorical('vector_size', [16, 32, 64, 128])\n",
    "    \n",
    "    print({\n",
    "        'sg': sg,\n",
    "        'window_len': window,\n",
    "        'ns_exponent': ns_exponent,\n",
    "        'negative': negative,\n",
    "        'min_count': min_count,\n",
    "        'vector_size': vector_size,\n",
    "    })\n",
    "    \n",
    "    set_seed()\n",
    "    model = Word2Vec(\n",
    "        grouped_df_with_inds['train_item_ids'].to_list(),\n",
    "        window=window,\n",
    "        sg=sg,\n",
    "        hs=0,\n",
    "        min_count=min_count,\n",
    "        vector_size=vector_size,\n",
    "        negative=negative,\n",
    "        ns_exponent=ns_exponent,\n",
    "        seed=RANDOM_STATE,\n",
    "        epochs=10,\n",
    "    )\n",
    "    \n",
    "    mean_hitrate, mean_ndcg = evaluate_model(model)\n",
    "    print(f'NDCG@{TOP_K} = {mean_ndcg}, Hitrate@{TOP_K} = {mean_hitrate}')\n",
    "    return mean_ndcg\n",
    "    \n",
    "    \n",
    "study = optuna.create_study(directions=('maximize',))\n",
    "study.optimize(objective, n_trials=5)\n",
    "\n",
    "study.best_params"
   ]
  },
  {
   "cell_type": "code",
   "execution_count": 22,
   "id": "f6a40d1d",
   "metadata": {},
   "outputs": [
    {
     "name": "stderr",
     "output_type": "stream",
     "text": [
      "100%|██████████| 50000/50000 [00:23<00:00, 2106.77it/s]"
     ]
    },
    {
     "name": "stdout",
     "output_type": "stream",
     "text": [
      "NDCG@20 = 0.055886763416826704, Hitrate@20 = 0.32918\n"
     ]
    },
    {
     "name": "stderr",
     "output_type": "stream",
     "text": [
      "\n"
     ]
    }
   ],
   "source": [
    "model = Word2Vec(\n",
    "    grouped_df_with_inds['train_item_ids'].to_list(),\n",
    "    sg=0,\n",
    "    vector_size=32,\n",
    "    min_count=18,\n",
    "    epochs=30,\n",
    "    negative=17,\n",
    "    window=10,\n",
    "    ns_exponent=0.05,\n",
    "    seed=RANDOM_STATE,\n",
    ")\n",
    "\n",
    "mean_hitrate, mean_ndcg = evaluate_model(model)\n",
    "print(f'NDCG@{TOP_K} = {mean_ndcg}, Hitrate@{TOP_K} = {mean_hitrate}')"
   ]
  },
  {
   "cell_type": "code",
   "execution_count": 23,
   "id": "a5ec3add",
   "metadata": {},
   "outputs": [],
   "source": [
    "model = Word2Vec(\n",
    "    train_data['user_history'].to_list(),\n",
    "    sg=0,\n",
    "    vector_size=32,\n",
    "    min_count=18,\n",
    "    epochs=30,\n",
    "    negative=17,\n",
    "    window=10,\n",
    "    ns_exponent=0.05,\n",
    "    seed=RANDOM_STATE,\n",
    ")"
   ]
  },
  {
   "cell_type": "code",
   "execution_count": 24,
   "id": "0298c212",
   "metadata": {
    "scrolled": true
   },
   "outputs": [
    {
     "name": "stderr",
     "output_type": "stream",
     "text": [
      "100%|██████████| 50000/50000 [00:32<00:00, 1552.32it/s]\n"
     ]
    },
    {
     "data": {
      "text/html": [
       "<div><style>\n",
       ".dataframe > thead > tr > th,\n",
       ".dataframe > tbody > tr > td {\n",
       "  text-align: right;\n",
       "}\n",
       "</style>\n",
       "<small>shape: (50_000, 2)</small><table border=\"1\" class=\"dataframe\"><thead><tr><th>user_id</th><th>y_rec</th></tr><tr><td>str</td><td>list[str]</td></tr></thead><tbody><tr><td>&quot;680f12f8-b830-…</td><td>[&quot;af1969e0-5472-4c3e-8b16-0ff9bcc5092e&quot;, &quot;3ba7c3fe-009d-476e-a7d2-48d90dbe1670&quot;, … &quot;7611fde9-6085-4130-89b5-ee3f3e7ea9f9&quot;]</td></tr><tr><td>&quot;271ca035-3a9b-…</td><td>[&quot;929c116f-f9c7-49de-8736-5d5fbed9684b&quot;, &quot;270e883c-4647-4b35-8768-5d61842337ab&quot;, … &quot;2c129971-c111-4262-a3ca-d937f0c81e09&quot;]</td></tr><tr><td>&quot;2a68fcf1-a5ba-…</td><td>[&quot;b306c596-f83f-4007-a4c9-d72ef951e8e8&quot;, &quot;1d763d72-7915-46df-9924-5a8d8b3c5da6&quot;, … &quot;e0d0391a-7454-4d3e-a690-950204ef59bf&quot;]</td></tr><tr><td>&quot;9d209d9a-1d8c-…</td><td>[&quot;5a0069a4-fd89-4d82-adb8-75f637fb63c5&quot;, &quot;e2302565-709f-42ba-9df1-8f80a8438c4d&quot;, … &quot;16f10fa5-0bf4-465a-a190-6475b531139f&quot;]</td></tr><tr><td>&quot;8718fe5c-48f2-…</td><td>[&quot;453b497b-1763-4e49-a7c0-dc9dfbdbbd65&quot;, &quot;7611fde9-6085-4130-89b5-ee3f3e7ea9f9&quot;, … &quot;305a1203-f2cc-4ee8-8d71-ed95373a9502&quot;]</td></tr><tr><td>&quot;9d7b0cf8-23df-…</td><td>[&quot;936ecd0f-d6a4-422c-8db9-f3e04066a8e1&quot;, &quot;ee0f3f04-8fa0-46ad-b821-2a5ebf5ca6e9&quot;, … &quot;d7cdd1aa-57b6-4bfd-a17a-d30c6f6f0bc3&quot;]</td></tr><tr><td>&quot;cc92d25d-5cf0-…</td><td>[&quot;11494b56-e03a-418a-87ce-bb15b61bd7d4&quot;, &quot;41fc8889-8d69-4617-88b8-734463af3b70&quot;, … &quot;5d154542-b2f5-448c-b2ce-9083d3a0ed9f&quot;]</td></tr><tr><td>&quot;42196377-02d8-…</td><td>[&quot;9bb2a8fd-ead3-449d-9a03-8f2c55d606b5&quot;, &quot;2b5be6d8-bcdc-4ab4-8f5e-d52b742b15d1&quot;, … &quot;16178a7c-44ae-42be-a8df-0fa162bc2b7c&quot;]</td></tr><tr><td>&quot;e7474f77-1995-…</td><td>[&quot;c0f5fbff-2648-430d-9cc9-c377421e8690&quot;, &quot;24962209-ca4e-4a1e-9e85-fd7d1e86a07f&quot;, … &quot;ef363177-3d87-4d6f-9206-0363066adeea&quot;]</td></tr><tr><td>&quot;c0fa624a-db53-…</td><td>[&quot;7c5b4e7e-4929-4d34-a55b-e28e28a8ea3c&quot;, &quot;74dafc03-3483-4870-a83a-8b95e730c6dd&quot;, … &quot;cb1ef45a-47ab-4a87-a7b1-ad45be137bdc&quot;]</td></tr><tr><td>&quot;71743019-177a-…</td><td>[&quot;3885d30a-a26f-4440-8c5e-349daa25033a&quot;, &quot;cc97fc57-30b5-45b3-940f-9d1bad93b47c&quot;, … &quot;70379d9d-ee1f-4914-b7e2-9eff2a6183b8&quot;]</td></tr><tr><td>&quot;6738d296-d812-…</td><td>[&quot;40039115-5037-4c5b-a80b-a7190571f4ab&quot;, &quot;62c59774-4d7d-4ad5-b46b-e5de9e0730da&quot;, … &quot;a2cc5093-7af1-4815-8334-07a61de86361&quot;]</td></tr><tr><td>&hellip;</td><td>&hellip;</td></tr><tr><td>&quot;904567df-9ac1-…</td><td>[&quot;0d6682bb-a7d3-4896-b9f8-ad24b0fc50f9&quot;, &quot;db10b446-5b2d-42ed-ba35-4bfec74b52aa&quot;, … &quot;c1335e7c-1309-4ed5-acad-278c1ec60a20&quot;]</td></tr><tr><td>&quot;2b2c109f-e81f-…</td><td>[&quot;b2f46544-e0d2-49a0-9919-955dcc9c3158&quot;, &quot;c2a01cab-0108-4a17-a205-db3e3ff7b01c&quot;, … &quot;359bf877-4b32-478c-ac3f-60e8437f4a19&quot;]</td></tr><tr><td>&quot;839c4571-5bc2-…</td><td>[&quot;600562be-ff0f-4864-be38-3d3889fad715&quot;, &quot;1f5a1563-b169-4e16-973c-7258331c3c0a&quot;, … &quot;5fd3c94c-5005-4261-a962-c3c39c28cdd4&quot;]</td></tr><tr><td>&quot;82077e54-b8e8-…</td><td>[&quot;4e1063ab-2b1d-471d-aaa6-cbca88b3cf76&quot;, &quot;ea63c8fd-4e9d-4735-8f87-15c27cd98540&quot;, … &quot;693aefb0-cbaf-4163-8aff-72a22781f8fa&quot;]</td></tr><tr><td>&quot;19fa7c07-ff5a-…</td><td>[&quot;a6cdae3d-16ae-430a-8716-b82f64ed758d&quot;, &quot;13145656-b46b-4dba-875f-9b6f7bf5d72e&quot;, … &quot;f3dce478-ec1a-45a8-923d-59ecdbc6c59d&quot;]</td></tr><tr><td>&quot;d0ad747d-e97a-…</td><td>[&quot;2a2394a2-a728-463b-9099-9e47070dcc6e&quot;, &quot;2b5be6d8-bcdc-4ab4-8f5e-d52b742b15d1&quot;, … &quot;f1b0737c-e17f-4ed8-af84-24d4b3eae8e9&quot;]</td></tr><tr><td>&quot;fe57dc4e-2f95-…</td><td>[&quot;f3dce478-ec1a-45a8-923d-59ecdbc6c59d&quot;, &quot;6f1b8a85-c127-40a6-84be-d659aefc99e8&quot;, … &quot;311dbc38-5149-4df4-a2de-000627591130&quot;]</td></tr><tr><td>&quot;f430b453-5eb8-…</td><td>[&quot;b0480abe-7e29-4732-886b-f3e6c788d6d8&quot;, &quot;aa5644fc-4ddb-4afd-9925-685101d40328&quot;, … &quot;62b29913-1efd-4737-a703-1b57a29e871f&quot;]</td></tr><tr><td>&quot;9767212e-a5d9-…</td><td>[&quot;ef2a665b-5634-408a-9819-f012dc374dbc&quot;, &quot;7611fde9-6085-4130-89b5-ee3f3e7ea9f9&quot;, … &quot;400fbdf5-3f36-472b-a943-e52e9a2f6dec&quot;]</td></tr><tr><td>&quot;0a01d309-8719-…</td><td>[&quot;cc4f5447-3984-409f-862e-5f5fb6b9cda2&quot;, &quot;148a5aca-2f10-4577-afe9-ca83e9e56bad&quot;, … &quot;f3c1bfc8-9121-4b27-9d1c-5c69acdf5d6f&quot;]</td></tr><tr><td>&quot;43c93129-a685-…</td><td>[&quot;e58bd8d2-d6a0-4116-ab6a-7c7c7e868d1c&quot;, &quot;e1900de9-9f5c-4c47-b916-164125c2f7db&quot;, … &quot;8ef47f41-fc5f-4452-9edc-0846a900ad15&quot;]</td></tr><tr><td>&quot;5c6d7d65-4aa1-…</td><td>[&quot;da33b22a-7c7d-43b3-b23c-ea33e11acae5&quot;, &quot;f0c7d12c-a479-4d43-b786-51e6e28bad59&quot;, … &quot;1cf28489-fb9a-4732-91c1-609b6faeca1d&quot;]</td></tr></tbody></table></div>"
      ],
      "text/plain": [
       "shape: (50_000, 2)\n",
       "┌───────────────────────────────────┬───────────────────────────────────┐\n",
       "│ user_id                           ┆ y_rec                             │\n",
       "│ ---                               ┆ ---                               │\n",
       "│ str                               ┆ list[str]                         │\n",
       "╞═══════════════════════════════════╪═══════════════════════════════════╡\n",
       "│ 680f12f8-b830-455c-9f4c-f5274466… ┆ [\"af1969e0-5472-4c3e-8b16-0ff9bc… │\n",
       "│ 271ca035-3a9b-4747-aef6-b3c11e7c… ┆ [\"929c116f-f9c7-49de-8736-5d5fbe… │\n",
       "│ 2a68fcf1-a5ba-4576-ad54-08cce734… ┆ [\"b306c596-f83f-4007-a4c9-d72ef9… │\n",
       "│ 9d209d9a-1d8c-4863-be34-52bd29c3… ┆ [\"5a0069a4-fd89-4d82-adb8-75f637… │\n",
       "│ …                                 ┆ …                                 │\n",
       "│ 9767212e-a5d9-4f01-b79c-fe9863e9… ┆ [\"ef2a665b-5634-408a-9819-f012dc… │\n",
       "│ 0a01d309-8719-49d6-b5af-7f33d501… ┆ [\"cc4f5447-3984-409f-862e-5f5fb6… │\n",
       "│ 43c93129-a685-4fdf-b2c4-c95096fb… ┆ [\"e58bd8d2-d6a0-4116-ab6a-7c7c7e… │\n",
       "│ 5c6d7d65-4aa1-4406-a459-09486fd7… ┆ [\"da33b22a-7c7d-43b3-b23c-ea33e1… │\n",
       "└───────────────────────────────────┴───────────────────────────────────┘"
      ]
     },
     "execution_count": 24,
     "metadata": {},
     "output_type": "execute_result"
    }
   ],
   "source": [
    "submission = []\n",
    "for user_id, user_history in tqdm(train_data.rows()):\n",
    "    model_preds = model.predict_output_word(\n",
    "        user_history[-model.window:],\n",
    "        topn=(TOP_K + len(user_history))\n",
    "    )\n",
    "    if model_preds is not None:\n",
    "        y_rec = [\n",
    "            artist_mapping_inverse[pred[0]]\n",
    "            for pred in model_preds\n",
    "            if pred[0] not in user_history\n",
    "        ][:TOP_K]\n",
    "        \n",
    "    submission.append((user_mapping_inverse[user_id], y_rec))\n",
    "    \n",
    "submission = pl.DataFrame(submission, schema=('user_id', 'y_rec'))\n",
    "submission.write_parquet('w2v_submission.parquet')\n",
    "submission"
   ]
  },
  {
   "cell_type": "markdown",
   "id": "979f19af",
   "metadata": {},
   "source": [
    "## Объединим методы\n",
    "\n",
    "В качестве бейзлайнов для объединения нескольких методов может выступать поочередная конкатенация списков, например:\n",
    "\n",
    "- `y_rec_1 = [1, 2, 3]`\n",
    "- `y_rec_2 = [4, 5, 6]`\n",
    "\n",
    "Тогда `y_rec = [1, 4, 2, 5, 3, 6]`\n",
    "\n",
    "Можно придумать и посложнее метод, например объединять отсортировать все объекты с весами, которые зависят от позиции в списке и качества всего метода\n",
    "\n",
    "В качестве веса позиции $i$ мы будем использовать $\\dfrac{1}{\\log(i)}$, что соответствует весу в метрике NDCG"
   ]
  },
  {
   "cell_type": "code",
   "execution_count": 78,
   "id": "d557dea4",
   "metadata": {},
   "outputs": [
    {
     "name": "stdout",
     "output_type": "stream",
     "text": [
      "[0.3926945 0.6073055]\n"
     ]
    }
   ],
   "source": [
    "temperature = 40\n",
    "\n",
    "submissions = ['w2v', 'als']\n",
    "# веса получены по рузальтатам оценки в LMS\n",
    "submission_weights = np.array([0.0706, 0.0815])\n",
    "# в качестве итоговых весов используется softmax с температурой\n",
    "# чем выше температура, тем больше будет перекос в сторону сильного решения\n",
    "submission_weights = np.exp(submission_weights * temperature) / \\\n",
    "    np.exp(submission_weights * temperature).sum()\n",
    "print(submission_weights)\n",
    "\n",
    "submissions_df = [\n",
    "    (\n",
    "        pl.read_parquet(f'{submission}_submission.parquet')\n",
    "        .with_columns([pl.col('y_rec').alias(f'{submission}_rec')])\n",
    "        .drop('y_rec')\n",
    "    )\n",
    "    for submission in submissions\n",
    "]"
   ]
  },
  {
   "cell_type": "code",
   "execution_count": 73,
   "id": "71ee7a0f",
   "metadata": {
    "scrolled": true
   },
   "outputs": [
    {
     "data": {
      "text/html": [
       "<div><style>\n",
       ".dataframe > thead > tr > th,\n",
       ".dataframe > tbody > tr > td {\n",
       "  text-align: right;\n",
       "}\n",
       "</style>\n",
       "<small>shape: (50_000, 3)</small><table border=\"1\" class=\"dataframe\"><thead><tr><th>user_id</th><th>w2v_rec</th><th>als_rec</th></tr><tr><td>str</td><td>list[str]</td><td>list[str]</td></tr></thead><tbody><tr><td>&quot;1d664c61-55cb-…</td><td>[&quot;cb346b46-0f98-488e-951b-4c9b9c3a32b1&quot;, &quot;9232a936-ce2d-473f-8526-6da103790f1f&quot;, … &quot;9e02860b-3bc2-4fda-9afa-ed3a513b12e8&quot;]</td><td>[&quot;db2802ef-5aac-4a78-a688-f022944f186b&quot;, &quot;62c59774-4d7d-4ad5-b46b-e5de9e0730da&quot;, … &quot;af48c579-07bf-4bab-9755-31d8aaba3511&quot;]</td></tr><tr><td>&quot;f680183f-5c16-…</td><td>[&quot;b306c596-f83f-4007-a4c9-d72ef951e8e8&quot;, &quot;3bcf5b33-5912-4666-be5e-cbae8d1d363a&quot;, … &quot;73807b70-4468-4d11-b0b7-9cb094d02826&quot;]</td><td>[&quot;b306c596-f83f-4007-a4c9-d72ef951e8e8&quot;, &quot;92f2e07f-24b5-41bd-9d87-15c355cbba08&quot;, … &quot;2e5f8198-d76c-40de-8c1a-4fda388086c3&quot;]</td></tr><tr><td>&quot;ad3dbca0-9eb0-…</td><td>[&quot;93015208-5848-4a4b-a090-2a91224e9ccd&quot;, &quot;a2be2a41-deb9-40ac-83ca-85ea2748aa08&quot;, … &quot;c521b9a5-c336-4c29-9051-0fa8b88d4043&quot;]</td><td>[&quot;5bc90a5d-1356-4958-821c-64328ac567ea&quot;, &quot;7a6eba6b-e565-4e9c-a383-00eec0c73f5a&quot;, … &quot;d5d62e25-f4a8-4b4f-bc98-3fe25346d38d&quot;]</td></tr><tr><td>&quot;218523a8-2e9d-…</td><td>[&quot;4b23366c-7fe0-4529-8034-90c8866c3e4e&quot;, &quot;24962209-ca4e-4a1e-9e85-fd7d1e86a07f&quot;, … &quot;a2de77b9-83d6-4322-9b33-2d08006ccaf4&quot;]</td><td>[&quot;24962209-ca4e-4a1e-9e85-fd7d1e86a07f&quot;, &quot;78ca3640-59ca-4e18-b218-f8605c2c7344&quot;, … &quot;1cf28489-fb9a-4732-91c1-609b6faeca1d&quot;]</td></tr><tr><td>&quot;84f5c9be-99a5-…</td><td>[&quot;bd3e86c2-8403-4b26-b057-0c6de8750a2a&quot;, &quot;1a424e93-7899-416f-9bfc-f21923cc14cc&quot;, … &quot;0f5319c2-c270-4aa9-8147-7648b0439192&quot;]</td><td>[&quot;68acfdf7-29cc-4fb0-bfaf-a1a7eecb8502&quot;, &quot;f4ff906c-7acd-4235-b62d-d8ffc5fbebc7&quot;, … &quot;1ca54366-2198-4079-a6c5-f030712fe9f3&quot;]</td></tr><tr><td>&quot;53d0e85b-588a-…</td><td>[&quot;8c2895aa-3204-482a-a5dd-f99bf9880732&quot;, &quot;e4feec41-ac39-4358-bee5-7608abb8946e&quot;, … &quot;89b233c3-7eb8-4865-a066-e31839107f5a&quot;]</td><td>[&quot;e4feec41-ac39-4358-bee5-7608abb8946e&quot;, &quot;5fa9bef8-ed42-421a-ab82-5e3ad35c0cbb&quot;, … &quot;e0e8fa50-748b-4e83-baaf-d5daf051e76d&quot;]</td></tr><tr><td>&quot;b9a43f13-213a-…</td><td>[&quot;40d5f4f7-3560-4638-a562-055013eee0d4&quot;, &quot;d1947eb3-8fba-4084-a173-a514820ee4cc&quot;, … &quot;0f971801-697f-4652-8cc3-4c493b8472cd&quot;]</td><td>[&quot;c8822a9f-f6f2-4025-ae84-8b7cd45c916f&quot;, &quot;42cee962-0f50-4728-b887-01cb7a207075&quot;, … &quot;98e69a29-ee83-41f1-924e-08a50a32efdc&quot;]</td></tr><tr><td>&quot;e62c7b73-54f1-…</td><td>[&quot;98e69a29-ee83-41f1-924e-08a50a32efdc&quot;, &quot;3e6852cc-d954-443b-a636-74a3a09afe95&quot;, … &quot;1657c161-1e2d-4823-b9bc-39db72c4b4d6&quot;]</td><td>[&quot;02e9fac4-b25a-4779-b51b-cefd2189bd59&quot;, &quot;1657c161-1e2d-4823-b9bc-39db72c4b4d6&quot;, … &quot;8caad1cc-e3a0-48f5-af61-89b6025d38e0&quot;]</td></tr><tr><td>&quot;d7f1921d-a86b-…</td><td>[&quot;1206882b-3557-4072-908d-55636329d943&quot;, &quot;a2be2a41-deb9-40ac-83ca-85ea2748aa08&quot;, … &quot;3a341c44-0edc-408b-a234-8eaad397cd54&quot;]</td><td>[&quot;f3dce478-ec1a-45a8-923d-59ecdbc6c59d&quot;, &quot;58389edf-72df-468f-8e79-7fb8ce6a6124&quot;, … &quot;2099bb7f-bcb2-40b6-a58c-77f57d375b7d&quot;]</td></tr><tr><td>&quot;4bdc12f6-14f5-…</td><td>[&quot;35a3b882-19ee-421c-8135-3bd7f7773b4c&quot;, &quot;0f692d11-9a2a-4964-bfaa-3841b4d537cb&quot;, … &quot;ecf1a315-88ef-474d-9976-113f4989bfb1&quot;]</td><td>[&quot;90ddb877-05d9-4b70-884b-8d90082d2868&quot;, &quot;736a0780-57b9-4c54-9fd2-b0a4c36af4c7&quot;, … &quot;b4e4b725-d47f-4f79-b044-a14cdd47e980&quot;]</td></tr><tr><td>&quot;e587b66d-2308-…</td><td>[&quot;fc95f767-7a0c-4288-9203-91f75c824a7a&quot;, &quot;71dc0933-bb6f-4142-9713-8a8ce2f6423a&quot;, … &quot;0747059a-22ad-41e2-8802-a34ebead09f8&quot;]</td><td>[&quot;71dc0933-bb6f-4142-9713-8a8ce2f6423a&quot;, &quot;5fd3c94c-5005-4261-a962-c3c39c28cdd4&quot;, … &quot;78ca3640-59ca-4e18-b218-f8605c2c7344&quot;]</td></tr><tr><td>&quot;0ff476a8-b6bb-…</td><td>[&quot;ee0f3f04-8fa0-46ad-b821-2a5ebf5ca6e9&quot;, &quot;87dcec17-8fd3-4b42-9a3d-572c24e56dd7&quot;, … &quot;b6908c95-ed36-4bc1-bd0a-0ad196a2e387&quot;]</td><td>[&quot;70c48577-a1cf-408a-9a27-2238541a24cb&quot;, &quot;bb3e76ec-0288-4c92-bd2a-536217825cf2&quot;, … &quot;224f17fd-74e2-4d0b-93a7-63bd7af9c01d&quot;]</td></tr><tr><td>&hellip;</td><td>&hellip;</td><td>&hellip;</td></tr><tr><td>&quot;324ce44e-3218-…</td><td>[&quot;b0480abe-7e29-4732-886b-f3e6c788d6d8&quot;, &quot;a26c9335-2459-4c89-a00c-fdecbeb2c8c4&quot;, … &quot;f0c7d12c-a479-4d43-b786-51e6e28bad59&quot;]</td><td>[&quot;a26c9335-2459-4c89-a00c-fdecbeb2c8c4&quot;, &quot;1e9955cc-5e66-41c0-a360-427e93ccbfe2&quot;, … &quot;52e591b1-653c-41ad-ba51-9154c0518586&quot;]</td></tr><tr><td>&quot;33bf8fd6-03fd-…</td><td>[&quot;7aa39eb9-a73f-4148-a984-eee0d215e7b3&quot;, &quot;b365b648-3af5-4b75-a59d-5b06f7c2deb8&quot;, … &quot;101ceee2-3430-4b63-ac68-f576b9b6cd51&quot;]</td><td>[&quot;bc6f0982-2adc-41ce-a02e-e82b4fad02a3&quot;, &quot;cc4d682c-339a-41ac-923f-0de13c5270d5&quot;, … &quot;f4768b9b-554b-48fb-9b27-b442da74befc&quot;]</td></tr><tr><td>&quot;f6dbc1af-bd17-…</td><td>[&quot;02bc54b8-442d-46d0-a586-d28a00fbfd33&quot;, &quot;faac1632-9102-4c56-8355-4fb2148a2025&quot;, … &quot;9e809110-0e15-4d6d-97b8-7649a99d2bdd&quot;]</td><td>[&quot;a502e177-fd67-4915-8722-6510c7a8325b&quot;, &quot;453b497b-1763-4e49-a7c0-dc9dfbdbbd65&quot;, … &quot;ef2c57a7-d053-496d-928c-160833e0bb13&quot;]</td></tr><tr><td>&quot;3f38686b-1ecc-…</td><td>[&quot;497cf223-ea5c-4a13-a6b1-b33ea14a39e6&quot;, &quot;e3682d95-ca4c-4749-8882-a3bdaaff0649&quot;, … &quot;8097f9bc-0641-463a-9295-f577bc852cbd&quot;]</td><td>[&quot;72d1a307-a48c-4ae1-bcb6-e80baff4c508&quot;, &quot;a662889e-d41f-4acd-9712-a983e3c3d91d&quot;, … &quot;59961c01-7437-46f4-b495-c3905a03aff4&quot;]</td></tr><tr><td>&quot;4b981f28-c868-…</td><td>[&quot;39a327dd-fc85-46c0-9f6c-2ab8bac7b2a6&quot;, &quot;3809986d-afcc-4329-98c5-f1272de708b4&quot;, … &quot;5ca659bf-0881-46ae-99ff-356e9a95468c&quot;]</td><td>[&quot;1254fab8-02e2-44d2-b9dc-99427c4142eb&quot;, &quot;39a327dd-fc85-46c0-9f6c-2ab8bac7b2a6&quot;, … &quot;ca4b9970-9db4-4ad7-93ee-36548ddc0ca6&quot;]</td></tr><tr><td>&quot;d43b57b1-23c1-…</td><td>[&quot;4b23366c-7fe0-4529-8034-90c8866c3e4e&quot;, &quot;12289298-d9dc-4b1d-bc27-16480829de75&quot;, … &quot;cb346b46-0f98-488e-951b-4c9b9c3a32b1&quot;]</td><td>[&quot;ff2be04e-208a-4afb-a73c-23f79eba6f5f&quot;, &quot;2a451020-9aad-4a5a-a2eb-3be7480b9c88&quot;, … &quot;ed437fe5-c894-4ddf-b2ce-d1f91988e32d&quot;]</td></tr><tr><td>&quot;0176c7c5-3e24-…</td><td>[&quot;33ae50cb-55ad-41eb-adde-b343ce46cc57&quot;, &quot;ad605f29-a38c-4bdb-9537-ff67c9a3b910&quot;, … &quot;bb72d7c7-6bd2-46e7-896a-2cadc680a6dd&quot;]</td><td>[&quot;f3e598cb-4a59-4648-b954-2b462334c131&quot;, &quot;ad605f29-a38c-4bdb-9537-ff67c9a3b910&quot;, … &quot;7e1fff3c-b399-49ea-be28-23b50c539e73&quot;]</td></tr><tr><td>&quot;ad601f4c-4e23-…</td><td>[&quot;ec3abff3-8d40-4712-a714-3518b9f25f6f&quot;, &quot;ce4b8396-8061-4225-a1ed-0528f1ca3d1a&quot;, … &quot;d1947eb3-8fba-4084-a173-a514820ee4cc&quot;]</td><td>[&quot;ec3abff3-8d40-4712-a714-3518b9f25f6f&quot;, &quot;b66f620c-144b-4758-bc14-983faeb1b336&quot;, … &quot;69c71d72-7ed8-42c4-b9ec-c33976a310b9&quot;]</td></tr><tr><td>&quot;fd4089ae-4145-…</td><td>[&quot;277c978f-65fd-4d35-9784-feed640f11b6&quot;, &quot;bb831260-c39b-4ebd-8e64-aafdcf363cc8&quot;, … &quot;b6a01c95-ca81-4396-861d-35c4e8e659c5&quot;]</td><td>[&quot;f24dea76-e631-47d5-9b43-d17223debcc1&quot;, &quot;277c978f-65fd-4d35-9784-feed640f11b6&quot;, … &quot;1c15b984-289d-4773-8ef0-fe11b5a7b6d5&quot;]</td></tr><tr><td>&quot;b851bb44-0ffa-…</td><td>[&quot;13145656-b46b-4dba-875f-9b6f7bf5d72e&quot;, &quot;cb346b46-0f98-488e-951b-4c9b9c3a32b1&quot;, … &quot;6b154588-a509-48a7-8456-bb9f1e602972&quot;]</td><td>[&quot;98baf118-4500-4048-9c04-d5eb2927dd52&quot;, &quot;5b24a1d0-20c9-4e45-a877-f55af5b1e551&quot;, … &quot;3152e2a0-f370-487a-b060-b3dae7bda7d7&quot;]</td></tr><tr><td>&quot;e3646306-24d5-…</td><td>[&quot;10186d57-5814-4672-aed3-44adfca2d45e&quot;, &quot;f5f2f362-1b22-4345-adba-0d008146a1d7&quot;, … &quot;5fd3c94c-5005-4261-a962-c3c39c28cdd4&quot;]</td><td>[&quot;eceeb524-01b4-4fc6-8a44-24882da06a94&quot;, &quot;c60fe0f5-2e52-45b6-bdb9-13b44f382ca5&quot;, … &quot;50bf3bfe-4b58-4a6e-a193-ccc406a6f6d7&quot;]</td></tr><tr><td>&quot;d458c3d4-90fd-…</td><td>[&quot;ce4b8396-8061-4225-a1ed-0528f1ca3d1a&quot;, &quot;b92158af-c727-4045-bc34-3ca7d1c35adf&quot;, … &quot;19cdee1f-2e3a-4731-a989-ec82787d1c46&quot;]</td><td>[&quot;4b83d4b0-9559-4346-ae3a-8eb54632c6f9&quot;, &quot;39b221cb-3e89-4c28-98af-962140d97819&quot;, … &quot;1273f5ce-0c87-48ba-ac03-52b3976fd31f&quot;]</td></tr></tbody></table></div>"
      ],
      "text/plain": [
       "shape: (50_000, 3)\n",
       "┌────────────────────────────────┬────────────────────────────────┬────────────────────────────────┐\n",
       "│ user_id                        ┆ w2v_rec                        ┆ als_rec                        │\n",
       "│ ---                            ┆ ---                            ┆ ---                            │\n",
       "│ str                            ┆ list[str]                      ┆ list[str]                      │\n",
       "╞════════════════════════════════╪════════════════════════════════╪════════════════════════════════╡\n",
       "│ 1d664c61-55cb-4c17-b75b-503e16 ┆ [\"cb346b46-0f98-488e-951b-4c9b ┆ [\"db2802ef-5aac-4a78-a688-f022 │\n",
       "│ a2…                            ┆ 9c…                            ┆ 94…                            │\n",
       "│ f680183f-5c16-43c0-ad91-6c11d5 ┆ [\"b306c596-f83f-4007-a4c9-d72e ┆ [\"b306c596-f83f-4007-a4c9-d72e │\n",
       "│ ea…                            ┆ f9…                            ┆ f9…                            │\n",
       "│ ad3dbca0-9eb0-49c9-8b7b-01d8fa ┆ [\"93015208-5848-4a4b-a090-2a91 ┆ [\"5bc90a5d-1356-4958-821c-6432 │\n",
       "│ 26…                            ┆ 22…                            ┆ 8a…                            │\n",
       "│ 218523a8-2e9d-4494-9072-b8078b ┆ [\"4b23366c-7fe0-4529-8034-90c8 ┆ [\"24962209-ca4e-4a1e-9e85-fd7d │\n",
       "│ bd…                            ┆ 86…                            ┆ 1e…                            │\n",
       "│ …                              ┆ …                              ┆ …                              │\n",
       "│ fd4089ae-4145-4934-9929-9e4fc9 ┆ [\"277c978f-65fd-4d35-9784-feed ┆ [\"f24dea76-e631-47d5-9b43-d172 │\n",
       "│ 0b…                            ┆ 64…                            ┆ 23…                            │\n",
       "│ b851bb44-0ffa-40b5-80fa-a7b2f3 ┆ [\"13145656-b46b-4dba-875f-9b6f ┆ [\"98baf118-4500-4048-9c04-d5eb │\n",
       "│ e9…                            ┆ 7b…                            ┆ 29…                            │\n",
       "│ e3646306-24d5-4541-9eee-5fbe5d ┆ [\"10186d57-5814-4672-aed3-44ad ┆ [\"eceeb524-01b4-4fc6-8a44-2488 │\n",
       "│ a5…                            ┆ fc…                            ┆ 2d…                            │\n",
       "│ d458c3d4-90fd-446e-bbc9-d3c3e7 ┆ [\"ce4b8396-8061-4225-a1ed-0528 ┆ [\"4b83d4b0-9559-4346-ae3a-8eb5 │\n",
       "│ f3…                            ┆ f1…                            ┆ 46…                            │\n",
       "└────────────────────────────────┴────────────────────────────────┴────────────────────────────────┘"
      ]
     },
     "execution_count": 73,
     "metadata": {},
     "output_type": "execute_result"
    }
   ],
   "source": [
    "joined_submission_df = submissions_df[0]\n",
    "for df in submissions_df[1:]:\n",
    "    joined_submission_df = joined_submission_df.join(df, 'user_id')\n",
    "joined_submission_df"
   ]
  },
  {
   "cell_type": "code",
   "execution_count": 76,
   "id": "abce0abd",
   "metadata": {
    "scrolled": true
   },
   "outputs": [
    {
     "name": "stderr",
     "output_type": "stream",
     "text": [
      "100%|█████████████████████████████████████████████████████████████████████████████████████████████████████| 50000/50000 [00:02<00:00, 24688.34it/s]\n"
     ]
    },
    {
     "data": {
      "text/html": [
       "<div><style>\n",
       ".dataframe > thead > tr > th,\n",
       ".dataframe > tbody > tr > td {\n",
       "  text-align: right;\n",
       "}\n",
       "</style>\n",
       "<small>shape: (50_000, 2)</small><table border=\"1\" class=\"dataframe\"><thead><tr><th>user_id</th><th>y_rec</th></tr><tr><td>str</td><td>list[str]</td></tr></thead><tbody><tr><td>&quot;1d664c61-55cb-…</td><td>[&quot;db2802ef-5aac-4a78-a688-f022944f186b&quot;, &quot;9232a936-ce2d-473f-8526-6da103790f1f&quot;, … &quot;56e4a99d-cefc-4c87-9484-c6f4ae663c55&quot;]</td></tr><tr><td>&quot;f680183f-5c16-…</td><td>[&quot;b306c596-f83f-4007-a4c9-d72ef951e8e8&quot;, &quot;92f2e07f-24b5-41bd-9d87-15c355cbba08&quot;, … &quot;2e5f8198-d76c-40de-8c1a-4fda388086c3&quot;]</td></tr><tr><td>&quot;ad3dbca0-9eb0-…</td><td>[&quot;5bc90a5d-1356-4958-821c-64328ac567ea&quot;, &quot;a2be2a41-deb9-40ac-83ca-85ea2748aa08&quot;, … &quot;9716186f-5518-4158-98fa-be86a800c8b7&quot;]</td></tr><tr><td>&quot;218523a8-2e9d-…</td><td>[&quot;24962209-ca4e-4a1e-9e85-fd7d1e86a07f&quot;, &quot;4b23366c-7fe0-4529-8034-90c8866c3e4e&quot;, … &quot;7ce5e594-a09f-4526-934a-d52cdcaa689a&quot;]</td></tr><tr><td>&quot;84f5c9be-99a5-…</td><td>[&quot;68acfdf7-29cc-4fb0-bfaf-a1a7eecb8502&quot;, &quot;bd3e86c2-8403-4b26-b057-0c6de8750a2a&quot;, … &quot;5342589b-b595-452b-a848-46eb26a46ef8&quot;]</td></tr><tr><td>&quot;53d0e85b-588a-…</td><td>[&quot;e4feec41-ac39-4358-bee5-7608abb8946e&quot;, &quot;8c2895aa-3204-482a-a5dd-f99bf9880732&quot;, … &quot;56840eb3-c642-4189-a870-f9adae904b69&quot;]</td></tr><tr><td>&quot;b9a43f13-213a-…</td><td>[&quot;c8822a9f-f6f2-4025-ae84-8b7cd45c916f&quot;, &quot;40d5f4f7-3560-4638-a562-055013eee0d4&quot;, … &quot;50bab9e2-d0ab-4952-aaf2-4bd860c8396e&quot;]</td></tr><tr><td>&quot;e62c7b73-54f1-…</td><td>[&quot;02e9fac4-b25a-4779-b51b-cefd2189bd59&quot;, &quot;3e6852cc-d954-443b-a636-74a3a09afe95&quot;, … &quot;0c05aab0-5d09-4b78-ae8a-e1272628f201&quot;]</td></tr><tr><td>&quot;d7f1921d-a86b-…</td><td>[&quot;f3dce478-ec1a-45a8-923d-59ecdbc6c59d&quot;, &quot;58389edf-72df-468f-8e79-7fb8ce6a6124&quot;, … &quot;577656f3-09f6-4b85-99b8-703f215c9633&quot;]</td></tr><tr><td>&quot;4bdc12f6-14f5-…</td><td>[&quot;90ddb877-05d9-4b70-884b-8d90082d2868&quot;, &quot;35a3b882-19ee-421c-8135-3bd7f7773b4c&quot;, … &quot;70c48577-a1cf-408a-9a27-2238541a24cb&quot;]</td></tr><tr><td>&quot;e587b66d-2308-…</td><td>[&quot;71dc0933-bb6f-4142-9713-8a8ce2f6423a&quot;, &quot;fc95f767-7a0c-4288-9203-91f75c824a7a&quot;, … &quot;67d0d410-3f03-44f5-87bc-66956313c089&quot;]</td></tr><tr><td>&quot;0ff476a8-b6bb-…</td><td>[&quot;70c48577-a1cf-408a-9a27-2238541a24cb&quot;, &quot;ee0f3f04-8fa0-46ad-b821-2a5ebf5ca6e9&quot;, … &quot;ef2a665b-5634-408a-9819-f012dc374dbc&quot;]</td></tr><tr><td>&hellip;</td><td>&hellip;</td></tr><tr><td>&quot;324ce44e-3218-…</td><td>[&quot;a26c9335-2459-4c89-a00c-fdecbeb2c8c4&quot;, &quot;b0480abe-7e29-4732-886b-f3e6c788d6d8&quot;, … &quot;4e1063ab-2b1d-471d-aaa6-cbca88b3cf76&quot;]</td></tr><tr><td>&quot;33bf8fd6-03fd-…</td><td>[&quot;bc6f0982-2adc-41ce-a02e-e82b4fad02a3&quot;, &quot;7aa39eb9-a73f-4148-a984-eee0d215e7b3&quot;, … &quot;7318b9fb-b568-4ba5-8c83-df93f708b3f7&quot;]</td></tr><tr><td>&quot;f6dbc1af-bd17-…</td><td>[&quot;a502e177-fd67-4915-8722-6510c7a8325b&quot;, &quot;02bc54b8-442d-46d0-a586-d28a00fbfd33&quot;, … &quot;7557a4c4-7a2d-4668-9fda-8e351f32d950&quot;]</td></tr><tr><td>&quot;3f38686b-1ecc-…</td><td>[&quot;72d1a307-a48c-4ae1-bcb6-e80baff4c508&quot;, &quot;497cf223-ea5c-4a13-a6b1-b33ea14a39e6&quot;, … &quot;9b7d07af-3e9c-4f53-9b68-321f3dac7ce8&quot;]</td></tr><tr><td>&quot;4b981f28-c868-…</td><td>[&quot;39a327dd-fc85-46c0-9f6c-2ab8bac7b2a6&quot;, &quot;1254fab8-02e2-44d2-b9dc-99427c4142eb&quot;, … &quot;418f51da-1b7b-4450-9e4e-4a235727b180&quot;]</td></tr><tr><td>&quot;d43b57b1-23c1-…</td><td>[&quot;ff2be04e-208a-4afb-a73c-23f79eba6f5f&quot;, &quot;4b23366c-7fe0-4529-8034-90c8866c3e4e&quot;, … &quot;ce9b8a75-3e4a-4cee-90ad-85eb28409070&quot;]</td></tr><tr><td>&quot;0176c7c5-3e24-…</td><td>[&quot;f3e598cb-4a59-4648-b954-2b462334c131&quot;, &quot;ad605f29-a38c-4bdb-9537-ff67c9a3b910&quot;, … &quot;0d414e3a-595e-4cdd-948c-736196ee7f80&quot;]</td></tr><tr><td>&quot;ad601f4c-4e23-…</td><td>[&quot;ec3abff3-8d40-4712-a714-3518b9f25f6f&quot;, &quot;b66f620c-144b-4758-bc14-983faeb1b336&quot;, … &quot;dc4e5ca1-17c9-4e7f-8a42-357d54458363&quot;]</td></tr><tr><td>&quot;fd4089ae-4145-…</td><td>[&quot;277c978f-65fd-4d35-9784-feed640f11b6&quot;, &quot;f24dea76-e631-47d5-9b43-d17223debcc1&quot;, … &quot;d5d62e25-f4a8-4b4f-bc98-3fe25346d38d&quot;]</td></tr><tr><td>&quot;b851bb44-0ffa-…</td><td>[&quot;98baf118-4500-4048-9c04-d5eb2927dd52&quot;, &quot;13145656-b46b-4dba-875f-9b6f7bf5d72e&quot;, … &quot;a7f2fe70-1e44-4cc5-a80a-07a5ebf52cea&quot;]</td></tr><tr><td>&quot;e3646306-24d5-…</td><td>[&quot;eceeb524-01b4-4fc6-8a44-24882da06a94&quot;, &quot;10186d57-5814-4672-aed3-44adfca2d45e&quot;, … &quot;71dc0933-bb6f-4142-9713-8a8ce2f6423a&quot;]</td></tr><tr><td>&quot;d458c3d4-90fd-…</td><td>[&quot;4b83d4b0-9559-4346-ae3a-8eb54632c6f9&quot;, &quot;b92158af-c727-4045-bc34-3ca7d1c35adf&quot;, … &quot;17c304d2-2b5e-4aaa-b37b-cb5cd462e2f9&quot;]</td></tr></tbody></table></div>"
      ],
      "text/plain": [
       "shape: (50_000, 2)\n",
       "┌───────────────────────────────────┬───────────────────────────────────┐\n",
       "│ user_id                           ┆ y_rec                             │\n",
       "│ ---                               ┆ ---                               │\n",
       "│ str                               ┆ list[str]                         │\n",
       "╞═══════════════════════════════════╪═══════════════════════════════════╡\n",
       "│ 1d664c61-55cb-4c17-b75b-503e16a2… ┆ [\"db2802ef-5aac-4a78-a688-f02294… │\n",
       "│ f680183f-5c16-43c0-ad91-6c11d5ea… ┆ [\"b306c596-f83f-4007-a4c9-d72ef9… │\n",
       "│ ad3dbca0-9eb0-49c9-8b7b-01d8fa26… ┆ [\"5bc90a5d-1356-4958-821c-64328a… │\n",
       "│ 218523a8-2e9d-4494-9072-b8078bbd… ┆ [\"24962209-ca4e-4a1e-9e85-fd7d1e… │\n",
       "│ …                                 ┆ …                                 │\n",
       "│ fd4089ae-4145-4934-9929-9e4fc90b… ┆ [\"277c978f-65fd-4d35-9784-feed64… │\n",
       "│ b851bb44-0ffa-40b5-80fa-a7b2f3e9… ┆ [\"98baf118-4500-4048-9c04-d5eb29… │\n",
       "│ e3646306-24d5-4541-9eee-5fbe5da5… ┆ [\"eceeb524-01b4-4fc6-8a44-24882d… │\n",
       "│ d458c3d4-90fd-446e-bbc9-d3c3e7f3… ┆ [\"4b83d4b0-9559-4346-ae3a-8eb546… │\n",
       "└───────────────────────────────────┴───────────────────────────────────┘"
      ]
     },
     "execution_count": 76,
     "metadata": {},
     "output_type": "execute_result"
    }
   ],
   "source": [
    "submission = []\n",
    "for user_id, *submission_recs in tqdm(joined_submission_df.rows()):\n",
    "    item_id_weight = defaultdict(float)\n",
    "\n",
    "    for i, y_rec in enumerate(submission_recs):\n",
    "        for pos, item_id in enumerate(y_rec):\n",
    "            # в качестве веса используем вес позиции в метрике ndcg и метрику качества метода\n",
    "            item_id_weight[item_id] += submission_weights[i] * 1 / np.log2(pos + 2)\n",
    "\n",
    "    y_rec = [\n",
    "        item_id\n",
    "        for item_id, _ in sorted(item_id_weight.items(), key=lambda x: -x[1])\n",
    "    ][:TOP_K]\n",
    "    \n",
    "    submission.append((user_id, y_rec))\n",
    "    \n",
    "submission = pl.DataFrame(submission, schema=('user_id', 'y_rec'))\n",
    "submission.write_parquet('weighted_submission.parquet')\n",
    "submission"
   ]
  },
  {
   "cell_type": "markdown",
   "id": "b3ba5517",
   "metadata": {},
   "source": [
    "Итого, получили метрики NDCG@20 = 0.0835 и Hitrate@20 = 0.367\n",
    "\n",
    "В блоке про ранжирование мы поговорим, как можно более эффективно объединять рекомендации из нескольких источников с помощью модели ранжирования"
   ]
  }
 ],
 "metadata": {
  "kernelspec": {
   "display_name": "Python 3 (ipykernel)",
   "language": "python",
   "name": "python3"
  },
  "language_info": {
   "codemirror_mode": {
    "name": "ipython",
    "version": 3
   },
   "file_extension": ".py",
   "mimetype": "text/x-python",
   "name": "python",
   "nbconvert_exporter": "python",
   "pygments_lexer": "ipython3",
   "version": "3.8.10"
  }
 },
 "nbformat": 4,
 "nbformat_minor": 5
}
