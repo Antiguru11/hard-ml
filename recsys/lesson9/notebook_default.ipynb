{
 "cells": [
  {
   "cell_type": "code",
   "execution_count": 6,
   "id": "8b14a0e4",
   "metadata": {},
   "outputs": [],
   "source": [
    "import random\n",
    "\n",
    "import boto3\n",
    "import polars as pl\n",
    "import numpy as np\n",
    "\n",
    "from typing import List, Any\n",
    "from tqdm import tqdm\n",
    "\n",
    "from sklearn.model_selection import train_test_split\n",
    "\n",
    "from utils.io.s3 import DataFrameType, download_dataframe, upload_dataframe\n",
    "\n",
    "import constants"
   ]
  },
  {
   "cell_type": "code",
   "execution_count": 2,
   "id": "8eff09cd",
   "metadata": {},
   "outputs": [],
   "source": [
    "s3_session = boto3.session.Session()\n",
    "s3_client = s3_session.client(service_name='s3', endpoint_url='https://storage.yandexcloud.net')"
   ]
  },
  {
   "cell_type": "code",
   "execution_count": 4,
   "id": "6d88b1cf",
   "metadata": {},
   "outputs": [],
   "source": [
    "ad_features = download_dataframe(s3_client, constants.S3_BUCKET, constants.DATA_PATH / 'ad_features.parquet', DataFrameType.POLARS)\n",
    "user_features = download_dataframe(s3_client, constants.S3_BUCKET, constants.DATA_PATH / 'user_features.parquet', DataFrameType.POLARS)\n",
    "behavioral_logs = download_dataframe(s3_client, constants.S3_BUCKET, constants.DATA_PATH / 'behavior_logs.parquet', DataFrameType.POLARS)\n",
    "data = download_dataframe(s3_client, constants.S3_BUCKET, constants.DATA_PATH / 'train.parquet', DataFrameType.POLARS)\n",
    "test = download_dataframe(s3_client, constants.S3_BUCKET, constants.DATA_PATH / 'test.parquet', DataFrameType.POLARS)"
   ]
  },
  {
   "cell_type": "markdown",
   "id": "8fb99632",
   "metadata": {},
   "source": [
    "## Описание данных\n",
    "\n",
    "### ad_features\n",
    "\n",
    "| Поле            | Тип                  | Описание                                 |\n",
    "|---              |---                   |---                                       |\n",
    "| adgroup_id      | int                  | Идентификатор рекламы                    |\n",
    "| cate_id         | int                  | Идентификатор категории                  |\n",
    "| campaign_id     | int                  | Идентификатор рекламной компании         |\n",
    "| customer        | int                  | Идентификатор рекламодателя              |\n",
    "| brand           | str                  | Идентификатор бренда                     |\n",
    "| price           | int                  | Цена товара                              |\n",
    "\n",
    "Рекламное объявление принадлежит одному товару, при этом у товара есть бренд и категория\n",
    "\n",
    "\n",
    "### user_features\n",
    "\n",
    "| Поле            | Тип                  | Описание                                 |\n",
    "|---              |---                   |---                                       |\n",
    "| userid          | int                  | Идентификатор пользователя               |\n",
    "| cms_segid       | int                  | Идентификатор сегментированной группы пользователей|\n",
    "| cms_group_id    | int                  | Идентификатор группы пользователей       |\n",
    "| final_gender_code | int                | Пол пользователя (мужской – 1, женский – 2)|\n",
    "| age_level       | int                  | Категория возраста пользователя          |\n",
    "| pvalue_level    | int                  | Уровень потребления                      |\n",
    "| shopping_level  | int                  | Уровень вовлеченности (значения из диапазона 1-3 от слабой до сильной) |\n",
    "| occupation      | int                  | Род занятости (студент или нет)          |\n",
    "| new_user_class_level | int             | Населенность города проживания           |\n",
    "\n",
    "### behavioral_logs\n",
    "\n",
    "| Поле            | Тип                  | Описание                                 |\n",
    "|---              |---                   |---                                       |\n",
    "| user            | int                  | Идентификатор пользователя               |\n",
    "| time_stamp      | int                  | Время                                    |\n",
    "| btag            | str                  | Тип действия (**pv**: просмотр, **cart**: добавление в корзину, **fav**: добавление в избранное, **buy**: покупка) |\n",
    "| cate            | int                  | Идентификатор категории                  |\n",
    "| brand           | str                  | Идентификатор бренда                     |\n",
    "\n",
    "\n",
    "### data\n",
    "\n",
    "| Поле            | Тип                  | Описание                                 |\n",
    "|---              |---                   |---                                       |\n",
    "| user            | int                  | Идентификатор пользователя               |\n",
    "| time_stamp      | int                  | Время                                    |\n",
    "| adgroup_id      | int                  | Идентификатор рекламы                    |\n",
    "| clk             | int                  | Был ли клик?                             |"
   ]
  },
  {
   "cell_type": "markdown",
   "id": "4a323bc6",
   "metadata": {},
   "source": [
    "## Оценивание\n",
    "\n",
    "В качестве метрики качества используется ndcg@10. Чтобы получить максимальный балл, достаточно добиться ndcg@10 = 0.03\n",
    "\n",
    "В качестве `y_relevant` используется те рекламные объявления, по которым были клики после собранной истории взаимодействий"
   ]
  },
  {
   "cell_type": "code",
   "execution_count": 5,
   "id": "84141ac0",
   "metadata": {},
   "outputs": [],
   "source": [
    "TOP_K = 10\n",
    "\n",
    "\n",
    "def user_intersection(y_rel: List[Any], y_rec: List[Any], k: int = 10) -> int:\n",
    "    \"\"\"\n",
    "    :param y_rel: relevant items\n",
    "    :param y_rec: recommended items\n",
    "    :param k: number of top recommended items\n",
    "    :return: number of items in intersection of y_rel and y_rec (truncated to top-K)\n",
    "    \"\"\"\n",
    "    return len(set(y_rec[:k]).intersection(set(y_rel)))\n",
    "\n",
    "def user_recall(y_rel: List[Any], y_rec: List[Any], k: int = 10) -> float:\n",
    "    \"\"\"\n",
    "    :param y_rel: relevant items\n",
    "    :param y_rec: recommended items\n",
    "    :param k: number of top recommended items\n",
    "    :return: percentage of found relevant items through recommendations\n",
    "    \"\"\"\n",
    "    return user_intersection(y_rel, y_rec, k) / len(set(y_rel))\n",
    "\n",
    "\n",
    "def user_ndcg(y_rel: List[Any], y_rec: List[Any], k: int = TOP_K) -> float:\n",
    "    \"\"\"\n",
    "    :param y_rel: relevant items\n",
    "    :param y_rec: recommended items\n",
    "    :param k: number of top recommended items\n",
    "    :return: ndcg metric for user recommendations\n",
    "    \"\"\"\n",
    "    dcg = sum([1. / np.log2(idx + 2) for idx, item in enumerate(y_rec[:k]) if item in y_rel])\n",
    "    idcg = sum([1. / np.log2(idx + 2) for idx, _ in enumerate(zip(y_rel, np.arange(k)))])\n",
    "    return dcg / idcg"
   ]
  },
  {
   "cell_type": "markdown",
   "id": "75bd7a7d",
   "metadata": {},
   "source": [
    "## Бейзлайн с использованием behavioral logs\n",
    "\n",
    "В качестве простого бейзлайна для каждого пользователя найдем категорию рекламных объявлений, наиболее интересную ему. Затем для каждой категории найдем самые популярные по метрике `ctr` (Click-through rate)."
   ]
  },
  {
   "cell_type": "code",
   "execution_count": 7,
   "id": "433d2dd2",
   "metadata": {
    "scrolled": true
   },
   "outputs": [],
   "source": [
    "data = data.sort('time_stamp')\n",
    "\n",
    "timestamp_threshold = data['time_stamp'].quantile(0.9)\n",
    "train_df = data.filter(pl.col('time_stamp') <= timestamp_threshold)\n",
    "test_df = data.filter(pl.col('time_stamp') > timestamp_threshold)"
   ]
  },
  {
   "cell_type": "code",
   "execution_count": 8,
   "id": "ac4f8b72",
   "metadata": {
    "scrolled": true
   },
   "outputs": [
    {
     "data": {
      "text/html": [
       "<div><style>\n",
       ".dataframe > thead > tr > th,\n",
       ".dataframe > tbody > tr > td {\n",
       "  text-align: right;\n",
       "}\n",
       "</style>\n",
       "<small>shape: (957_175, 3)</small><table border=\"1\" class=\"dataframe\"><thead><tr><th>user</th><th>cate</th><th>weight</th></tr><tr><td>i64</td><td>i64</td><td>i64</td></tr></thead><tbody><tr><td>1141729</td><td>4283</td><td>166</td></tr><tr><td>1141726</td><td>4505</td><td>5</td></tr><tr><td>1141725</td><td>10905</td><td>93</td></tr><tr><td>1141724</td><td>4385</td><td>135</td></tr><tr><td>1141723</td><td>6421</td><td>14</td></tr><tr><td>1141722</td><td>4263</td><td>80</td></tr><tr><td>1141721</td><td>4282</td><td>1</td></tr><tr><td>1141720</td><td>4520</td><td>51</td></tr><tr><td>1141718</td><td>6432</td><td>60</td></tr><tr><td>1141716</td><td>5954</td><td>171</td></tr><tr><td>1141715</td><td>4282</td><td>84</td></tr><tr><td>1141714</td><td>7146</td><td>84</td></tr><tr><td>&hellip;</td><td>&hellip;</td><td>&hellip;</td></tr><tr><td>13</td><td>8998</td><td>10</td></tr><tr><td>12</td><td>6432</td><td>32</td></tr><tr><td>11</td><td>4292</td><td>6</td></tr><tr><td>10</td><td>7621</td><td>82</td></tr><tr><td>8</td><td>6261</td><td>44</td></tr><tr><td>7</td><td>7266</td><td>5</td></tr><tr><td>6</td><td>9101</td><td>86</td></tr><tr><td>5</td><td>7081</td><td>1</td></tr><tr><td>4</td><td>4281</td><td>4</td></tr><tr><td>3</td><td>6511</td><td>16</td></tr><tr><td>2</td><td>6465</td><td>49</td></tr><tr><td>1</td><td>4278</td><td>44</td></tr></tbody></table></div>"
      ],
      "text/plain": [
       "shape: (957_175, 3)\n",
       "┌─────────┬───────┬────────┐\n",
       "│ user    ┆ cate  ┆ weight │\n",
       "│ ---     ┆ ---   ┆ ---    │\n",
       "│ i64     ┆ i64   ┆ i64    │\n",
       "╞═════════╪═══════╪════════╡\n",
       "│ 1141729 ┆ 4283  ┆ 166    │\n",
       "│ 1141726 ┆ 4505  ┆ 5      │\n",
       "│ 1141725 ┆ 10905 ┆ 93     │\n",
       "│ 1141724 ┆ 4385  ┆ 135    │\n",
       "│ …       ┆ …     ┆ …      │\n",
       "│ 4       ┆ 4281  ┆ 4      │\n",
       "│ 3       ┆ 6511  ┆ 16     │\n",
       "│ 2       ┆ 6465  ┆ 49     │\n",
       "│ 1       ┆ 4278  ┆ 44     │\n",
       "└─────────┴───────┴────────┘"
      ]
     },
     "execution_count": 8,
     "metadata": {},
     "output_type": "execute_result"
    }
   ],
   "source": [
    "# веса примерно соответствуют behavioral_logs['btag'].value_counts()\n",
    "weight_dict = {\n",
    "    'pv': 1,\n",
    "    'cart': 40,\n",
    "    'fav': 80,\n",
    "    'buy': 80\n",
    "}\n",
    "\n",
    "behavioral_logs_top_categories = (\n",
    "    behavioral_logs\n",
    "    # для валидации отфильтруем все события как в тренировочной выборке\n",
    "    .filter(pl.col('time_stamp') <= timestamp_threshold)\n",
    "     # каждое событие преобразуем в вес\n",
    "    .with_columns([pl.col('btag').apply(weight_dict.get).alias('weight')])\n",
    "    .groupby('user', 'cate')\n",
    "    # итоговый вес для категории – сумма весов событий\n",
    "    .agg(pl.col('weight').sum())\n",
    "    # для каждого пользователя оставим категорию с максимальным весом\n",
    "    .sort(['user', 'weight'], descending=True)\n",
    "    .unique('user', keep='first')\n",
    ")\n",
    "behavioral_logs_top_categories"
   ]
  },
  {
   "cell_type": "code",
   "execution_count": 9,
   "id": "94942869",
   "metadata": {
    "scrolled": true
   },
   "outputs": [
    {
     "data": {
      "text/html": [
       "<div><style>\n",
       ".dataframe > thead > tr > th,\n",
       ".dataframe > tbody > tr > td {\n",
       "  text-align: right;\n",
       "}\n",
       "</style>\n",
       "<small>shape: (6_074, 2)</small><table border=\"1\" class=\"dataframe\"><thead><tr><th>cate_id</th><th>y_rec</th></tr><tr><td>i64</td><td>list[i64]</td></tr></thead><tbody><tr><td>8064</td><td>[351582, 44232, … 339624]</td></tr><tr><td>6720</td><td>[7953, 404192, … 268161]</td></tr><tr><td>6624</td><td>[531599, 286359]</td></tr><tr><td>8960</td><td>[70283, 513966, … 171830]</td></tr><tr><td>11904</td><td>[125464, 49320, … 86975]</td></tr><tr><td>8416</td><td>[302623, 74549]</td></tr><tr><td>2208</td><td>[442638, 351878, … 229901]</td></tr><tr><td>6368</td><td>[363814, 138620, … 775932]</td></tr><tr><td>6912</td><td>[492814, 736966, … 94817]</td></tr><tr><td>2496</td><td>[625611, 781703, … 312904]</td></tr><tr><td>1184</td><td>[82015, 624807, … 406873]</td></tr><tr><td>5504</td><td>[2561, 815826, … 95536]</td></tr><tr><td>&hellip;</td><td>&hellip;</td></tr><tr><td>9375</td><td>[646576]</td></tr><tr><td>8223</td><td>[296553, 131629, … 190791]</td></tr><tr><td>11679</td><td>[120935, 75826, … 416636]</td></tr><tr><td>2943</td><td>[219060]</td></tr><tr><td>5087</td><td>[91060, 117905, 260116]</td></tr><tr><td>10335</td><td>[70272, 176359, … 521798]</td></tr><tr><td>8671</td><td>[93121]</td></tr><tr><td>7199</td><td>[117229]</td></tr><tr><td>4991</td><td>[400837, 526377, … 288413]</td></tr><tr><td>575</td><td>[519534, 119197, … 20154]</td></tr><tr><td>11519</td><td>[595379]</td></tr><tr><td>9567</td><td>[3907]</td></tr></tbody></table></div>"
      ],
      "text/plain": [
       "shape: (6_074, 2)\n",
       "┌─────────┬────────────────────────────┐\n",
       "│ cate_id ┆ y_rec                      │\n",
       "│ ---     ┆ ---                        │\n",
       "│ i64     ┆ list[i64]                  │\n",
       "╞═════════╪════════════════════════════╡\n",
       "│ 8064    ┆ [351582, 44232, … 339624]  │\n",
       "│ 6720    ┆ [7953, 404192, … 268161]   │\n",
       "│ 6624    ┆ [531599, 286359]           │\n",
       "│ 8960    ┆ [70283, 513966, … 171830]  │\n",
       "│ …       ┆ …                          │\n",
       "│ 4991    ┆ [400837, 526377, … 288413] │\n",
       "│ 575     ┆ [519534, 119197, … 20154]  │\n",
       "│ 11519   ┆ [595379]                   │\n",
       "│ 9567    ┆ [3907]                     │\n",
       "└─────────┴────────────────────────────┘"
      ]
     },
     "execution_count": 9,
     "metadata": {},
     "output_type": "execute_result"
    }
   ],
   "source": [
    "def get_top_candidates(x: List[dict]) -> List[int]:\n",
    "    \"\"\"\n",
    "    Для списка структур с полями ctr и adgroup_id сортирует его по убыванию ctr и возвращает\n",
    "    TOP_K соответствующих идентификаторов adgroup_id\n",
    "    \"\"\"\n",
    "    x = sorted(x, key=lambda v: -v['ctr'])[:TOP_K]\n",
    "    return list(map(lambda x: x['adgroup_id'], x))\n",
    "\n",
    "grouped_tops = (\n",
    "    train_df\n",
    "    .join(ad_features, on='adgroup_id')\n",
    "    # для пары cate_id и adgroup_id вычисляем ctr\n",
    "    .groupby('cate_id', 'adgroup_id')\n",
    "    .agg([\n",
    "        pl.col('clk').mean().alias('ctr'),\n",
    "        pl.count().alias('count')\n",
    "    ])\n",
    "    # уберем те рекламные объявления, которые были показаны всего N раз\n",
    "    .filter(pl.col('count') > 1)\n",
    "    # сгруппируем ctr и adgroup_id в словарь и вызовем функцию get_top_candidates\n",
    "    .with_columns([pl.struct(ctr=pl.col('ctr'), adgroup_id=pl.col('adgroup_id')).alias('struct')])\n",
    "    .groupby('cate_id')\n",
    "    .agg(pl.col('struct').apply(get_top_candidates).alias('y_rec'))\n",
    ")\n",
    "grouped_tops"
   ]
  },
  {
   "cell_type": "code",
   "execution_count": 10,
   "id": "643df1af",
   "metadata": {
    "scrolled": true
   },
   "outputs": [
    {
     "data": {
      "text/html": [
       "<div><style>\n",
       ".dataframe > thead > tr > th,\n",
       ".dataframe > tbody > tr > td {\n",
       "  text-align: right;\n",
       "}\n",
       "</style>\n",
       "<small>shape: (251_116, 2)</small><table border=\"1\" class=\"dataframe\"><thead><tr><th>user_id</th><th>y_rec</th></tr><tr><td>i64</td><td>list[i64]</td></tr></thead><tbody><tr><td>1141720</td><td>[511663, 692584, … 348929]</td></tr><tr><td>1141714</td><td>[725297, 547310, … 462183]</td></tr><tr><td>1141710</td><td>[196526, 141797, … 151029]</td></tr><tr><td>1141709</td><td>[518334, 595289, … 520157]</td></tr><tr><td>1141708</td><td>[577671, 741993, … 441383]</td></tr><tr><td>1141707</td><td>[404677, 270646, … 458672]</td></tr><tr><td>1141706</td><td>[7304, 204588, … 703046]</td></tr><tr><td>1141705</td><td>[577671, 741993, … 441383]</td></tr><tr><td>1141697</td><td>[105110, 440179, … 630699]</td></tr><tr><td>1141689</td><td>[511663, 692584, … 348929]</td></tr><tr><td>1141687</td><td>[89865, 336868, … 115646]</td></tr><tr><td>1141686</td><td>[503386, 509310, … 696553]</td></tr><tr><td>&hellip;</td><td>&hellip;</td></tr><tr><td>51</td><td>[461258, 507768, … 805325]</td></tr><tr><td>50</td><td>[354079, 638165, … 715481]</td></tr><tr><td>44</td><td>[354079, 638165, … 715481]</td></tr><tr><td>37</td><td>[577671, 741993, … 441383]</td></tr><tr><td>33</td><td>[577671, 741993, … 441383]</td></tr><tr><td>19</td><td>[474169, 237018, … 344666]</td></tr><tr><td>18</td><td>[362380, 375562, … 700676]</td></tr><tr><td>16</td><td>[503386, 509310, … 696553]</td></tr><tr><td>15</td><td>[309055, 652937, … 588438]</td></tr><tr><td>7</td><td>[117050, 671331, … 760727]</td></tr><tr><td>6</td><td>[668540, 816762, … 510932]</td></tr><tr><td>4</td><td>[610058, 840949, … 761828]</td></tr></tbody></table></div>"
      ],
      "text/plain": [
       "shape: (251_116, 2)\n",
       "┌─────────┬────────────────────────────┐\n",
       "│ user_id ┆ y_rec                      │\n",
       "│ ---     ┆ ---                        │\n",
       "│ i64     ┆ list[i64]                  │\n",
       "╞═════════╪════════════════════════════╡\n",
       "│ 1141720 ┆ [511663, 692584, … 348929] │\n",
       "│ 1141714 ┆ [725297, 547310, … 462183] │\n",
       "│ 1141710 ┆ [196526, 141797, … 151029] │\n",
       "│ 1141709 ┆ [518334, 595289, … 520157] │\n",
       "│ …       ┆ …                          │\n",
       "│ 15      ┆ [309055, 652937, … 588438] │\n",
       "│ 7       ┆ [117050, 671331, … 760727] │\n",
       "│ 6       ┆ [668540, 816762, … 510932] │\n",
       "│ 4       ┆ [610058, 840949, … 761828] │\n",
       "└─────────┴────────────────────────────┘"
      ]
     },
     "execution_count": 10,
     "metadata": {},
     "output_type": "execute_result"
    }
   ],
   "source": [
    "recs = (\n",
    "    test\n",
    "    .join(behavioral_logs_top_categories, left_on='user_id', right_on='user')\n",
    "    .join(grouped_tops, left_on='cate', right_on='cate_id')\n",
    "    .select('user_id', 'y_rec')\n",
    ")\n",
    "recs"
   ]
  },
  {
   "cell_type": "code",
   "execution_count": 11,
   "id": "9854132f",
   "metadata": {},
   "outputs": [
    {
     "name": "stdout",
     "output_type": "stream",
     "text": [
      "NDCG@10 = 0.0006, Recall@10 = 0.0014\n"
     ]
    }
   ],
   "source": [
    "test_grouped_df = (\n",
    "    test_df\n",
    "    # релевантны только те объекты, для которых был клик\n",
    "    .filter(pl.col('clk') == 1)\n",
    "    .groupby('user')\n",
    "    .agg(pl.col('adgroup_id').alias('y_rel'))\n",
    ")\n",
    "\n",
    "ndcg_list = []\n",
    "recall_list = []\n",
    "for _, y_rel, y_rec in test_grouped_df.join(recs, left_on='user', right_on='user_id').rows():\n",
    "    ndcg_list.append(user_ndcg(y_rel, y_rec))\n",
    "    recall_list.append(user_recall(y_rel, y_rec))\n",
    "    \n",
    "mean_ndcg = np.mean(ndcg_list)\n",
    "mean_recall = np.mean(recall_list)\n",
    "print(f'NDCG@{TOP_K} = {mean_ndcg:.4f}, Recall@{TOP_K} = {mean_recall:.4f}')"
   ]
  },
  {
   "cell_type": "markdown",
   "id": "2753c948",
   "metadata": {},
   "source": [
    "Построим рекомендации по всем данным"
   ]
  },
  {
   "cell_type": "code",
   "execution_count": 12,
   "id": "62757799",
   "metadata": {},
   "outputs": [
    {
     "data": {
      "text/html": [
       "<div><style>\n",
       ".dataframe > thead > tr > th,\n",
       ".dataframe > tbody > tr > td {\n",
       "  text-align: right;\n",
       "}\n",
       "</style>\n",
       "<small>shape: (981_716, 3)</small><table border=\"1\" class=\"dataframe\"><thead><tr><th>user</th><th>cate</th><th>weight</th></tr><tr><td>i64</td><td>i64</td><td>i64</td></tr></thead><tbody><tr><td>1141729</td><td>4283</td><td>305</td></tr><tr><td>1141726</td><td>4505</td><td>5</td></tr><tr><td>1141725</td><td>10905</td><td>93</td></tr><tr><td>1141724</td><td>4385</td><td>135</td></tr><tr><td>1141723</td><td>6421</td><td>14</td></tr><tr><td>1141722</td><td>4263</td><td>80</td></tr><tr><td>1141721</td><td>6426</td><td>4</td></tr><tr><td>1141720</td><td>4520</td><td>51</td></tr><tr><td>1141718</td><td>6432</td><td>60</td></tr><tr><td>1141716</td><td>5954</td><td>171</td></tr><tr><td>1141715</td><td>4282</td><td>85</td></tr><tr><td>1141714</td><td>7146</td><td>88</td></tr><tr><td>&hellip;</td><td>&hellip;</td><td>&hellip;</td></tr><tr><td>13</td><td>8998</td><td>10</td></tr><tr><td>12</td><td>6432</td><td>32</td></tr><tr><td>11</td><td>4292</td><td>6</td></tr><tr><td>10</td><td>7621</td><td>82</td></tr><tr><td>8</td><td>6261</td><td>44</td></tr><tr><td>7</td><td>7266</td><td>6</td></tr><tr><td>6</td><td>9101</td><td>86</td></tr><tr><td>5</td><td>7081</td><td>1</td></tr><tr><td>4</td><td>4281</td><td>4</td></tr><tr><td>3</td><td>6511</td><td>16</td></tr><tr><td>2</td><td>6465</td><td>49</td></tr><tr><td>1</td><td>4278</td><td>135</td></tr></tbody></table></div>"
      ],
      "text/plain": [
       "shape: (981_716, 3)\n",
       "┌─────────┬───────┬────────┐\n",
       "│ user    ┆ cate  ┆ weight │\n",
       "│ ---     ┆ ---   ┆ ---    │\n",
       "│ i64     ┆ i64   ┆ i64    │\n",
       "╞═════════╪═══════╪════════╡\n",
       "│ 1141729 ┆ 4283  ┆ 305    │\n",
       "│ 1141726 ┆ 4505  ┆ 5      │\n",
       "│ 1141725 ┆ 10905 ┆ 93     │\n",
       "│ 1141724 ┆ 4385  ┆ 135    │\n",
       "│ …       ┆ …     ┆ …      │\n",
       "│ 4       ┆ 4281  ┆ 4      │\n",
       "│ 3       ┆ 6511  ┆ 16     │\n",
       "│ 2       ┆ 6465  ┆ 49     │\n",
       "│ 1       ┆ 4278  ┆ 135    │\n",
       "└─────────┴───────┴────────┘"
      ]
     },
     "execution_count": 12,
     "metadata": {},
     "output_type": "execute_result"
    }
   ],
   "source": [
    "behavioral_logs_top_categories = (\n",
    "    behavioral_logs\n",
    "     # каждое событие преобразуем в вес\n",
    "    .with_columns([pl.col('btag').apply(weight_dict.get).alias('weight')])\n",
    "    .groupby('user', 'cate')\n",
    "    # итоговый вес для категории – сумма весов событий\n",
    "    .agg(pl.col('weight').sum())\n",
    "    # для каждого пользователя оставим категорию с максимальным весом\n",
    "    .sort(['user', 'weight'], descending=True)\n",
    "    .unique('user', keep='first')\n",
    ")\n",
    "behavioral_logs_top_categories"
   ]
  },
  {
   "cell_type": "code",
   "execution_count": 13,
   "id": "be8bb79d",
   "metadata": {},
   "outputs": [
    {
     "data": {
      "text/html": [
       "<div><style>\n",
       ".dataframe > thead > tr > th,\n",
       ".dataframe > tbody > tr > td {\n",
       "  text-align: right;\n",
       "}\n",
       "</style>\n",
       "<small>shape: (6_138, 2)</small><table border=\"1\" class=\"dataframe\"><thead><tr><th>cate_id</th><th>y_rec</th></tr><tr><td>i64</td><td>list[i64]</td></tr></thead><tbody><tr><td>10112</td><td>[27339, 18836, … 97599]</td></tr><tr><td>7520</td><td>[84543, 256698, … 165374]</td></tr><tr><td>800</td><td>[14056, 177207, … 708371]</td></tr><tr><td>11136</td><td>[335660, 449081, … 57849]</td></tr><tr><td>7360</td><td>[195370, 195342]</td></tr><tr><td>9984</td><td>[165761, 221503, … 345683]</td></tr><tr><td>4544</td><td>[56302, 284536, … 132707]</td></tr><tr><td>10560</td><td>[292218, 62933, … 358535]</td></tr><tr><td>9376</td><td>[130887, 282312, … 406208]</td></tr><tr><td>7616</td><td>[238217, 365163, … 59993]</td></tr><tr><td>192</td><td>[136020, 222786, … 712200]</td></tr><tr><td>12544</td><td>[273684, 637694, … 385889]</td></tr><tr><td>&hellip;</td><td>&hellip;</td></tr><tr><td>3199</td><td>[258648]</td></tr><tr><td>8671</td><td>[93121]</td></tr><tr><td>9663</td><td>[49805, 4014, … 329159]</td></tr><tr><td>4383</td><td>[3547, 267067, … 22162]</td></tr><tr><td>31</td><td>[401579, 90262, … 400472]</td></tr><tr><td>6143</td><td>[199940, 701537, … 624012]</td></tr><tr><td>2143</td><td>[346971, 651003, … 284895]</td></tr><tr><td>11167</td><td>[64786, 133672, 206754]</td></tr><tr><td>9151</td><td>[310810, 57782, … 42352]</td></tr><tr><td>1311</td><td>[262041, 246943, 315697]</td></tr><tr><td>7295</td><td>[310626, 514093, … 4559]</td></tr><tr><td>10143</td><td>[13502, 157134, … 145885]</td></tr></tbody></table></div>"
      ],
      "text/plain": [
       "shape: (6_138, 2)\n",
       "┌─────────┬───────────────────────────┐\n",
       "│ cate_id ┆ y_rec                     │\n",
       "│ ---     ┆ ---                       │\n",
       "│ i64     ┆ list[i64]                 │\n",
       "╞═════════╪═══════════════════════════╡\n",
       "│ 10112   ┆ [27339, 18836, … 97599]   │\n",
       "│ 7520    ┆ [84543, 256698, … 165374] │\n",
       "│ 800     ┆ [14056, 177207, … 708371] │\n",
       "│ 11136   ┆ [335660, 449081, … 57849] │\n",
       "│ …       ┆ …                         │\n",
       "│ 9151    ┆ [310810, 57782, … 42352]  │\n",
       "│ 1311    ┆ [262041, 246943, 315697]  │\n",
       "│ 7295    ┆ [310626, 514093, … 4559]  │\n",
       "│ 10143   ┆ [13502, 157134, … 145885] │\n",
       "└─────────┴───────────────────────────┘"
      ]
     },
     "execution_count": 13,
     "metadata": {},
     "output_type": "execute_result"
    }
   ],
   "source": [
    "grouped_tops = (\n",
    "    data\n",
    "    .join(ad_features, on='adgroup_id')\n",
    "    # для пары cate_id и adgroup_id вычисляем ctr\n",
    "    .groupby('cate_id', 'adgroup_id')\n",
    "    .agg([\n",
    "        pl.col('clk').mean().alias('ctr'),\n",
    "        pl.count().alias('count')\n",
    "    ])\n",
    "    # уберем те рекламные объявления, которые были показаны всего N раз\n",
    "    .filter(pl.col('count') > 1)\n",
    "    # сгруппируем ctr и adgroup_id в словарь и вызовем функцию get_top_candidates\n",
    "    .with_columns([pl.struct(ctr=pl.col('ctr'), adgroup_id=pl.col('adgroup_id')).alias('struct')])\n",
    "    .groupby('cate_id')\n",
    "    .agg(pl.col('struct').apply(get_top_candidates).alias('y_rec'))\n",
    ")\n",
    "grouped_tops"
   ]
  },
  {
   "cell_type": "code",
   "execution_count": 14,
   "id": "3eb1b128",
   "metadata": {},
   "outputs": [],
   "source": [
    "(\n",
    "    test\n",
    "    .join(behavioral_logs_top_categories, left_on='user_id', right_on='user')\n",
    "    .join(grouped_tops, left_on='cate', right_on='cate_id')\n",
    "    .select('user_id', 'y_rec')\n",
    "    .write_parquet('submission.parquet')\n",
    ")"
   ]
  }
 ],
 "metadata": {
  "kernelspec": {
   "display_name": "Python 3 (ipykernel)",
   "language": "python",
   "name": "python3"
  },
  "language_info": {
   "codemirror_mode": {
    "name": "ipython",
    "version": 3
   },
   "file_extension": ".py",
   "mimetype": "text/x-python",
   "name": "python",
   "nbconvert_exporter": "python",
   "pygments_lexer": "ipython3",
   "version": "3.8.10"
  }
 },
 "nbformat": 4,
 "nbformat_minor": 5
}
