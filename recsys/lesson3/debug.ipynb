{
 "cells": [
  {
   "cell_type": "code",
   "execution_count": 1,
   "metadata": {},
   "outputs": [],
   "source": [
    "from typing import List, Any\n",
    "\n",
    "import numpy as np"
   ]
  },
  {
   "cell_type": "code",
   "execution_count": 129,
   "metadata": {},
   "outputs": [],
   "source": [
    "y_rel: List[Any] = [7, 3, 2, 0, 4, 5, 9, 8, 1, 6]\n",
    "y_rec: List[Any] = []\n",
    "k: int = 20"
   ]
  },
  {
   "cell_type": "code",
   "execution_count": 130,
   "metadata": {},
   "outputs": [
    {
     "data": {
      "text/plain": [
       "(array([], dtype=float64), array([], dtype=float64), 0.0)"
      ]
     },
     "execution_count": 130,
     "metadata": {},
     "output_type": "execute_result"
    }
   ],
   "source": [
    "import solution\n",
    "\n",
    "K = min(len(y_rec[:k]), k)\n",
    "\n",
    "prs = np.array([solution.user_precision(y_rel, y_rec, ki) for ki in np.arange(1, K + 1)])\n",
    "rcs = np.zeros_like(prs, dtype=np.float_)\n",
    "rcs[np.isin(y_rec[:K], y_rel)] = 1\n",
    "\n",
    "prs, rcs, (prs * rcs).sum() / k if k else 0"
   ]
  },
  {
   "cell_type": "code",
   "execution_count": null,
   "metadata": {},
   "outputs": [],
   "source": []
  }
 ],
 "metadata": {
  "kernelspec": {
   "display_name": "recsys",
   "language": "python",
   "name": "python3"
  },
  "language_info": {
   "codemirror_mode": {
    "name": "ipython",
    "version": 3
   },
   "file_extension": ".py",
   "mimetype": "text/x-python",
   "name": "python",
   "nbconvert_exporter": "python",
   "pygments_lexer": "ipython3",
   "version": "3.8.10"
  }
 },
 "nbformat": 4,
 "nbformat_minor": 2
}
