{
  "nbformat": 4,
  "nbformat_minor": 0,
  "metadata": {
    "colab": {
      "provenance": []
    },
    "kernelspec": {
      "name": "python3",
      "display_name": "Python 3"
    },
    "language_info": {
      "name": "python"
    }
  },
  "cells": [
    {
      "cell_type": "code",
      "execution_count": null,
      "metadata": {
        "id": "51QFLO2rabfN"
      },
      "outputs": [],
      "source": [
        "from typing import List, Any\n",
        "\n",
        "import numpy as np"
      ]
    },
    {
      "cell_type": "markdown",
      "source": [
        "## Hitrate@K\n",
        "\n",
        "Такая метрика должна вернуть 1, только если множество релевантных и top-K рекомендаций имеет пересечение"
      ],
      "metadata": {
        "id": "ZxyWlV5TaiB5"
      }
    },
    {
      "cell_type": "code",
      "source": [
        "def user_intersection(y_rel: List[Any], y_rec: List[Any], k: int = 10) -> int:\n",
        "    \"\"\"\n",
        "    :param y_rel: relevant items\n",
        "    :param y_rec: recommended items\n",
        "    :param k: number of top recommended items\n",
        "    :return: number of items in intersection of y_rel and y_rec (truncated to top-K)\n",
        "    \"\"\"\n",
        "    return len(set(y_rec[:k]).intersection(set(y_rel)))\n",
        "\n",
        "\n",
        "def user_hitrate(y_rel: List[Any], y_rec: List[Any], k: int = 10) -> int:\n",
        "    \"\"\"\n",
        "    :param y_rel: relevant items\n",
        "    :param y_rec: recommended items\n",
        "    :param k: number of top recommended items\n",
        "    :return: 1 if top-k recommendations contains at lease one relevant item\n",
        "    \"\"\"\n",
        "    return int(user_intersection(y_rel, y_rec, k) > 0)"
      ],
      "metadata": {
        "id": "wykEuDIYaf5g"
      },
      "execution_count": null,
      "outputs": []
    },
    {
      "cell_type": "markdown",
      "source": [
        "## Precision@K\n",
        "\n",
        "Метрика является отношением числа релевантных рекомендаций к числу рекомендованных объектов\n",
        "\n",
        "Precision@K = $\\frac{|y_{rel} \\cap y_{rec}|}{|y_{rec}|} = \\frac{|y_{rel} \\cap y_{rec}|}{K}$"
      ],
      "metadata": {
        "id": "AYHDyASAatpK"
      }
    },
    {
      "cell_type": "code",
      "source": [
        "def user_precision(y_rel: List[Any], y_rec: List[Any], k: int = 10) -> float:\n",
        "    \"\"\"\n",
        "    :param y_rel: relevant items\n",
        "    :param y_rec: recommended items\n",
        "    :param k: number of top recommended items\n",
        "    :return: percentage of relevant items through recommendations\n",
        "    \"\"\"\n",
        "    return user_intersection(y_rel, y_rec, k) / k"
      ],
      "metadata": {
        "id": "mpN1yG2Dafj3"
      },
      "execution_count": null,
      "outputs": []
    },
    {
      "cell_type": "markdown",
      "source": [
        "## Recall@K\n",
        "\n",
        "Метрика является отношением числа релевантных рекомендаций к числу релевантных объектов\n",
        "\n",
        "Recall@K = $\\frac{|y_{rel} \\cap y_{rec}|}{|y_{rel}|}$"
      ],
      "metadata": {
        "id": "G18vpnFqbCfG"
      }
    },
    {
      "cell_type": "code",
      "source": [
        "def user_recall(y_rel: List[Any], y_rec: List[Any], k: int = 10) -> float:\n",
        "    \"\"\"\n",
        "    :param y_rel: relevant items\n",
        "    :param y_rec: recommended items\n",
        "    :param k: number of top recommended items\n",
        "    :return: percentage of found relevant items through recommendations\n",
        "    \"\"\"\n",
        "    return user_intersection(y_rel, y_rec, k) / len(set(y_rel))"
      ],
      "metadata": {
        "id": "bAKkOYrZbBD2"
      },
      "execution_count": null,
      "outputs": []
    },
    {
      "cell_type": "markdown",
      "source": [
        "## AP@K\n",
        "\n",
        "Для подсчета AP@K нужно просуммировать Precision@k по индексам k от 1 до K только для **релевантных** элементов, деленому на K\n",
        "\n",
        "Например, если из топ-3 рекомендаций только первый релевантный, то AP@3 = $\\frac{1}{3} (1 / 1 + 0 + 0) = \\frac{1}{3}$\n",
        "\n",
        "Если релевантный только последний, то AP@3 = $\\frac{1}{3} (0 + 0 + 1 / 3) = \\frac{1}{9}$"
      ],
      "metadata": {
        "id": "d1RsoBorbKG0"
      }
    },
    {
      "cell_type": "code",
      "source": [
        "def user_ap(y_rel: List[Any], y_rec: List[Any], k: int = 10) -> float:\n",
        "    \"\"\"\n",
        "    :param y_rel: relevant items\n",
        "    :param y_rec: recommended items\n",
        "    :param k: number of top recommended items\n",
        "    :return: average precision metric for user recommendations\n",
        "    \"\"\"\n",
        "    return np.sum([\n",
        "        user_precision(y_rel, y_rec, idx + 1)\n",
        "        for idx, item in enumerate(y_rec[:k]) if item in y_rel\n",
        "    ]) / k\n"
      ],
      "metadata": {
        "id": "zKVTb_gybAiZ"
      },
      "execution_count": null,
      "outputs": []
    },
    {
      "cell_type": "markdown",
      "source": [
        "## RR@K\n",
        "\n",
        "Метрика равна $\\frac{1}{pos}$, где pos – индекс первой релевантной позиции (нумерация с 1)\n",
        "\n",
        "Если же релевантных объектов вообще нет, то метрика равна 0"
      ],
      "metadata": {
        "id": "yMA8KUnccIRE"
      }
    },
    {
      "cell_type": "code",
      "source": [
        "def user_rr(y_rel: List[Any], y_rec: List[Any], k: int = 10) -> float:\n",
        "    \"\"\"\n",
        "    :param y_rel: relevant items\n",
        "    :param y_rec: recommended items\n",
        "    :param k: number of top recommended items\n",
        "    :return: reciprocal rank for user recommendations\n",
        "    \"\"\"\n",
        "    for idx, item in enumerate(y_rec[:k]):\n",
        "        if item in y_rel:\n",
        "            return 1 / (idx + 1)\n",
        "    return 0"
      ],
      "metadata": {
        "id": "DevUBArOcIlZ"
      },
      "execution_count": null,
      "outputs": []
    },
    {
      "cell_type": "markdown",
      "source": [
        "## NDCG@K\n",
        "\n",
        "Метрика DCG@K является взвешенной суммой по тем позициям, где рекомендованный объект релевантный (вес равен $\\frac{1}{\\log{pos}}$)\n",
        "\n",
        "В качестве нормировки посчитаем метрику iDCG@K, которая равна взвешенной сумме всех позиций (но не больше числа релевантных объектов)\n",
        "\n",
        "Тоогда метрика NDCG@K = $\\frac{DCG@K}{iDCG@K}$"
      ],
      "metadata": {
        "id": "3QPfLOD0cD82"
      }
    },
    {
      "cell_type": "code",
      "source": [
        "def user_ndcg(y_rel: List[Any], y_rec: List[Any], k: int = 10) -> float:\n",
        "    \"\"\"\n",
        "    :param y_rel: relevant items\n",
        "    :param y_rec: recommended items\n",
        "    :param k: number of top recommended items\n",
        "    :return: ndcg metric for user recommendations\n",
        "    \"\"\"\n",
        "    dcg = sum([1. / np.log2(idx + 2) for idx, item in enumerate(y_rec[:k]) if item in y_rel])\n",
        "    idcg = sum([1. / np.log2(idx + 2) for idx, _ in enumerate(zip(y_rel, np.arange(k)))])\n",
        "    return dcg / idcg\n",
        "\n"
      ],
      "metadata": {
        "id": "W96wSkSIcCmx"
      },
      "execution_count": null,
      "outputs": []
    }
  ]
}